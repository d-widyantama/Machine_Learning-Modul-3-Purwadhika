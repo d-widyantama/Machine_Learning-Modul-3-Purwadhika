{
 "cells": [
  {
   "cell_type": "markdown",
   "metadata": {},
   "source": [
    "# Model Evaluation Method\n",
    "---"
   ]
  },
  {
   "cell_type": "markdown",
   "metadata": {},
   "source": [
    "## Validation Set\n",
    "\n",
    "Splitting data into training and validation sets is a good way to avoid overfitting. We can use the validation set to evaluate the model performance and tune the hyperparameters."
   ]
  },
  {
   "cell_type": "markdown",
   "metadata": {},
   "source": [
    "## **Cross Validation**\n",
    "\n",
    "Cross validation is a technique to evaluate predictive models by partitioning the original sample into a training set to train the model, and a test set to evaluate it. The main idea is to create a number of partitions of the data set, and then run the model on each partition, using one partition as the test set and the rest as the training set. The results are then averaged over the partitions."
   ]
  },
  {
   "cell_type": "markdown",
   "metadata": {},
   "source": [
    "For example we have 1000 data points, we split into 800 for train and 200 for test, we then split 800 into 650 for train and 150 into test within the train and test again by resampling the 650 data points, then we run the model on each of the 200 data points, and average the results.\n",
    "\n",
    "## K-Fold Cross Validation\n",
    "\n",
    "K-Fold Cross Validation is a common type of cross validation. It splits the data into K partitions of equal size. Each partition is used once as the test set, while the rest are used as the training set. The results are then averaged over the K trials. (Normally 5 or 10) folds are used.\n"
   ]
  },
  {
   "cell_type": "markdown",
   "metadata": {},
   "source": [
    "## Leave One Out Cross Validation (LOOCV)\n",
    "\n",
    "LOOCV is a special case of K-Fold Cross Validation, where K is equal to the number of data points. It is computationally expensive, but it is useful for small datasets."
   ]
  },
  {
   "cell_type": "code",
   "execution_count": null,
   "metadata": {},
   "outputs": [],
   "source": []
  }
 ],
 "metadata": {
  "kernelspec": {
   "display_name": ".venv",
   "language": "python",
   "name": "python3"
  },
  "language_info": {
   "name": "python",
   "version": "3.11.4"
  },
  "orig_nbformat": 4
 },
 "nbformat": 4,
 "nbformat_minor": 2
}
