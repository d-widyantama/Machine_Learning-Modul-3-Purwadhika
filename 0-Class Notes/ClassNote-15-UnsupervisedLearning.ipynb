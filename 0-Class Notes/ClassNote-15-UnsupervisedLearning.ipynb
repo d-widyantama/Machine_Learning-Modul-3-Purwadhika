{
 "cells": [
  {
   "cell_type": "markdown",
   "metadata": {},
   "source": [
    "13 Oct 2023\n",
    "# Unsupervised Learning\n",
    "---"
   ]
  },
  {
   "cell_type": "markdown",
   "metadata": {},
   "source": [
    "No target / no prediction, only working with features (X)\n",
    "\n",
    "Output: How X interact or correlate with each other"
   ]
  },
  {
   "cell_type": "markdown",
   "metadata": {},
   "source": [
    "Use case: \n",
    "- Clustering\n",
    "- Dimensionality reduction\n",
    "- Anomaly detection"
   ]
  },
  {
   "cell_type": "markdown",
   "metadata": {},
   "source": [
    "**Unsupervised Transformation**\n",
    "- Dimensional Reduction\n",
    "- Feature Extraction\n",
    "\n",
    "**Clustering Algorithm**\n",
    "- Non Hierarchical\n",
    "- Hierarchical"
   ]
  },
  {
   "cell_type": "markdown",
   "metadata": {},
   "source": [
    "## Dimensional Reduction\n",
    "---"
   ]
  },
  {
   "cell_type": "markdown",
   "metadata": {},
   "source": [
    "Reduce features to lower dimension, that then can be applied for visualization.\n",
    "\n",
    "Suppose we have 6 features, then we can reduce it to 3 features, and then we can plot it in 3D.\n",
    "\n",
    "Advantages:\n",
    "- Visualization\n",
    "- Better data representation\n",
    "- Compressing Data Size\n",
    "\n",
    "Methods:\n",
    "- Principal Component Analysis (PCA) -> Utilize correlation between features\n",
    "- Linear Discriminant Analysis (LDA)\n",
    "\n"
   ]
  },
  {
   "cell_type": "code",
   "execution_count": 25,
   "metadata": {},
   "outputs": [],
   "source": [
    "#Library \n",
    "\n",
    "## EDA Standard Libary\n",
    "\n",
    "import pandas as pd\n",
    "import numpy as np\n",
    "import matplotlib.pyplot as plt\n",
    "import seaborn as sns\n",
    "import statsmodels.stats as ss"
   ]
  },
  {
   "cell_type": "code",
   "execution_count": 26,
   "metadata": {},
   "outputs": [],
   "source": [
    "\n",
    "\n",
    "from sklearn.datasets import load_breast_cancer\n",
    "\n",
    "#Scaler & PCA Library\n",
    "from sklearn.preprocessing import StandardScaler\n",
    "\n",
    "from sklearn.decomposition import PCA"
   ]
  },
  {
   "cell_type": "code",
   "execution_count": 27,
   "metadata": {},
   "outputs": [],
   "source": [
    "#Load Data\n",
    "cancer = load_breast_cancer()\n",
    "df = pd.DataFrame(cancer['data'], columns=cancer['feature_names'])"
   ]
  },
  {
   "cell_type": "code",
   "execution_count": 28,
   "metadata": {},
   "outputs": [
    {
     "data": {
      "text/html": [
       "<div>\n",
       "<style scoped>\n",
       "    .dataframe tbody tr th:only-of-type {\n",
       "        vertical-align: middle;\n",
       "    }\n",
       "\n",
       "    .dataframe tbody tr th {\n",
       "        vertical-align: top;\n",
       "    }\n",
       "\n",
       "    .dataframe thead th {\n",
       "        text-align: right;\n",
       "    }\n",
       "</style>\n",
       "<table border=\"1\" class=\"dataframe\">\n",
       "  <thead>\n",
       "    <tr style=\"text-align: right;\">\n",
       "      <th></th>\n",
       "      <th>mean radius</th>\n",
       "      <th>mean texture</th>\n",
       "      <th>mean perimeter</th>\n",
       "      <th>mean area</th>\n",
       "      <th>mean smoothness</th>\n",
       "      <th>mean compactness</th>\n",
       "      <th>mean concavity</th>\n",
       "      <th>mean concave points</th>\n",
       "      <th>mean symmetry</th>\n",
       "      <th>mean fractal dimension</th>\n",
       "      <th>...</th>\n",
       "      <th>worst radius</th>\n",
       "      <th>worst texture</th>\n",
       "      <th>worst perimeter</th>\n",
       "      <th>worst area</th>\n",
       "      <th>worst smoothness</th>\n",
       "      <th>worst compactness</th>\n",
       "      <th>worst concavity</th>\n",
       "      <th>worst concave points</th>\n",
       "      <th>worst symmetry</th>\n",
       "      <th>worst fractal dimension</th>\n",
       "    </tr>\n",
       "  </thead>\n",
       "  <tbody>\n",
       "    <tr>\n",
       "      <th>0</th>\n",
       "      <td>17.99</td>\n",
       "      <td>10.38</td>\n",
       "      <td>122.80</td>\n",
       "      <td>1001.0</td>\n",
       "      <td>0.11840</td>\n",
       "      <td>0.27760</td>\n",
       "      <td>0.3001</td>\n",
       "      <td>0.14710</td>\n",
       "      <td>0.2419</td>\n",
       "      <td>0.07871</td>\n",
       "      <td>...</td>\n",
       "      <td>25.38</td>\n",
       "      <td>17.33</td>\n",
       "      <td>184.60</td>\n",
       "      <td>2019.0</td>\n",
       "      <td>0.1622</td>\n",
       "      <td>0.6656</td>\n",
       "      <td>0.7119</td>\n",
       "      <td>0.2654</td>\n",
       "      <td>0.4601</td>\n",
       "      <td>0.11890</td>\n",
       "    </tr>\n",
       "    <tr>\n",
       "      <th>1</th>\n",
       "      <td>20.57</td>\n",
       "      <td>17.77</td>\n",
       "      <td>132.90</td>\n",
       "      <td>1326.0</td>\n",
       "      <td>0.08474</td>\n",
       "      <td>0.07864</td>\n",
       "      <td>0.0869</td>\n",
       "      <td>0.07017</td>\n",
       "      <td>0.1812</td>\n",
       "      <td>0.05667</td>\n",
       "      <td>...</td>\n",
       "      <td>24.99</td>\n",
       "      <td>23.41</td>\n",
       "      <td>158.80</td>\n",
       "      <td>1956.0</td>\n",
       "      <td>0.1238</td>\n",
       "      <td>0.1866</td>\n",
       "      <td>0.2416</td>\n",
       "      <td>0.1860</td>\n",
       "      <td>0.2750</td>\n",
       "      <td>0.08902</td>\n",
       "    </tr>\n",
       "    <tr>\n",
       "      <th>2</th>\n",
       "      <td>19.69</td>\n",
       "      <td>21.25</td>\n",
       "      <td>130.00</td>\n",
       "      <td>1203.0</td>\n",
       "      <td>0.10960</td>\n",
       "      <td>0.15990</td>\n",
       "      <td>0.1974</td>\n",
       "      <td>0.12790</td>\n",
       "      <td>0.2069</td>\n",
       "      <td>0.05999</td>\n",
       "      <td>...</td>\n",
       "      <td>23.57</td>\n",
       "      <td>25.53</td>\n",
       "      <td>152.50</td>\n",
       "      <td>1709.0</td>\n",
       "      <td>0.1444</td>\n",
       "      <td>0.4245</td>\n",
       "      <td>0.4504</td>\n",
       "      <td>0.2430</td>\n",
       "      <td>0.3613</td>\n",
       "      <td>0.08758</td>\n",
       "    </tr>\n",
       "    <tr>\n",
       "      <th>3</th>\n",
       "      <td>11.42</td>\n",
       "      <td>20.38</td>\n",
       "      <td>77.58</td>\n",
       "      <td>386.1</td>\n",
       "      <td>0.14250</td>\n",
       "      <td>0.28390</td>\n",
       "      <td>0.2414</td>\n",
       "      <td>0.10520</td>\n",
       "      <td>0.2597</td>\n",
       "      <td>0.09744</td>\n",
       "      <td>...</td>\n",
       "      <td>14.91</td>\n",
       "      <td>26.50</td>\n",
       "      <td>98.87</td>\n",
       "      <td>567.7</td>\n",
       "      <td>0.2098</td>\n",
       "      <td>0.8663</td>\n",
       "      <td>0.6869</td>\n",
       "      <td>0.2575</td>\n",
       "      <td>0.6638</td>\n",
       "      <td>0.17300</td>\n",
       "    </tr>\n",
       "    <tr>\n",
       "      <th>4</th>\n",
       "      <td>20.29</td>\n",
       "      <td>14.34</td>\n",
       "      <td>135.10</td>\n",
       "      <td>1297.0</td>\n",
       "      <td>0.10030</td>\n",
       "      <td>0.13280</td>\n",
       "      <td>0.1980</td>\n",
       "      <td>0.10430</td>\n",
       "      <td>0.1809</td>\n",
       "      <td>0.05883</td>\n",
       "      <td>...</td>\n",
       "      <td>22.54</td>\n",
       "      <td>16.67</td>\n",
       "      <td>152.20</td>\n",
       "      <td>1575.0</td>\n",
       "      <td>0.1374</td>\n",
       "      <td>0.2050</td>\n",
       "      <td>0.4000</td>\n",
       "      <td>0.1625</td>\n",
       "      <td>0.2364</td>\n",
       "      <td>0.07678</td>\n",
       "    </tr>\n",
       "  </tbody>\n",
       "</table>\n",
       "<p>5 rows × 30 columns</p>\n",
       "</div>"
      ],
      "text/plain": [
       "   mean radius  mean texture  mean perimeter  mean area  mean smoothness  \\\n",
       "0        17.99         10.38          122.80     1001.0          0.11840   \n",
       "1        20.57         17.77          132.90     1326.0          0.08474   \n",
       "2        19.69         21.25          130.00     1203.0          0.10960   \n",
       "3        11.42         20.38           77.58      386.1          0.14250   \n",
       "4        20.29         14.34          135.10     1297.0          0.10030   \n",
       "\n",
       "   mean compactness  mean concavity  mean concave points  mean symmetry  \\\n",
       "0           0.27760          0.3001              0.14710         0.2419   \n",
       "1           0.07864          0.0869              0.07017         0.1812   \n",
       "2           0.15990          0.1974              0.12790         0.2069   \n",
       "3           0.28390          0.2414              0.10520         0.2597   \n",
       "4           0.13280          0.1980              0.10430         0.1809   \n",
       "\n",
       "   mean fractal dimension  ...  worst radius  worst texture  worst perimeter  \\\n",
       "0                 0.07871  ...         25.38          17.33           184.60   \n",
       "1                 0.05667  ...         24.99          23.41           158.80   \n",
       "2                 0.05999  ...         23.57          25.53           152.50   \n",
       "3                 0.09744  ...         14.91          26.50            98.87   \n",
       "4                 0.05883  ...         22.54          16.67           152.20   \n",
       "\n",
       "   worst area  worst smoothness  worst compactness  worst concavity  \\\n",
       "0      2019.0            0.1622             0.6656           0.7119   \n",
       "1      1956.0            0.1238             0.1866           0.2416   \n",
       "2      1709.0            0.1444             0.4245           0.4504   \n",
       "3       567.7            0.2098             0.8663           0.6869   \n",
       "4      1575.0            0.1374             0.2050           0.4000   \n",
       "\n",
       "   worst concave points  worst symmetry  worst fractal dimension  \n",
       "0                0.2654          0.4601                  0.11890  \n",
       "1                0.1860          0.2750                  0.08902  \n",
       "2                0.2430          0.3613                  0.08758  \n",
       "3                0.2575          0.6638                  0.17300  \n",
       "4                0.1625          0.2364                  0.07678  \n",
       "\n",
       "[5 rows x 30 columns]"
      ]
     },
     "execution_count": 28,
     "metadata": {},
     "output_type": "execute_result"
    }
   ],
   "source": [
    "df.head()"
   ]
  },
  {
   "cell_type": "code",
   "execution_count": 29,
   "metadata": {},
   "outputs": [
    {
     "data": {
      "text/plain": [
       "Index(['mean radius', 'mean texture', 'mean perimeter', 'mean area',\n",
       "       'mean smoothness', 'mean compactness', 'mean concavity',\n",
       "       'mean concave points', 'mean symmetry', 'mean fractal dimension',\n",
       "       'radius error', 'texture error', 'perimeter error', 'area error',\n",
       "       'smoothness error', 'compactness error', 'concavity error',\n",
       "       'concave points error', 'symmetry error', 'fractal dimension error',\n",
       "       'worst radius', 'worst texture', 'worst perimeter', 'worst area',\n",
       "       'worst smoothness', 'worst compactness', 'worst concavity',\n",
       "       'worst concave points', 'worst symmetry', 'worst fractal dimension'],\n",
       "      dtype='object')"
      ]
     },
     "execution_count": 29,
     "metadata": {},
     "output_type": "execute_result"
    }
   ],
   "source": [
    "df.columns"
   ]
  },
  {
   "cell_type": "code",
   "execution_count": 42,
   "metadata": {},
   "outputs": [
    {
     "data": {
      "text/html": [
       "<div>\n",
       "<style scoped>\n",
       "    .dataframe tbody tr th:only-of-type {\n",
       "        vertical-align: middle;\n",
       "    }\n",
       "\n",
       "    .dataframe tbody tr th {\n",
       "        vertical-align: top;\n",
       "    }\n",
       "\n",
       "    .dataframe thead th {\n",
       "        text-align: right;\n",
       "    }\n",
       "</style>\n",
       "<table border=\"1\" class=\"dataframe\">\n",
       "  <thead>\n",
       "    <tr style=\"text-align: right;\">\n",
       "      <th></th>\n",
       "      <th>0</th>\n",
       "      <th>1</th>\n",
       "      <th>2</th>\n",
       "      <th>3</th>\n",
       "      <th>4</th>\n",
       "      <th>5</th>\n",
       "      <th>6</th>\n",
       "      <th>7</th>\n",
       "      <th>8</th>\n",
       "      <th>9</th>\n",
       "      <th>...</th>\n",
       "      <th>20</th>\n",
       "      <th>21</th>\n",
       "      <th>22</th>\n",
       "      <th>23</th>\n",
       "      <th>24</th>\n",
       "      <th>25</th>\n",
       "      <th>26</th>\n",
       "      <th>27</th>\n",
       "      <th>28</th>\n",
       "      <th>29</th>\n",
       "    </tr>\n",
       "  </thead>\n",
       "  <tbody>\n",
       "    <tr>\n",
       "      <th>0</th>\n",
       "      <td>1160.142574</td>\n",
       "      <td>-293.917544</td>\n",
       "      <td>48.578398</td>\n",
       "      <td>-8.711975</td>\n",
       "      <td>32.000486</td>\n",
       "      <td>1.265415</td>\n",
       "      <td>0.931337</td>\n",
       "      <td>0.148167</td>\n",
       "      <td>0.745463</td>\n",
       "      <td>0.589359</td>\n",
       "      <td>...</td>\n",
       "      <td>0.021189</td>\n",
       "      <td>0.000241</td>\n",
       "      <td>0.002528</td>\n",
       "      <td>0.011560</td>\n",
       "      <td>0.005773</td>\n",
       "      <td>0.001377</td>\n",
       "      <td>-0.001982</td>\n",
       "      <td>0.001293</td>\n",
       "      <td>0.001989</td>\n",
       "      <td>0.000704</td>\n",
       "    </tr>\n",
       "    <tr>\n",
       "      <th>1</th>\n",
       "      <td>1269.122443</td>\n",
       "      <td>15.630182</td>\n",
       "      <td>-35.394534</td>\n",
       "      <td>17.861283</td>\n",
       "      <td>-4.334874</td>\n",
       "      <td>-0.225872</td>\n",
       "      <td>-0.046037</td>\n",
       "      <td>0.200804</td>\n",
       "      <td>-0.485828</td>\n",
       "      <td>-0.084035</td>\n",
       "      <td>...</td>\n",
       "      <td>0.005237</td>\n",
       "      <td>0.021069</td>\n",
       "      <td>0.001565</td>\n",
       "      <td>0.006968</td>\n",
       "      <td>-0.006978</td>\n",
       "      <td>0.001411</td>\n",
       "      <td>-0.000083</td>\n",
       "      <td>-0.001347</td>\n",
       "      <td>0.000686</td>\n",
       "      <td>-0.001061</td>\n",
       "    </tr>\n",
       "    <tr>\n",
       "      <th>2</th>\n",
       "      <td>995.793889</td>\n",
       "      <td>39.156743</td>\n",
       "      <td>-1.709753</td>\n",
       "      <td>4.199340</td>\n",
       "      <td>-0.466529</td>\n",
       "      <td>-2.652811</td>\n",
       "      <td>-0.779745</td>\n",
       "      <td>-0.274026</td>\n",
       "      <td>-0.173874</td>\n",
       "      <td>-0.186994</td>\n",
       "      <td>...</td>\n",
       "      <td>-0.009865</td>\n",
       "      <td>-0.002394</td>\n",
       "      <td>-0.004125</td>\n",
       "      <td>-0.004007</td>\n",
       "      <td>0.000709</td>\n",
       "      <td>-0.003781</td>\n",
       "      <td>0.000178</td>\n",
       "      <td>0.000018</td>\n",
       "      <td>-0.000775</td>\n",
       "      <td>0.000405</td>\n",
       "    </tr>\n",
       "    <tr>\n",
       "      <th>3</th>\n",
       "      <td>-407.180803</td>\n",
       "      <td>-67.380320</td>\n",
       "      <td>8.672848</td>\n",
       "      <td>-11.759867</td>\n",
       "      <td>7.115461</td>\n",
       "      <td>1.299436</td>\n",
       "      <td>-1.267304</td>\n",
       "      <td>-0.060555</td>\n",
       "      <td>-0.330639</td>\n",
       "      <td>-0.144155</td>\n",
       "      <td>...</td>\n",
       "      <td>0.011169</td>\n",
       "      <td>0.007063</td>\n",
       "      <td>0.001537</td>\n",
       "      <td>0.007003</td>\n",
       "      <td>-0.010261</td>\n",
       "      <td>-0.002899</td>\n",
       "      <td>0.000016</td>\n",
       "      <td>0.001369</td>\n",
       "      <td>-0.002139</td>\n",
       "      <td>-0.001657</td>\n",
       "    </tr>\n",
       "    <tr>\n",
       "      <th>4</th>\n",
       "      <td>930.341180</td>\n",
       "      <td>189.340742</td>\n",
       "      <td>1.374801</td>\n",
       "      <td>8.499183</td>\n",
       "      <td>7.613289</td>\n",
       "      <td>1.021160</td>\n",
       "      <td>-0.335522</td>\n",
       "      <td>0.289109</td>\n",
       "      <td>0.036087</td>\n",
       "      <td>-0.138502</td>\n",
       "      <td>...</td>\n",
       "      <td>-0.009916</td>\n",
       "      <td>0.010269</td>\n",
       "      <td>0.002204</td>\n",
       "      <td>0.002764</td>\n",
       "      <td>0.002455</td>\n",
       "      <td>0.001665</td>\n",
       "      <td>0.003290</td>\n",
       "      <td>0.000273</td>\n",
       "      <td>0.001783</td>\n",
       "      <td>0.000327</td>\n",
       "    </tr>\n",
       "    <tr>\n",
       "      <th>...</th>\n",
       "      <td>...</td>\n",
       "      <td>...</td>\n",
       "      <td>...</td>\n",
       "      <td>...</td>\n",
       "      <td>...</td>\n",
       "      <td>...</td>\n",
       "      <td>...</td>\n",
       "      <td>...</td>\n",
       "      <td>...</td>\n",
       "      <td>...</td>\n",
       "      <td>...</td>\n",
       "      <td>...</td>\n",
       "      <td>...</td>\n",
       "      <td>...</td>\n",
       "      <td>...</td>\n",
       "      <td>...</td>\n",
       "      <td>...</td>\n",
       "      <td>...</td>\n",
       "      <td>...</td>\n",
       "      <td>...</td>\n",
       "      <td>...</td>\n",
       "    </tr>\n",
       "    <tr>\n",
       "      <th>564</th>\n",
       "      <td>1414.126684</td>\n",
       "      <td>110.222492</td>\n",
       "      <td>40.065944</td>\n",
       "      <td>6.562240</td>\n",
       "      <td>-5.102856</td>\n",
       "      <td>-0.395424</td>\n",
       "      <td>-0.786751</td>\n",
       "      <td>0.037082</td>\n",
       "      <td>-0.452530</td>\n",
       "      <td>-0.235185</td>\n",
       "      <td>...</td>\n",
       "      <td>-0.017214</td>\n",
       "      <td>0.007864</td>\n",
       "      <td>-0.002317</td>\n",
       "      <td>-0.002384</td>\n",
       "      <td>-0.003637</td>\n",
       "      <td>-0.008211</td>\n",
       "      <td>0.002418</td>\n",
       "      <td>0.001234</td>\n",
       "      <td>-0.000078</td>\n",
       "      <td>-0.000455</td>\n",
       "    </tr>\n",
       "    <tr>\n",
       "      <th>565</th>\n",
       "      <td>1045.018854</td>\n",
       "      <td>77.057589</td>\n",
       "      <td>0.036669</td>\n",
       "      <td>-4.753245</td>\n",
       "      <td>-12.417863</td>\n",
       "      <td>-0.059637</td>\n",
       "      <td>0.449831</td>\n",
       "      <td>0.509154</td>\n",
       "      <td>-0.449986</td>\n",
       "      <td>0.493247</td>\n",
       "      <td>...</td>\n",
       "      <td>0.011219</td>\n",
       "      <td>-0.001905</td>\n",
       "      <td>-0.003028</td>\n",
       "      <td>-0.007931</td>\n",
       "      <td>0.002905</td>\n",
       "      <td>-0.002519</td>\n",
       "      <td>0.000212</td>\n",
       "      <td>0.001006</td>\n",
       "      <td>-0.000621</td>\n",
       "      <td>-0.000741</td>\n",
       "    </tr>\n",
       "    <tr>\n",
       "      <th>566</th>\n",
       "      <td>314.501756</td>\n",
       "      <td>47.553525</td>\n",
       "      <td>-10.442407</td>\n",
       "      <td>-9.771881</td>\n",
       "      <td>-6.156213</td>\n",
       "      <td>-0.870726</td>\n",
       "      <td>-2.166493</td>\n",
       "      <td>-0.442279</td>\n",
       "      <td>-0.097398</td>\n",
       "      <td>-0.144667</td>\n",
       "      <td>...</td>\n",
       "      <td>-0.003362</td>\n",
       "      <td>-0.002249</td>\n",
       "      <td>-0.001248</td>\n",
       "      <td>-0.003927</td>\n",
       "      <td>-0.000921</td>\n",
       "      <td>0.000573</td>\n",
       "      <td>-0.001325</td>\n",
       "      <td>0.000025</td>\n",
       "      <td>0.000484</td>\n",
       "      <td>-0.000285</td>\n",
       "    </tr>\n",
       "    <tr>\n",
       "      <th>567</th>\n",
       "      <td>1124.858115</td>\n",
       "      <td>34.129225</td>\n",
       "      <td>-19.742087</td>\n",
       "      <td>-23.660881</td>\n",
       "      <td>3.565133</td>\n",
       "      <td>4.086390</td>\n",
       "      <td>-1.705401</td>\n",
       "      <td>-0.359964</td>\n",
       "      <td>0.385030</td>\n",
       "      <td>0.615467</td>\n",
       "      <td>...</td>\n",
       "      <td>-0.006130</td>\n",
       "      <td>-0.010804</td>\n",
       "      <td>0.005841</td>\n",
       "      <td>0.001127</td>\n",
       "      <td>-0.002646</td>\n",
       "      <td>0.001862</td>\n",
       "      <td>0.002698</td>\n",
       "      <td>0.001235</td>\n",
       "      <td>-0.000809</td>\n",
       "      <td>0.001217</td>\n",
       "    </tr>\n",
       "    <tr>\n",
       "      <th>568</th>\n",
       "      <td>-771.527622</td>\n",
       "      <td>-88.643106</td>\n",
       "      <td>23.889032</td>\n",
       "      <td>2.547249</td>\n",
       "      <td>-14.717566</td>\n",
       "      <td>4.418123</td>\n",
       "      <td>-2.815752</td>\n",
       "      <td>0.030039</td>\n",
       "      <td>-0.423451</td>\n",
       "      <td>-0.301439</td>\n",
       "      <td>...</td>\n",
       "      <td>0.018435</td>\n",
       "      <td>-0.009224</td>\n",
       "      <td>0.000242</td>\n",
       "      <td>0.011529</td>\n",
       "      <td>0.012745</td>\n",
       "      <td>0.003539</td>\n",
       "      <td>0.001129</td>\n",
       "      <td>-0.004446</td>\n",
       "      <td>0.000243</td>\n",
       "      <td>0.001468</td>\n",
       "    </tr>\n",
       "  </tbody>\n",
       "</table>\n",
       "<p>569 rows × 30 columns</p>\n",
       "</div>"
      ],
      "text/plain": [
       "              0           1          2          3          4         5   \\\n",
       "0    1160.142574 -293.917544  48.578398  -8.711975  32.000486  1.265415   \n",
       "1    1269.122443   15.630182 -35.394534  17.861283  -4.334874 -0.225872   \n",
       "2     995.793889   39.156743  -1.709753   4.199340  -0.466529 -2.652811   \n",
       "3    -407.180803  -67.380320   8.672848 -11.759867   7.115461  1.299436   \n",
       "4     930.341180  189.340742   1.374801   8.499183   7.613289  1.021160   \n",
       "..           ...         ...        ...        ...        ...       ...   \n",
       "564  1414.126684  110.222492  40.065944   6.562240  -5.102856 -0.395424   \n",
       "565  1045.018854   77.057589   0.036669  -4.753245 -12.417863 -0.059637   \n",
       "566   314.501756   47.553525 -10.442407  -9.771881  -6.156213 -0.870726   \n",
       "567  1124.858115   34.129225 -19.742087 -23.660881   3.565133  4.086390   \n",
       "568  -771.527622  -88.643106  23.889032   2.547249 -14.717566  4.418123   \n",
       "\n",
       "           6         7         8         9   ...        20        21  \\\n",
       "0    0.931337  0.148167  0.745463  0.589359  ...  0.021189  0.000241   \n",
       "1   -0.046037  0.200804 -0.485828 -0.084035  ...  0.005237  0.021069   \n",
       "2   -0.779745 -0.274026 -0.173874 -0.186994  ... -0.009865 -0.002394   \n",
       "3   -1.267304 -0.060555 -0.330639 -0.144155  ...  0.011169  0.007063   \n",
       "4   -0.335522  0.289109  0.036087 -0.138502  ... -0.009916  0.010269   \n",
       "..        ...       ...       ...       ...  ...       ...       ...   \n",
       "564 -0.786751  0.037082 -0.452530 -0.235185  ... -0.017214  0.007864   \n",
       "565  0.449831  0.509154 -0.449986  0.493247  ...  0.011219 -0.001905   \n",
       "566 -2.166493 -0.442279 -0.097398 -0.144667  ... -0.003362 -0.002249   \n",
       "567 -1.705401 -0.359964  0.385030  0.615467  ... -0.006130 -0.010804   \n",
       "568 -2.815752  0.030039 -0.423451 -0.301439  ...  0.018435 -0.009224   \n",
       "\n",
       "           22        23        24        25        26        27        28  \\\n",
       "0    0.002528  0.011560  0.005773  0.001377 -0.001982  0.001293  0.001989   \n",
       "1    0.001565  0.006968 -0.006978  0.001411 -0.000083 -0.001347  0.000686   \n",
       "2   -0.004125 -0.004007  0.000709 -0.003781  0.000178  0.000018 -0.000775   \n",
       "3    0.001537  0.007003 -0.010261 -0.002899  0.000016  0.001369 -0.002139   \n",
       "4    0.002204  0.002764  0.002455  0.001665  0.003290  0.000273  0.001783   \n",
       "..        ...       ...       ...       ...       ...       ...       ...   \n",
       "564 -0.002317 -0.002384 -0.003637 -0.008211  0.002418  0.001234 -0.000078   \n",
       "565 -0.003028 -0.007931  0.002905 -0.002519  0.000212  0.001006 -0.000621   \n",
       "566 -0.001248 -0.003927 -0.000921  0.000573 -0.001325  0.000025  0.000484   \n",
       "567  0.005841  0.001127 -0.002646  0.001862  0.002698  0.001235 -0.000809   \n",
       "568  0.000242  0.011529  0.012745  0.003539  0.001129 -0.004446  0.000243   \n",
       "\n",
       "           29  \n",
       "0    0.000704  \n",
       "1   -0.001061  \n",
       "2    0.000405  \n",
       "3   -0.001657  \n",
       "4    0.000327  \n",
       "..        ...  \n",
       "564 -0.000455  \n",
       "565 -0.000741  \n",
       "566 -0.000285  \n",
       "567  0.001217  \n",
       "568  0.001468  \n",
       "\n",
       "[569 rows x 30 columns]"
      ]
     },
     "execution_count": 42,
     "metadata": {},
     "output_type": "execute_result"
    }
   ],
   "source": [
    "#PCA \n",
    "\n",
    "pca = PCA(n_components=30)\n",
    "x_pca = pca.fit_transform(df)\n",
    "pd.DataFrame(x_pca)"
   ]
  },
  {
   "cell_type": "code",
   "execution_count": 43,
   "metadata": {},
   "outputs": [
    {
     "data": {
      "text/plain": [
       "(569, 30)"
      ]
     },
     "execution_count": 43,
     "metadata": {},
     "output_type": "execute_result"
    }
   ],
   "source": [
    "x_pca.shape"
   ]
  },
  {
   "cell_type": "code",
   "execution_count": 44,
   "metadata": {},
   "outputs": [],
   "source": [
    "#Check Variance\n",
    "\n",
    "var = []\n",
    "\n",
    "for i in range(30):\n",
    "    var.append(np.var(x_pca[:,i]))"
   ]
  },
  {
   "cell_type": "code",
   "execution_count": 45,
   "metadata": {},
   "outputs": [
    {
     "name": "stdout",
     "output_type": "stream",
     "text": [
      "Informasi yang terekstrak adalah sebesar 99.8221161374172 %\n"
     ]
    }
   ],
   "source": [
    "#Explained\n",
    "\n",
    "print(f'Informasi yang terekstrak adalah sebesar', sum(var[:2])/sum(var)*100, '%')\n",
    "#Hanya diambil 2 komponen awal (K1, K2) karena sudah mewakili 99% informasi\n",
    "#K1 pasti punya informasi paling besar dan makin ke banyak komponen makin kecil "
   ]
  },
  {
   "cell_type": "markdown",
   "metadata": {},
   "source": [
    "> Hanya dengan 2 komponen, kita bisa extract 99,8% Informasi, maka kita bisa visualisasikan data kita dengan 2 komponen saja"
   ]
  },
  {
   "cell_type": "code",
   "execution_count": 46,
   "metadata": {},
   "outputs": [
    {
     "data": {
      "text/html": [
       "<div>\n",
       "<style scoped>\n",
       "    .dataframe tbody tr th:only-of-type {\n",
       "        vertical-align: middle;\n",
       "    }\n",
       "\n",
       "    .dataframe tbody tr th {\n",
       "        vertical-align: top;\n",
       "    }\n",
       "\n",
       "    .dataframe thead th {\n",
       "        text-align: right;\n",
       "    }\n",
       "</style>\n",
       "<table border=\"1\" class=\"dataframe\">\n",
       "  <thead>\n",
       "    <tr style=\"text-align: right;\">\n",
       "      <th></th>\n",
       "      <th>0</th>\n",
       "      <th>1</th>\n",
       "    </tr>\n",
       "  </thead>\n",
       "  <tbody>\n",
       "    <tr>\n",
       "      <th>0</th>\n",
       "      <td>1160.142574</td>\n",
       "      <td>-293.917544</td>\n",
       "    </tr>\n",
       "    <tr>\n",
       "      <th>1</th>\n",
       "      <td>1269.122443</td>\n",
       "      <td>15.630182</td>\n",
       "    </tr>\n",
       "    <tr>\n",
       "      <th>2</th>\n",
       "      <td>995.793889</td>\n",
       "      <td>39.156743</td>\n",
       "    </tr>\n",
       "    <tr>\n",
       "      <th>3</th>\n",
       "      <td>-407.180803</td>\n",
       "      <td>-67.380320</td>\n",
       "    </tr>\n",
       "    <tr>\n",
       "      <th>4</th>\n",
       "      <td>930.341180</td>\n",
       "      <td>189.340742</td>\n",
       "    </tr>\n",
       "    <tr>\n",
       "      <th>...</th>\n",
       "      <td>...</td>\n",
       "      <td>...</td>\n",
       "    </tr>\n",
       "    <tr>\n",
       "      <th>564</th>\n",
       "      <td>1414.126684</td>\n",
       "      <td>110.222492</td>\n",
       "    </tr>\n",
       "    <tr>\n",
       "      <th>565</th>\n",
       "      <td>1045.018854</td>\n",
       "      <td>77.057589</td>\n",
       "    </tr>\n",
       "    <tr>\n",
       "      <th>566</th>\n",
       "      <td>314.501756</td>\n",
       "      <td>47.553525</td>\n",
       "    </tr>\n",
       "    <tr>\n",
       "      <th>567</th>\n",
       "      <td>1124.858115</td>\n",
       "      <td>34.129225</td>\n",
       "    </tr>\n",
       "    <tr>\n",
       "      <th>568</th>\n",
       "      <td>-771.527622</td>\n",
       "      <td>-88.643106</td>\n",
       "    </tr>\n",
       "  </tbody>\n",
       "</table>\n",
       "<p>569 rows × 2 columns</p>\n",
       "</div>"
      ],
      "text/plain": [
       "               0           1\n",
       "0    1160.142574 -293.917544\n",
       "1    1269.122443   15.630182\n",
       "2     995.793889   39.156743\n",
       "3    -407.180803  -67.380320\n",
       "4     930.341180  189.340742\n",
       "..           ...         ...\n",
       "564  1414.126684  110.222492\n",
       "565  1045.018854   77.057589\n",
       "566   314.501756   47.553525\n",
       "567  1124.858115   34.129225\n",
       "568  -771.527622  -88.643106\n",
       "\n",
       "[569 rows x 2 columns]"
      ]
     },
     "execution_count": 46,
     "metadata": {},
     "output_type": "execute_result"
    }
   ],
   "source": [
    "#PCA \n",
    "\n",
    "pca = PCA(n_components=2)\n",
    "x_pca = pca.fit_transform(df)\n",
    "pd.DataFrame(x_pca)"
   ]
  },
  {
   "cell_type": "code",
   "execution_count": 47,
   "metadata": {},
   "outputs": [],
   "source": [
    "#Plot PCA Components\n",
    "\n",
    "final_PCA = pd.DataFrame(x_pca, columns=['PC1', 'PC2'])\n",
    "\n",
    "final_PCA.plot(kind='scatter', x='PC1', y='PC2')"
   ]
  },
  {
   "cell_type": "code",
   "execution_count": 51,
   "metadata": {},
   "outputs": [
    {
     "data": {
      "text/plain": [
       "<Axes: xlabel='PC1', ylabel='PC2'>"
      ]
     },
     "execution_count": 51,
     "metadata": {},
     "output_type": "execute_result"
    },
    {
     "data": {
      "image/png": "[encoded data removed]",
      "text/plain": [
       "<Figure size 640x480 with 1 Axes>"
      ]
     },
     "metadata": {},
     "output_type": "display_data"
    }
   ],
   "source": [
    "final_PCA.plot(kind='scatter', x='PC1', y='PC2')"
   ]
  },
  {
   "cell_type": "markdown",
   "metadata": {},
   "source": [
    "### Test Case: Bank Loan\n",
    " "
   ]
  },
  {
   "cell_type": "code",
   "execution_count": 52,
   "metadata": {},
   "outputs": [],
   "source": [
    "bank = pd.read_csv('/Users/Dwika/My Projects/DATASETS/bankloan.csv')"
   ]
  },
  {
   "cell_type": "code",
   "execution_count": 53,
   "metadata": {},
   "outputs": [
    {
     "data": {
      "text/html": [
       "<div>\n",
       "<style scoped>\n",
       "    .dataframe tbody tr th:only-of-type {\n",
       "        vertical-align: middle;\n",
       "    }\n",
       "\n",
       "    .dataframe tbody tr th {\n",
       "        vertical-align: top;\n",
       "    }\n",
       "\n",
       "    .dataframe thead th {\n",
       "        text-align: right;\n",
       "    }\n",
       "</style>\n",
       "<table border=\"1\" class=\"dataframe\">\n",
       "  <thead>\n",
       "    <tr style=\"text-align: right;\">\n",
       "      <th></th>\n",
       "      <th>age</th>\n",
       "      <th>ed</th>\n",
       "      <th>employ</th>\n",
       "      <th>address</th>\n",
       "      <th>income</th>\n",
       "      <th>debtinc</th>\n",
       "      <th>creddebt</th>\n",
       "      <th>othdebt</th>\n",
       "      <th>default</th>\n",
       "    </tr>\n",
       "  </thead>\n",
       "  <tbody>\n",
       "    <tr>\n",
       "      <th>0</th>\n",
       "      <td>41</td>\n",
       "      <td>3</td>\n",
       "      <td>17</td>\n",
       "      <td>12</td>\n",
       "      <td>176</td>\n",
       "      <td>9.3</td>\n",
       "      <td>11.359392</td>\n",
       "      <td>5.008608</td>\n",
       "      <td>1</td>\n",
       "    </tr>\n",
       "    <tr>\n",
       "      <th>1</th>\n",
       "      <td>27</td>\n",
       "      <td>1</td>\n",
       "      <td>10</td>\n",
       "      <td>6</td>\n",
       "      <td>31</td>\n",
       "      <td>17.3</td>\n",
       "      <td>1.362202</td>\n",
       "      <td>4.000798</td>\n",
       "      <td>0</td>\n",
       "    </tr>\n",
       "    <tr>\n",
       "      <th>2</th>\n",
       "      <td>40</td>\n",
       "      <td>1</td>\n",
       "      <td>15</td>\n",
       "      <td>14</td>\n",
       "      <td>55</td>\n",
       "      <td>5.5</td>\n",
       "      <td>0.856075</td>\n",
       "      <td>2.168925</td>\n",
       "      <td>0</td>\n",
       "    </tr>\n",
       "    <tr>\n",
       "      <th>3</th>\n",
       "      <td>41</td>\n",
       "      <td>1</td>\n",
       "      <td>15</td>\n",
       "      <td>14</td>\n",
       "      <td>120</td>\n",
       "      <td>2.9</td>\n",
       "      <td>2.658720</td>\n",
       "      <td>0.821280</td>\n",
       "      <td>0</td>\n",
       "    </tr>\n",
       "    <tr>\n",
       "      <th>4</th>\n",
       "      <td>24</td>\n",
       "      <td>2</td>\n",
       "      <td>2</td>\n",
       "      <td>0</td>\n",
       "      <td>28</td>\n",
       "      <td>17.3</td>\n",
       "      <td>1.787436</td>\n",
       "      <td>3.056564</td>\n",
       "      <td>1</td>\n",
       "    </tr>\n",
       "    <tr>\n",
       "      <th>...</th>\n",
       "      <td>...</td>\n",
       "      <td>...</td>\n",
       "      <td>...</td>\n",
       "      <td>...</td>\n",
       "      <td>...</td>\n",
       "      <td>...</td>\n",
       "      <td>...</td>\n",
       "      <td>...</td>\n",
       "      <td>...</td>\n",
       "    </tr>\n",
       "    <tr>\n",
       "      <th>695</th>\n",
       "      <td>36</td>\n",
       "      <td>2</td>\n",
       "      <td>6</td>\n",
       "      <td>15</td>\n",
       "      <td>27</td>\n",
       "      <td>4.6</td>\n",
       "      <td>0.262062</td>\n",
       "      <td>0.979938</td>\n",
       "      <td>1</td>\n",
       "    </tr>\n",
       "    <tr>\n",
       "      <th>696</th>\n",
       "      <td>29</td>\n",
       "      <td>2</td>\n",
       "      <td>6</td>\n",
       "      <td>4</td>\n",
       "      <td>21</td>\n",
       "      <td>11.5</td>\n",
       "      <td>0.369495</td>\n",
       "      <td>2.045505</td>\n",
       "      <td>0</td>\n",
       "    </tr>\n",
       "    <tr>\n",
       "      <th>697</th>\n",
       "      <td>33</td>\n",
       "      <td>1</td>\n",
       "      <td>15</td>\n",
       "      <td>3</td>\n",
       "      <td>32</td>\n",
       "      <td>7.6</td>\n",
       "      <td>0.491264</td>\n",
       "      <td>1.940736</td>\n",
       "      <td>0</td>\n",
       "    </tr>\n",
       "    <tr>\n",
       "      <th>698</th>\n",
       "      <td>45</td>\n",
       "      <td>1</td>\n",
       "      <td>19</td>\n",
       "      <td>22</td>\n",
       "      <td>77</td>\n",
       "      <td>8.4</td>\n",
       "      <td>2.302608</td>\n",
       "      <td>4.165392</td>\n",
       "      <td>0</td>\n",
       "    </tr>\n",
       "    <tr>\n",
       "      <th>699</th>\n",
       "      <td>37</td>\n",
       "      <td>1</td>\n",
       "      <td>12</td>\n",
       "      <td>14</td>\n",
       "      <td>44</td>\n",
       "      <td>14.7</td>\n",
       "      <td>2.994684</td>\n",
       "      <td>3.473316</td>\n",
       "      <td>0</td>\n",
       "    </tr>\n",
       "  </tbody>\n",
       "</table>\n",
       "<p>700 rows × 9 columns</p>\n",
       "</div>"
      ],
      "text/plain": [
       "     age  ed  employ  address  income  debtinc   creddebt   othdebt  default\n",
       "0     41   3      17       12     176      9.3  11.359392  5.008608        1\n",
       "1     27   1      10        6      31     17.3   1.362202  4.000798        0\n",
       "2     40   1      15       14      55      5.5   0.856075  2.168925        0\n",
       "3     41   1      15       14     120      2.9   2.658720  0.821280        0\n",
       "4     24   2       2        0      28     17.3   1.787436  3.056564        1\n",
       "..   ...  ..     ...      ...     ...      ...        ...       ...      ...\n",
       "695   36   2       6       15      27      4.6   0.262062  0.979938        1\n",
       "696   29   2       6        4      21     11.5   0.369495  2.045505        0\n",
       "697   33   1      15        3      32      7.6   0.491264  1.940736        0\n",
       "698   45   1      19       22      77      8.4   2.302608  4.165392        0\n",
       "699   37   1      12       14      44     14.7   2.994684  3.473316        0\n",
       "\n",
       "[700 rows x 9 columns]"
      ]
     },
     "execution_count": 53,
     "metadata": {},
     "output_type": "execute_result"
    }
   ],
   "source": [
    "bank"
   ]
  },
  {
   "cell_type": "code",
   "execution_count": 59,
   "metadata": {},
   "outputs": [
    {
     "data": {
      "text/html": [
       "<div>\n",
       "<style scoped>\n",
       "    .dataframe tbody tr th:only-of-type {\n",
       "        vertical-align: middle;\n",
       "    }\n",
       "\n",
       "    .dataframe tbody tr th {\n",
       "        vertical-align: top;\n",
       "    }\n",
       "\n",
       "    .dataframe thead th {\n",
       "        text-align: right;\n",
       "    }\n",
       "</style>\n",
       "<table border=\"1\" class=\"dataframe\">\n",
       "  <thead>\n",
       "    <tr style=\"text-align: right;\">\n",
       "      <th></th>\n",
       "      <th>0</th>\n",
       "      <th>1</th>\n",
       "      <th>2</th>\n",
       "      <th>3</th>\n",
       "      <th>4</th>\n",
       "      <th>5</th>\n",
       "      <th>6</th>\n",
       "      <th>7</th>\n",
       "    </tr>\n",
       "  </thead>\n",
       "  <tbody>\n",
       "    <tr>\n",
       "      <th>0</th>\n",
       "      <td>130.570595</td>\n",
       "      <td>10.507691</td>\n",
       "      <td>0.048758</td>\n",
       "      <td>4.037074</td>\n",
       "      <td>0.655992</td>\n",
       "      <td>-6.279830</td>\n",
       "      <td>4.060818</td>\n",
       "      <td>0.506104</td>\n",
       "    </tr>\n",
       "    <tr>\n",
       "      <th>1</th>\n",
       "      <td>-15.159838</td>\n",
       "      <td>3.913462</td>\n",
       "      <td>7.341923</td>\n",
       "      <td>-2.238807</td>\n",
       "      <td>-5.327318</td>\n",
       "      <td>-0.076623</td>\n",
       "      <td>-1.079291</td>\n",
       "      <td>-0.409940</td>\n",
       "    </tr>\n",
       "    <tr>\n",
       "      <th>2</th>\n",
       "      <td>10.852389</td>\n",
       "      <td>-7.098021</td>\n",
       "      <td>-5.822610</td>\n",
       "      <td>-1.975350</td>\n",
       "      <td>-3.056693</td>\n",
       "      <td>-0.031236</td>\n",
       "      <td>-0.422824</td>\n",
       "      <td>-0.420905</td>\n",
       "    </tr>\n",
       "    <tr>\n",
       "      <th>3</th>\n",
       "      <td>74.891666</td>\n",
       "      <td>2.153078</td>\n",
       "      <td>-8.477113</td>\n",
       "      <td>2.766314</td>\n",
       "      <td>-0.510809</td>\n",
       "      <td>-3.786030</td>\n",
       "      <td>-1.202932</td>\n",
       "      <td>-1.124818</td>\n",
       "    </tr>\n",
       "    <tr>\n",
       "      <th>4</th>\n",
       "      <td>-19.748397</td>\n",
       "      <td>11.387446</td>\n",
       "      <td>8.090528</td>\n",
       "      <td>0.810527</td>\n",
       "      <td>0.337717</td>\n",
       "      <td>-0.800433</td>\n",
       "      <td>-0.469593</td>\n",
       "      <td>0.146816</td>\n",
       "    </tr>\n",
       "    <tr>\n",
       "      <th>...</th>\n",
       "      <td>...</td>\n",
       "      <td>...</td>\n",
       "      <td>...</td>\n",
       "      <td>...</td>\n",
       "      <td>...</td>\n",
       "      <td>...</td>\n",
       "      <td>...</td>\n",
       "      <td>...</td>\n",
       "    </tr>\n",
       "    <tr>\n",
       "      <th>695</th>\n",
       "      <td>-18.157505</td>\n",
       "      <td>-6.549187</td>\n",
       "      <td>-6.400823</td>\n",
       "      <td>4.364344</td>\n",
       "      <td>-1.775284</td>\n",
       "      <td>0.537497</td>\n",
       "      <td>0.406615</td>\n",
       "      <td>0.301528</td>\n",
       "    </tr>\n",
       "    <tr>\n",
       "      <th>696</th>\n",
       "      <td>-25.466004</td>\n",
       "      <td>3.755769</td>\n",
       "      <td>1.407950</td>\n",
       "      <td>-1.316438</td>\n",
       "      <td>-0.850349</td>\n",
       "      <td>0.223519</td>\n",
       "      <td>-0.556084</td>\n",
       "      <td>0.448454</td>\n",
       "    </tr>\n",
       "    <tr>\n",
       "      <th>697</th>\n",
       "      <td>-13.242471</td>\n",
       "      <td>1.097001</td>\n",
       "      <td>-2.960881</td>\n",
       "      <td>-8.837267</td>\n",
       "      <td>-2.516793</td>\n",
       "      <td>0.371191</td>\n",
       "      <td>-0.325349</td>\n",
       "      <td>-0.051913</td>\n",
       "    </tr>\n",
       "    <tr>\n",
       "      <th>698</th>\n",
       "      <td>34.125991</td>\n",
       "      <td>-13.660093</td>\n",
       "      <td>-3.257233</td>\n",
       "      <td>0.227998</td>\n",
       "      <td>-5.751581</td>\n",
       "      <td>-0.272927</td>\n",
       "      <td>-0.338778</td>\n",
       "      <td>-0.477738</td>\n",
       "    </tr>\n",
       "    <tr>\n",
       "      <th>699</th>\n",
       "      <td>-0.532073</td>\n",
       "      <td>-6.615417</td>\n",
       "      <td>3.880151</td>\n",
       "      <td>-0.081854</td>\n",
       "      <td>-3.840640</td>\n",
       "      <td>-1.125165</td>\n",
       "      <td>0.309325</td>\n",
       "      <td>-0.424557</td>\n",
       "    </tr>\n",
       "  </tbody>\n",
       "</table>\n",
       "<p>700 rows × 8 columns</p>\n",
       "</div>"
      ],
      "text/plain": [
       "              0          1         2         3         4         5         6  \\\n",
       "0    130.570595  10.507691  0.048758  4.037074  0.655992 -6.279830  4.060818   \n",
       "1    -15.159838   3.913462  7.341923 -2.238807 -5.327318 -0.076623 -1.079291   \n",
       "2     10.852389  -7.098021 -5.822610 -1.975350 -3.056693 -0.031236 -0.422824   \n",
       "3     74.891666   2.153078 -8.477113  2.766314 -0.510809 -3.786030 -1.202932   \n",
       "4    -19.748397  11.387446  8.090528  0.810527  0.337717 -0.800433 -0.469593   \n",
       "..          ...        ...       ...       ...       ...       ...       ...   \n",
       "695  -18.157505  -6.549187 -6.400823  4.364344 -1.775284  0.537497  0.406615   \n",
       "696  -25.466004   3.755769  1.407950 -1.316438 -0.850349  0.223519 -0.556084   \n",
       "697  -13.242471   1.097001 -2.960881 -8.837267 -2.516793  0.371191 -0.325349   \n",
       "698   34.125991 -13.660093 -3.257233  0.227998 -5.751581 -0.272927 -0.338778   \n",
       "699   -0.532073  -6.615417  3.880151 -0.081854 -3.840640 -1.125165  0.309325   \n",
       "\n",
       "            7  \n",
       "0    0.506104  \n",
       "1   -0.409940  \n",
       "2   -0.420905  \n",
       "3   -1.124818  \n",
       "4    0.146816  \n",
       "..        ...  \n",
       "695  0.301528  \n",
       "696  0.448454  \n",
       "697 -0.051913  \n",
       "698 -0.477738  \n",
       "699 -0.424557  \n",
       "\n",
       "[700 rows x 8 columns]"
      ]
     },
     "execution_count": 59,
     "metadata": {},
     "output_type": "execute_result"
    }
   ],
   "source": [
    "pca = PCA(n_components=8)\n",
    "X_pca_bank = pca.fit_transform(bank.drop(columns=['default']))\n",
    "pd.DataFrame(X_pca_bank)"
   ]
  },
  {
   "cell_type": "code",
   "execution_count": 61,
   "metadata": {},
   "outputs": [],
   "source": [
    "#Check Variance\n",
    "\n",
    "var = []\n",
    "\n",
    "for i in range(8):\n",
    "    var.append(np.var(X_pca_bank[:,i]))"
   ]
  },
  {
   "cell_type": "code",
   "execution_count": 70,
   "metadata": {},
   "outputs": [
    {
     "name": "stdout",
     "output_type": "stream",
     "text": [
      "Informasi yang terekstrak adalah sebesar 93.56508424989788 %\n"
     ]
    }
   ],
   "source": [
    "#Explained\n",
    "\n",
    "print(f'Informasi yang terekstrak adalah sebesar', sum(var[:2])/sum(var)*100, '%')\n",
    "#Hanya diambil 2 komponen awal (K1, K2) karena sudah mewakili 99% informasi\n",
    "#K1 pasti punya informasi paling besar dan makin ke banyak komponen makin kecil "
   ]
  },
  {
   "cell_type": "code",
   "execution_count": 65,
   "metadata": {},
   "outputs": [
    {
     "data": {
      "text/html": [
       "<div>\n",
       "<style scoped>\n",
       "    .dataframe tbody tr th:only-of-type {\n",
       "        vertical-align: middle;\n",
       "    }\n",
       "\n",
       "    .dataframe tbody tr th {\n",
       "        vertical-align: top;\n",
       "    }\n",
       "\n",
       "    .dataframe thead th {\n",
       "        text-align: right;\n",
       "    }\n",
       "</style>\n",
       "<table border=\"1\" class=\"dataframe\">\n",
       "  <thead>\n",
       "    <tr style=\"text-align: right;\">\n",
       "      <th></th>\n",
       "      <th>0</th>\n",
       "      <th>1</th>\n",
       "    </tr>\n",
       "  </thead>\n",
       "  <tbody>\n",
       "    <tr>\n",
       "      <th>0</th>\n",
       "      <td>1160.142574</td>\n",
       "      <td>-293.917544</td>\n",
       "    </tr>\n",
       "    <tr>\n",
       "      <th>1</th>\n",
       "      <td>1269.122443</td>\n",
       "      <td>15.630182</td>\n",
       "    </tr>\n",
       "    <tr>\n",
       "      <th>2</th>\n",
       "      <td>995.793889</td>\n",
       "      <td>39.156743</td>\n",
       "    </tr>\n",
       "    <tr>\n",
       "      <th>3</th>\n",
       "      <td>-407.180803</td>\n",
       "      <td>-67.380320</td>\n",
       "    </tr>\n",
       "    <tr>\n",
       "      <th>4</th>\n",
       "      <td>930.341180</td>\n",
       "      <td>189.340742</td>\n",
       "    </tr>\n",
       "    <tr>\n",
       "      <th>...</th>\n",
       "      <td>...</td>\n",
       "      <td>...</td>\n",
       "    </tr>\n",
       "    <tr>\n",
       "      <th>564</th>\n",
       "      <td>1414.126684</td>\n",
       "      <td>110.222492</td>\n",
       "    </tr>\n",
       "    <tr>\n",
       "      <th>565</th>\n",
       "      <td>1045.018854</td>\n",
       "      <td>77.057589</td>\n",
       "    </tr>\n",
       "    <tr>\n",
       "      <th>566</th>\n",
       "      <td>314.501756</td>\n",
       "      <td>47.553525</td>\n",
       "    </tr>\n",
       "    <tr>\n",
       "      <th>567</th>\n",
       "      <td>1124.858115</td>\n",
       "      <td>34.129225</td>\n",
       "    </tr>\n",
       "    <tr>\n",
       "      <th>568</th>\n",
       "      <td>-771.527622</td>\n",
       "      <td>-88.643106</td>\n",
       "    </tr>\n",
       "  </tbody>\n",
       "</table>\n",
       "<p>569 rows × 2 columns</p>\n",
       "</div>"
      ],
      "text/plain": [
       "               0           1\n",
       "0    1160.142574 -293.917544\n",
       "1    1269.122443   15.630182\n",
       "2     995.793889   39.156743\n",
       "3    -407.180803  -67.380320\n",
       "4     930.341180  189.340742\n",
       "..           ...         ...\n",
       "564  1414.126684  110.222492\n",
       "565  1045.018854   77.057589\n",
       "566   314.501756   47.553525\n",
       "567  1124.858115   34.129225\n",
       "568  -771.527622  -88.643106\n",
       "\n",
       "[569 rows x 2 columns]"
      ]
     },
     "execution_count": 65,
     "metadata": {},
     "output_type": "execute_result"
    }
   ],
   "source": [
    "#PCA \n",
    "\n",
    "pca = PCA(n_components=2)\n",
    "X_pca_bank_pca = pca.fit_transform(bank.drop(columns=['default']))\n",
    "pd.DataFrame(x_pca)"
   ]
  },
  {
   "cell_type": "code",
   "execution_count": 68,
   "metadata": {},
   "outputs": [
    {
     "data": {
      "text/plain": [
       "<Axes: xlabel='PC1', ylabel='PC2'>"
      ]
     },
     "execution_count": 68,
     "metadata": {},
     "output_type": "execute_result"
    },
    {
     "data": {
      "image/png": "[encoded data removed]",
      "text/plain": [
       "<Figure size 640x480 with 1 Axes>"
      ]
     },
     "metadata": {},
     "output_type": "display_data"
    }
   ],
   "source": [
    "#Plot PCA Components\n",
    "\n",
    "final_PCA = pd.DataFrame(X_pca_bank_pca, columns=['PC1', 'PC2'])\n",
    "\n",
    "sns.scatterplot(data=final_PCA, x='PC1', y='PC2', hue=bank['default'])"
   ]
  },
  {
   "cell_type": "markdown",
   "metadata": {},
   "source": [
    "**Algorithm**\n",
    "\n",
    "Association rules\n",
    "- used for market basket analysis\n",
    "- find interesting relationship between variables in large databases\n",
    "- e.g. if a customer buys bread, he/she is 80% likely to buy milk\n"
   ]
  },
  {
   "cell_type": "markdown",
   "metadata": {},
   "source": [
    "## Clustering\n",
    "---"
   ]
  },
  {
   "cell_type": "markdown",
   "metadata": {},
   "source": [
    "- Grouping data points into clusters\n",
    "- Data points in the same cluster are similar\n",
    "- Data points in different clusters are dissimilar\n",
    "\n"
   ]
  },
  {
   "cell_type": "markdown",
   "metadata": {},
   "source": [
    "Outline:\n",
    "1. The model will cluster the data into k groups\n",
    "2. Each group is represented by its center (centroid)\n",
    "3. The algorithm will iteratively improve its clustering by moving the centroids\n",
    "4. The algorithm will stop either:\n",
    "    - when the centroids have stabilized\n",
    "    - when the defined number of iterations has been reached (max_iter)\n",
    "5. The user must define k (number of clusters)\n",
    "6. THe user labels the clusters after examining the centroids (e.g. cluster 0 = \"high spending\")\n",
    "\n",
    "In general, clustering algorithms are either:\n",
    "- Hierarchical\n",
    "- Non-hierarchical\n"
   ]
  },
  {
   "cell_type": "markdown",
   "metadata": {},
   "source": [
    "\n",
    "### Hierarchical Clustering\n",
    "\n",
    "- Each data point is assigned to its own cluster"
   ]
  },
  {
   "cell_type": "markdown",
   "metadata": {},
   "source": [
    "### Non-Hierarchical Clustering\n",
    "\n",
    "- Each data point is assigned to a cluster with the nearest centroid"
   ]
  },
  {
   "cell_type": "markdown",
   "metadata": {},
   "source": [
    "### K-Means Clustering\n",
    "---\n",
    "\n",
    "- Non-hierarchical clustering\n",
    "- Centroid is the mean of all the points belonging to the cluster.\n",
    "\n",
    "Outline for K-means clustering:\n",
    "1. Choose the number of clusters (k)\n",
    "2. Randomly assign each data point to a cluster\n",
    "    - Compute the variance between the data point and the centroid of its cluster\n",
    "    - Assign the data point to the cluster with the lowest **variance**\n",
    "    - Between cluster, distance is measured by Euclidean distance, and the variance should be maximized between cluster\n",
    "3. Until clusters stop changing, repeat the following steps:\n",
    "    - For each cluster, compute the cluster centroid by taking the mean vector of points in the cluster\n",
    "    - Assign each data point to the cluster for which the centroid is the closest\n",
    "4. The result is a set of clusters where each cluster is distinct from each other cluster, and the objects within each cluster are broadly similar to each other\n",
    "5. The algorithm is finished when the points have stabilized\n",
    "\n",
    "\n",
    "Issues from Distance --> Scale --> Need to be normalized"
   ]
  },
  {
   "cell_type": "markdown",
   "metadata": {},
   "source": [
    "Optimal number of cluster:\n",
    "- Elbow method\n",
    "- Silhouette coefficient\n",
    "- Domain knowledge from the end user"
   ]
  },
  {
   "cell_type": "markdown",
   "metadata": {},
   "source": [
    "**ELBOW METHOD**\n",
    "\n",
    "Selection method for optimal nuber of cluster\n",
    "\n",
    "- Average within sum of squares (WSS) for each cluster is calculated\n",
    "- WSS is the sum of squared distance between each point and the centroid in a cluster\n",
    "- WSS is calculated for different number of clusters\n",
    "- Plot number of clusters vs WSS\n",
    "- The location of a bend (knee) in the plot is generally considered as an indicator of the appropriate number of clusters\n",
    "\n",
    "\n",
    "Key principle: the criteria used to cluster the data points should be minimized\n",
    "\n",
    "Issue: the elbow method is subjective and can be ambiguous from the plot"
   ]
  },
  {
   "cell_type": "markdown",
   "metadata": {},
   "source": [
    "**SILHOUETTE SCORE**\n",
    "\n",
    "- Measure of how similar a cluster compared to other clusters\n",
    "- Range from -1 to 1, (1 IS BEST -1 IS WORST)\n",
    "- If there are -1 score, it's likely that there's a wrong clustering \n",
    "- Higher score means the object is well matched to its own cluster and poorly matched to neighboring clusters\n",
    "- If most objects have a high score, then the clustering configuration is appropriate\n",
    "- If many points have a low or negative score, then the clustering configuration may have too many or too few clusters\n",
    "\n"
   ]
  },
  {
   "cell_type": "code",
   "execution_count": 76,
   "metadata": {},
   "outputs": [],
   "source": [
    "#Library\n",
    "\n",
    "#KMeans Lib\n",
    "from  sklearn.cluster import KMeans\n",
    "\n",
    "#Evaluation Lib\n",
    "from scipy.spatial.distance import cdist,pdist\n",
    "\n",
    "#Scoring Lib\n",
    "from sklearn.metrics import silhouette_score\n"
   ]
  },
  {
   "cell_type": "code",
   "execution_count": 74,
   "metadata": {},
   "outputs": [],
   "source": [
    "#Load data \n",
    "\n",
    "df = pd.read_csv('/Users/Dwika/My Projects/DATASETS/ilustrasi_k_means.csv', sep=';')"
   ]
  },
  {
   "cell_type": "code",
   "execution_count": 75,
   "metadata": {},
   "outputs": [
    {
     "data": {
      "text/html": [
       "<div>\n",
       "<style scoped>\n",
       "    .dataframe tbody tr th:only-of-type {\n",
       "        vertical-align: middle;\n",
       "    }\n",
       "\n",
       "    .dataframe tbody tr th {\n",
       "        vertical-align: top;\n",
       "    }\n",
       "\n",
       "    .dataframe thead th {\n",
       "        text-align: right;\n",
       "    }\n",
       "</style>\n",
       "<table border=\"1\" class=\"dataframe\">\n",
       "  <thead>\n",
       "    <tr style=\"text-align: right;\">\n",
       "      <th></th>\n",
       "      <th>tinggibadan</th>\n",
       "      <th>tinggibadanistri</th>\n",
       "    </tr>\n",
       "  </thead>\n",
       "  <tbody>\n",
       "    <tr>\n",
       "      <th>0</th>\n",
       "      <td>175</td>\n",
       "      <td>175</td>\n",
       "    </tr>\n",
       "    <tr>\n",
       "      <th>1</th>\n",
       "      <td>178</td>\n",
       "      <td>178</td>\n",
       "    </tr>\n",
       "    <tr>\n",
       "      <th>2</th>\n",
       "      <td>175</td>\n",
       "      <td>166</td>\n",
       "    </tr>\n",
       "    <tr>\n",
       "      <th>3</th>\n",
       "      <td>180</td>\n",
       "      <td>179</td>\n",
       "    </tr>\n",
       "    <tr>\n",
       "      <th>4</th>\n",
       "      <td>185</td>\n",
       "      <td>181</td>\n",
       "    </tr>\n",
       "    <tr>\n",
       "      <th>5</th>\n",
       "      <td>178</td>\n",
       "      <td>163</td>\n",
       "    </tr>\n",
       "    <tr>\n",
       "      <th>6</th>\n",
       "      <td>175</td>\n",
       "      <td>158</td>\n",
       "    </tr>\n",
       "    <tr>\n",
       "      <th>7</th>\n",
       "      <td>181</td>\n",
       "      <td>154</td>\n",
       "    </tr>\n",
       "    <tr>\n",
       "      <th>8</th>\n",
       "      <td>168</td>\n",
       "      <td>155</td>\n",
       "    </tr>\n",
       "    <tr>\n",
       "      <th>9</th>\n",
       "      <td>171</td>\n",
       "      <td>154</td>\n",
       "    </tr>\n",
       "    <tr>\n",
       "      <th>10</th>\n",
       "      <td>177</td>\n",
       "      <td>156</td>\n",
       "    </tr>\n",
       "    <tr>\n",
       "      <th>11</th>\n",
       "      <td>158</td>\n",
       "      <td>155</td>\n",
       "    </tr>\n",
       "    <tr>\n",
       "      <th>12</th>\n",
       "      <td>158</td>\n",
       "      <td>152</td>\n",
       "    </tr>\n",
       "    <tr>\n",
       "      <th>13</th>\n",
       "      <td>175</td>\n",
       "      <td>149</td>\n",
       "    </tr>\n",
       "    <tr>\n",
       "      <th>14</th>\n",
       "      <td>172</td>\n",
       "      <td>163</td>\n",
       "    </tr>\n",
       "    <tr>\n",
       "      <th>15</th>\n",
       "      <td>158</td>\n",
       "      <td>151</td>\n",
       "    </tr>\n",
       "    <tr>\n",
       "      <th>16</th>\n",
       "      <td>153</td>\n",
       "      <td>155</td>\n",
       "    </tr>\n",
       "    <tr>\n",
       "      <th>17</th>\n",
       "      <td>150</td>\n",
       "      <td>150</td>\n",
       "    </tr>\n",
       "    <tr>\n",
       "      <th>18</th>\n",
       "      <td>157</td>\n",
       "      <td>152</td>\n",
       "    </tr>\n",
       "    <tr>\n",
       "      <th>19</th>\n",
       "      <td>154</td>\n",
       "      <td>150</td>\n",
       "    </tr>\n",
       "    <tr>\n",
       "      <th>20</th>\n",
       "      <td>157</td>\n",
       "      <td>145</td>\n",
       "    </tr>\n",
       "    <tr>\n",
       "      <th>21</th>\n",
       "      <td>160</td>\n",
       "      <td>154</td>\n",
       "    </tr>\n",
       "  </tbody>\n",
       "</table>\n",
       "</div>"
      ],
      "text/plain": [
       "    tinggibadan  tinggibadanistri\n",
       "0           175               175\n",
       "1           178               178\n",
       "2           175               166\n",
       "3           180               179\n",
       "4           185               181\n",
       "5           178               163\n",
       "6           175               158\n",
       "7           181               154\n",
       "8           168               155\n",
       "9           171               154\n",
       "10          177               156\n",
       "11          158               155\n",
       "12          158               152\n",
       "13          175               149\n",
       "14          172               163\n",
       "15          158               151\n",
       "16          153               155\n",
       "17          150               150\n",
       "18          157               152\n",
       "19          154               150\n",
       "20          157               145\n",
       "21          160               154"
      ]
     },
     "execution_count": 75,
     "metadata": {},
     "output_type": "execute_result"
    }
   ],
   "source": [
    "df"
   ]
  },
  {
   "cell_type": "code",
   "execution_count": 78,
   "metadata": {},
   "outputs": [
    {
     "data": {
      "text/plain": [
       "Text(0, 0.5, 'Tinggi Badan Istri')"
      ]
     },
     "execution_count": 78,
     "metadata": {},
     "output_type": "execute_result"
    },
    {
     "data": {
      "image/png": "[encoded data removed]",
      "text/plain": [
       "<Figure size 1000x1000 with 1 Axes>"
      ]
     },
     "metadata": {},
     "output_type": "display_data"
    }
   ],
   "source": [
    "#Visualize\n",
    "\n",
    "plt.figure(figsize=(10,10))\n",
    "sns.scatterplot(data=df, x='tinggibadan', y='tinggibadanistri')\n",
    "plt.xlabel('Tinggi Badan')\n",
    "plt.ylabel('Tinggi Badan Istri')"
   ]
  },
  {
   "cell_type": "code",
   "execution_count": 79,
   "metadata": {},
   "outputs": [
    {
     "name": "stderr",
     "output_type": "stream",
     "text": [
      "/Users/Dwika/My Projects/.venv/lib/python3.11/site-packages/sklearn/cluster/_kmeans.py:870: FutureWarning: The default value of `n_init` will change from 10 to 'auto' in 1.4. Set the value of `n_init` explicitly to suppress the warning\n",
      "  warnings.warn(\n"
     ]
    },
    {
     "data": {
      "text/plain": [
       "array([[177.6       , 167.3       ],\n",
       "       [159.91666667, 151.83333333]])"
      ]
     },
     "execution_count": 79,
     "metadata": {},
     "output_type": "execute_result"
    }
   ],
   "source": [
    "#KMeans\n",
    "\n",
    "kmean = KMeans(n_clusters=2)\n",
    "\n",
    "kmean.fit(df)\n",
    "\n",
    "#Centroid\n",
    "\n",
    "kmean.cluster_centers_"
   ]
  },
  {
   "cell_type": "code",
   "execution_count": 81,
   "metadata": {},
   "outputs": [],
   "source": [
    "#Ignore warnings\n",
    "import warnings\n",
    "warnings.filterwarnings('ignore')"
   ]
  },
  {
   "cell_type": "code",
   "execution_count": 82,
   "metadata": {},
   "outputs": [
    {
     "data": {
      "text/plain": [
       "[KMeans(n_clusters=2),\n",
       " KMeans(n_clusters=3),\n",
       " KMeans(n_clusters=4),\n",
       " KMeans(n_clusters=5),\n",
       " KMeans(n_clusters=6),\n",
       " KMeans(n_clusters=7),\n",
       " KMeans(),\n",
       " KMeans(n_clusters=9),\n",
       " KMeans(n_clusters=10),\n",
       " KMeans(n_clusters=11),\n",
       " KMeans(n_clusters=12),\n",
       " KMeans(n_clusters=13),\n",
       " KMeans(n_clusters=14),\n",
       " KMeans(n_clusters=15)]"
      ]
     },
     "execution_count": 82,
     "metadata": {},
     "output_type": "execute_result"
    }
   ],
   "source": [
    "#Elbow method to determine n_cluster\n",
    "\n",
    "n_range = range(2,16)\n",
    "\n",
    "clusters = [KMeans(n_clusters=k).fit(df) for k in n_range]\n",
    "clusters\n",
    "\n",
    "#Default K = 8"
   ]
  },
  {
   "cell_type": "code",
   "execution_count": 86,
   "metadata": {},
   "outputs": [
    {
     "data": {
      "text/plain": [
       "[array([[159.91666667, 151.83333333],\n",
       "        [177.6       , 167.3       ]]),\n",
       " array([[174.66666667, 157.55555556],\n",
       "        [179.5       , 178.25      ],\n",
       "        [156.11111111, 151.55555556]]),\n",
       " array([[156.11111111, 151.55555556],\n",
       "        [179.5       , 178.25      ],\n",
       "        [174.5       , 154.33333333],\n",
       "        [175.        , 164.        ]]),\n",
       " array([[156.11111111, 151.55555556],\n",
       "        [175.        , 162.5       ],\n",
       "        [179.5       , 178.25      ],\n",
       "        [177.66666667, 153.        ],\n",
       "        [169.5       , 154.5       ]]),\n",
       " array([[169.5 , 154.5 ],\n",
       "        [175.  , 164.  ],\n",
       "        [153.5 , 150.  ],\n",
       "        [179.5 , 178.25],\n",
       "        [177.  , 154.25],\n",
       "        [158.2 , 152.8 ]]),\n",
       " array([[153.66666667, 148.33333333],\n",
       "        [175.        , 164.        ],\n",
       "        [175.        , 149.        ],\n",
       "        [179.5       , 178.25      ],\n",
       "        [157.33333333, 153.16666667],\n",
       "        [169.5       , 154.5       ],\n",
       "        [177.66666667, 156.        ]]),\n",
       " array([[158.2       , 152.8       ],\n",
       "        [176.5       , 176.5       ],\n",
       "        [177.66666667, 156.        ],\n",
       "        [182.5       , 180.        ],\n",
       "        [175.        , 164.        ],\n",
       "        [171.33333333, 152.66666667],\n",
       "        [157.        , 145.        ],\n",
       "        [152.33333333, 151.66666667]]),\n",
       " array([[152.33333333, 151.66666667],\n",
       "        [175.        , 164.        ],\n",
       "        [177.66666667, 177.33333333],\n",
       "        [158.2       , 152.8       ],\n",
       "        [175.        , 149.        ],\n",
       "        [169.5       , 154.5       ],\n",
       "        [157.        , 145.        ],\n",
       "        [177.66666667, 156.        ],\n",
       "        [185.        , 181.        ]]),\n",
       " array([[175.        , 164.        ],\n",
       "        [152.33333333, 151.66666667],\n",
       "        [185.        , 181.        ],\n",
       "        [177.66666667, 156.        ],\n",
       "        [179.        , 178.5       ],\n",
       "        [158.2       , 152.8       ],\n",
       "        [175.        , 149.        ],\n",
       "        [169.5       , 154.5       ],\n",
       "        [175.        , 175.        ],\n",
       "        [157.        , 145.        ]]),\n",
       " array([[152.        , 150.        ],\n",
       "        [176.        , 157.        ],\n",
       "        [177.66666667, 177.33333333],\n",
       "        [158.2       , 152.8       ],\n",
       "        [169.5       , 154.5       ],\n",
       "        [175.        , 164.        ],\n",
       "        [181.        , 154.        ],\n",
       "        [185.        , 181.        ],\n",
       "        [175.        , 149.        ],\n",
       "        [157.        , 145.        ],\n",
       "        [153.        , 155.        ]]),\n",
       " array([[158.2       , 152.8       ],\n",
       "        [179.        , 178.5       ],\n",
       "        [176.5       , 164.5       ],\n",
       "        [169.5       , 154.5       ],\n",
       "        [177.66666667, 156.        ],\n",
       "        [157.        , 145.        ],\n",
       "        [152.        , 150.        ],\n",
       "        [175.        , 175.        ],\n",
       "        [172.        , 163.        ],\n",
       "        [175.        , 149.        ],\n",
       "        [185.        , 181.        ],\n",
       "        [153.        , 155.        ]]),\n",
       " array([[175. , 149. ],\n",
       "        [175. , 175. ],\n",
       "        [152. , 150. ],\n",
       "        [172. , 163. ],\n",
       "        [179. , 178.5],\n",
       "        [158.2, 152.8],\n",
       "        [176. , 157. ],\n",
       "        [169.5, 154.5],\n",
       "        [176.5, 164.5],\n",
       "        [157. , 145. ],\n",
       "        [185. , 181. ],\n",
       "        [181. , 154. ],\n",
       "        [153. , 155. ]]),\n",
       " array([[176.        , 157.        ],\n",
       "        [159.        , 154.5       ],\n",
       "        [179.        , 178.5       ],\n",
       "        [173.5       , 164.5       ],\n",
       "        [157.        , 145.        ],\n",
       "        [169.5       , 154.5       ],\n",
       "        [152.        , 150.        ],\n",
       "        [175.        , 149.        ],\n",
       "        [178.        , 163.        ],\n",
       "        [175.        , 175.        ],\n",
       "        [157.66666667, 151.66666667],\n",
       "        [185.        , 181.        ],\n",
       "        [153.        , 155.        ],\n",
       "        [181.        , 154.        ]]),\n",
       " array([[175.        , 175.        ],\n",
       "        [159.        , 154.5       ],\n",
       "        [181.        , 154.        ],\n",
       "        [172.        , 163.        ],\n",
       "        [152.        , 150.        ],\n",
       "        [179.        , 178.5       ],\n",
       "        [169.5       , 154.5       ],\n",
       "        [157.        , 145.        ],\n",
       "        [176.        , 157.        ],\n",
       "        [175.        , 166.        ],\n",
       "        [185.        , 181.        ],\n",
       "        [175.        , 149.        ],\n",
       "        [157.66666667, 151.66666667],\n",
       "        [153.        , 155.        ],\n",
       "        [178.        , 163.        ]])]"
      ]
     },
     "execution_count": 86,
     "metadata": {},
     "output_type": "execute_result"
    }
   ],
   "source": [
    "centroid = [k.cluster_centers_ for k in clusters]\n",
    "centroid\n"
   ]
  },
  {
   "cell_type": "code",
   "execution_count": 92,
   "metadata": {},
   "outputs": [
    {
     "data": {
      "text/plain": [
       "[7.94444507217375,\n",
       " 4.54826669767587,\n",
       " 3.8489700212083027,\n",
       " 3.4699130609911766,\n",
       " 2.946063299862496,\n",
       " 2.645977167323186,\n",
       " 2.433748388817708,\n",
       " 1.9820202846899102,\n",
       " 1.7583788434054,\n",
       " 1.5418982464846733,\n",
       " 1.3626640554395504,\n",
       " 1.1327152309630046,\n",
       " 0.9394362696738331,\n",
       " 0.7465889657138657]"
      ]
     },
     "execution_count": 92,
     "metadata": {},
     "output_type": "execute_result"
    }
   ],
   "source": [
    "#Within Sum Square (WSS)\n",
    "\n",
    "#Distance between each point to centroid\n",
    "D_k = [cdist(df, cent, 'euclidean') for cent in centroid]\n",
    "\n",
    "cIdx = [np.argmin(D,axis=1) for D in D_k]\n",
    "\n",
    "#Minimum distance of each point to centroid\n",
    "dist = [np.min(D,axis=1) for D in D_k]\n",
    "\n",
    "#Within Sum Square (WSS), average value of disrance for each cluster\n",
    "avgWithinSS = [sum(d)/df.shape[0] for d in dist]    \n",
    "\n",
    "avgWithinSS"
   ]
  },
  {
   "cell_type": "code",
   "execution_count": 98,
   "metadata": {},
   "outputs": [
    {
     "data": {
      "text/plain": [
       "Text(0, 0.5, 'Average Within Sum Square')"
      ]
     },
     "execution_count": 98,
     "metadata": {},
     "output_type": "execute_result"
    },
    {
     "data": {
      "image/png": "[encoded data removed]",
      "text/plain": [
       "<Figure size 800x500 with 1 Axes>"
      ]
     },
     "metadata": {},
     "output_type": "display_data"
    }
   ],
   "source": [
    "#Plot WSS\n",
    "\n",
    "plt.figure(figsize=(8,5))\n",
    "sns.lineplot(x=n_range, y=avgWithinSS, marker='o')\n",
    "plt.xticks(n_range)\n",
    "plt.xlabel('Number of Cluster')\n",
    "plt.ylabel('Average Within Sum Square')\n"
   ]
  },
  {
   "cell_type": "markdown",
   "metadata": {},
   "source": [
    "> We can only infer from the plot that the optimum number of clusters is k=3, but we can't be sure"
   ]
  },
  {
   "cell_type": "markdown",
   "metadata": {},
   "source": [
    "## Optimum Silhouette Score"
   ]
  },
  {
   "cell_type": "markdown",
   "metadata": {},
   "source": [
    "Optimum score:\n",
    "- +1 means the sample is far away from its neighboring cluster\n",
    "- 0 means the sample is on or very close to the decision boundary between two neighboring clusters\n",
    "- -1 means the sample is assigned to the wrong cluster"
   ]
  },
  {
   "cell_type": "code",
   "execution_count": 107,
   "metadata": {},
   "outputs": [
    {
     "data": {
      "text/plain": [
       "[0.5080353833629737,\n",
       " 0.6172319390416597,\n",
       " 0.5469497456399819,\n",
       " 0.5069896137153953,\n",
       " 0.4066575490945914,\n",
       " 0.33082541292665046,\n",
       " 0.3858468713594691,\n",
       " 0.3831185175153737,\n",
       " 0.36901404093705037,\n",
       " 0.352181089540469,\n",
       " 0.33548187260158263,\n",
       " 0.29976911763021596,\n",
       " 0.2868518460966623,\n",
       " 0.27353851796877815]"
      ]
     },
     "execution_count": 107,
     "metadata": {},
     "output_type": "execute_result"
    }
   ],
   "source": [
    "#Optimum silhouette score\n",
    "\n",
    "score = []\n",
    "\n",
    "for i in range(2,16):\n",
    "    kmean = KMeans(n_clusters=i)\n",
    "    kmean.fit(df)\n",
    "    score.append(silhouette_score(df, kmean.labels_))\n",
    "    \n",
    "score"
   ]
  },
  {
   "cell_type": "code",
   "execution_count": 109,
   "metadata": {},
   "outputs": [
    {
     "data": {
      "text/plain": [
       "1"
      ]
     },
     "execution_count": 109,
     "metadata": {},
     "output_type": "execute_result"
    }
   ],
   "source": [
    "max_score = score.index(max(score))\n",
    "max_score"
   ]
  },
  {
   "cell_type": "code",
   "execution_count": 126,
   "metadata": {},
   "outputs": [
    {
     "data": {
      "image/png": "[encoded data removed]",
      "text/plain": [
       "<Figure size 800x500 with 1 Axes>"
      ]
     },
     "metadata": {},
     "output_type": "display_data"
    }
   ],
   "source": [
    "#Plot Silhouette Score\n",
    "\n",
    "max_score = max(score)\n",
    "max_n = score.index(max(score))\n",
    "\n",
    "\n",
    "\n",
    "plt.figure(figsize=(8,5))\n",
    "sns.lineplot(x=n_range, y=score, marker='o')\n",
    "plt.xticks(n_range)\n",
    "plt.xlabel('Number of Cluster')\n",
    "plt.ylabel('Silhouette Score')\n",
    "\n",
    "#Annotate highest score\n",
    "plt.annotate(f'WSS:={max_score:.2f}', \n",
    "             xy=(3, 0.627 - 0.02), xytext=(3, 0.47),\n",
    "             arrowprops=dict(arrowstyle='->'),color='red')\n",
    "\n",
    "plt.show()"
   ]
  },
  {
   "cell_type": "code",
   "execution_count": 114,
   "metadata": {},
   "outputs": [
    {
     "data": {
      "text/plain": [
       "array([2, 2, 0, 2, 2, 0, 0, 0, 0, 0, 0, 1, 1, 0, 0, 1, 1, 1, 1, 1, 1, 1],\n",
       "      dtype=int32)"
      ]
     },
     "execution_count": 114,
     "metadata": {},
     "output_type": "execute_result"
    }
   ],
   "source": [
    "#FInal Cluster\n",
    "\n",
    "kmean = KMeans(n_clusters=3)\n",
    "kmean.fit(df)\n",
    "\n",
    "kmean.labels_"
   ]
  },
  {
   "cell_type": "code",
   "execution_count": 115,
   "metadata": {},
   "outputs": [],
   "source": [
    "df['cluster'] = kmean.labels_"
   ]
  },
  {
   "cell_type": "code",
   "execution_count": 118,
   "metadata": {},
   "outputs": [
    {
     "data": {
      "text/plain": [
       "<Axes: xlabel='tinggibadan', ylabel='tinggibadanistri'>"
      ]
     },
     "execution_count": 118,
     "metadata": {},
     "output_type": "execute_result"
    },
    {
     "data": {
      "image/png": "[encoded data removed]",
      "text/plain": [
       "<Figure size 640x480 with 1 Axes>"
      ]
     },
     "metadata": {},
     "output_type": "display_data"
    }
   ],
   "source": [
    "sns.scatterplot(data=df, x='tinggibadan', y='tinggibadanistri', hue='cluster', palette='bright')"
   ]
  },
  {
   "cell_type": "markdown",
   "metadata": {},
   "source": [
    "---"
   ]
  },
  {
   "cell_type": "markdown",
   "metadata": {},
   "source": [
    "## Agglomerative Clustering"
   ]
  },
  {
   "cell_type": "markdown",
   "metadata": {},
   "source": [
    "- Hierarchical clustering, we can see the iterative process of clustering\n",
    "- Each data point is assigned to its own cluster\n",
    "- At each iteration, the two clusters that are the most similar are combined into a new bigger cluster (bottom-up approach), with linkage method:\n",
    "    - Ward\n",
    "    - Complete\n",
    "    - Average\n",
    "- The algorithm stops when all points have been merged into a single cluster\n",
    "- Effective for smaller datasets"
   ]
  },
  {
   "cell_type": "markdown",
   "metadata": {},
   "source": [
    "Dendogram are used to visualize the hierarchy and cluster at each iteration"
   ]
  },
  {
   "cell_type": "markdown",
   "metadata": {},
   "source": [
    "**Linkage: Ward**\n",
    "\n",
    "- Minimizes the **variance** of the clusters being merged\n",
    "- Often leads to clusters that are relatively equal in size"
   ]
  },
  {
   "cell_type": "markdown",
   "metadata": {},
   "source": [
    "**Linkage: Average**\n",
    "\n",
    "- Minimizes the **average of the distances** between all observations of pairs of clusters\n"
   ]
  },
  {
   "cell_type": "markdown",
   "metadata": {},
   "source": [
    "**Linkage: Complete**\n",
    "\n",
    "- Minimizes the **maximum distance** between observations of pairs of clusters\n",
    "- Can result in clusters that may be unbalanced\n",
    "- Very sensitive to outliers"
   ]
  },
  {
   "cell_type": "code",
   "execution_count": 137,
   "metadata": {},
   "outputs": [
    {
     "data": {
      "image/png": "[encoded data removed]",
      "text/plain": [
       "<Figure size 800x800 with 1 Axes>"
      ]
     },
     "metadata": {},
     "output_type": "display_data"
    }
   ],
   "source": [
    "#Load data \n",
    "df = pd.read_csv('/Users/Dwika/My Projects/DATASETS/ilustrasi_k_means.csv', sep=';')\n",
    "\n",
    "\n",
    "#Visualize\n",
    "\n",
    "plt.figure(figsize=(8,8))\n",
    "sns.scatterplot(data=df, x='tinggibadan', y='tinggibadanistri')\n",
    "plt.xlabel('Tinggi Badan')\n",
    "plt.ylabel('Tinggi Badan Istri')\n",
    "\n",
    "for i,txt in enumerate(df.index):\n",
    "    plt.annotate(txt, (df['tinggibadan'][i] + 0.5, df['tinggibadanistri'][i] + 0.2))\n",
    "\n",
    "plt.show()"
   ]
  },
  {
   "cell_type": "code",
   "execution_count": 136,
   "metadata": {},
   "outputs": [],
   "source": [
    "\n",
    "#Load Agglomerative Clustering Library\n",
    "from sklearn.cluster import AgglomerativeClustering\n"
   ]
  },
  {
   "cell_type": "code",
   "execution_count": 164,
   "metadata": {},
   "outputs": [
    {
     "data": {
      "text/html": [
       "<div>\n",
       "<style scoped>\n",
       "    .dataframe tbody tr th:only-of-type {\n",
       "        vertical-align: middle;\n",
       "    }\n",
       "\n",
       "    .dataframe tbody tr th {\n",
       "        vertical-align: top;\n",
       "    }\n",
       "\n",
       "    .dataframe thead th {\n",
       "        text-align: right;\n",
       "    }\n",
       "</style>\n",
       "<table border=\"1\" class=\"dataframe\">\n",
       "  <thead>\n",
       "    <tr style=\"text-align: right;\">\n",
       "      <th></th>\n",
       "      <th>tinggibadan</th>\n",
       "      <th>tinggibadanistri</th>\n",
       "      <th>agglo_cluster_ward</th>\n",
       "    </tr>\n",
       "  </thead>\n",
       "  <tbody>\n",
       "    <tr>\n",
       "      <th>0</th>\n",
       "      <td>175</td>\n",
       "      <td>175</td>\n",
       "      <td>2</td>\n",
       "    </tr>\n",
       "    <tr>\n",
       "      <th>1</th>\n",
       "      <td>178</td>\n",
       "      <td>178</td>\n",
       "      <td>2</td>\n",
       "    </tr>\n",
       "    <tr>\n",
       "      <th>2</th>\n",
       "      <td>175</td>\n",
       "      <td>166</td>\n",
       "      <td>0</td>\n",
       "    </tr>\n",
       "    <tr>\n",
       "      <th>3</th>\n",
       "      <td>180</td>\n",
       "      <td>179</td>\n",
       "      <td>2</td>\n",
       "    </tr>\n",
       "    <tr>\n",
       "      <th>4</th>\n",
       "      <td>185</td>\n",
       "      <td>181</td>\n",
       "      <td>2</td>\n",
       "    </tr>\n",
       "    <tr>\n",
       "      <th>5</th>\n",
       "      <td>178</td>\n",
       "      <td>163</td>\n",
       "      <td>0</td>\n",
       "    </tr>\n",
       "    <tr>\n",
       "      <th>6</th>\n",
       "      <td>175</td>\n",
       "      <td>158</td>\n",
       "      <td>0</td>\n",
       "    </tr>\n",
       "    <tr>\n",
       "      <th>7</th>\n",
       "      <td>181</td>\n",
       "      <td>154</td>\n",
       "      <td>0</td>\n",
       "    </tr>\n",
       "    <tr>\n",
       "      <th>8</th>\n",
       "      <td>168</td>\n",
       "      <td>155</td>\n",
       "      <td>0</td>\n",
       "    </tr>\n",
       "    <tr>\n",
       "      <th>9</th>\n",
       "      <td>171</td>\n",
       "      <td>154</td>\n",
       "      <td>0</td>\n",
       "    </tr>\n",
       "    <tr>\n",
       "      <th>10</th>\n",
       "      <td>177</td>\n",
       "      <td>156</td>\n",
       "      <td>0</td>\n",
       "    </tr>\n",
       "    <tr>\n",
       "      <th>11</th>\n",
       "      <td>158</td>\n",
       "      <td>155</td>\n",
       "      <td>1</td>\n",
       "    </tr>\n",
       "    <tr>\n",
       "      <th>12</th>\n",
       "      <td>158</td>\n",
       "      <td>152</td>\n",
       "      <td>1</td>\n",
       "    </tr>\n",
       "    <tr>\n",
       "      <th>13</th>\n",
       "      <td>175</td>\n",
       "      <td>149</td>\n",
       "      <td>0</td>\n",
       "    </tr>\n",
       "    <tr>\n",
       "      <th>14</th>\n",
       "      <td>172</td>\n",
       "      <td>163</td>\n",
       "      <td>0</td>\n",
       "    </tr>\n",
       "    <tr>\n",
       "      <th>15</th>\n",
       "      <td>158</td>\n",
       "      <td>151</td>\n",
       "      <td>1</td>\n",
       "    </tr>\n",
       "    <tr>\n",
       "      <th>16</th>\n",
       "      <td>153</td>\n",
       "      <td>155</td>\n",
       "      <td>1</td>\n",
       "    </tr>\n",
       "    <tr>\n",
       "      <th>17</th>\n",
       "      <td>150</td>\n",
       "      <td>150</td>\n",
       "      <td>1</td>\n",
       "    </tr>\n",
       "    <tr>\n",
       "      <th>18</th>\n",
       "      <td>157</td>\n",
       "      <td>152</td>\n",
       "      <td>1</td>\n",
       "    </tr>\n",
       "    <tr>\n",
       "      <th>19</th>\n",
       "      <td>154</td>\n",
       "      <td>150</td>\n",
       "      <td>1</td>\n",
       "    </tr>\n",
       "    <tr>\n",
       "      <th>20</th>\n",
       "      <td>157</td>\n",
       "      <td>145</td>\n",
       "      <td>1</td>\n",
       "    </tr>\n",
       "    <tr>\n",
       "      <th>21</th>\n",
       "      <td>160</td>\n",
       "      <td>154</td>\n",
       "      <td>1</td>\n",
       "    </tr>\n",
       "  </tbody>\n",
       "</table>\n",
       "</div>"
      ],
      "text/plain": [
       "    tinggibadan  tinggibadanistri  agglo_cluster_ward\n",
       "0           175               175                   2\n",
       "1           178               178                   2\n",
       "2           175               166                   0\n",
       "3           180               179                   2\n",
       "4           185               181                   2\n",
       "5           178               163                   0\n",
       "6           175               158                   0\n",
       "7           181               154                   0\n",
       "8           168               155                   0\n",
       "9           171               154                   0\n",
       "10          177               156                   0\n",
       "11          158               155                   1\n",
       "12          158               152                   1\n",
       "13          175               149                   0\n",
       "14          172               163                   0\n",
       "15          158               151                   1\n",
       "16          153               155                   1\n",
       "17          150               150                   1\n",
       "18          157               152                   1\n",
       "19          154               150                   1\n",
       "20          157               145                   1\n",
       "21          160               154                   1"
      ]
     },
     "execution_count": 164,
     "metadata": {},
     "output_type": "execute_result"
    }
   ],
   "source": [
    "#Create Agglomerative Clustering Object\n",
    "agglo = AgglomerativeClustering(n_clusters=3, linkage='ward')\n",
    "\n",
    "df['agglo_cluster_ward'] = agglo.fit_predict(df)\n",
    "df\n"
   ]
  },
  {
   "cell_type": "code",
   "execution_count": 162,
   "metadata": {},
   "outputs": [
    {
     "data": {
      "image/png": "[encoded data removed]",
      "text/plain": [
       "<Figure size 640x480 with 1 Axes>"
      ]
     },
     "metadata": {},
     "output_type": "display_data"
    }
   ],
   "source": [
    "#Agglomerative Clustering Dendogram Plots\n",
    "\n",
    "from scipy.cluster.hierarchy import dendrogram, ward, average, complete\n",
    "\n",
    "linkage = ward(df)\n",
    "\n",
    "dendrogram(linkage)\n",
    "\n",
    "# plot horizontal cut-off line\n",
    "ax = plt.gca()\n",
    "bounds = ax.get_xbound()\n",
    "ax.plot(bounds, [55, 55], '--', c='k')\n",
    "ax.plot(bounds, [25, 25], '--', c='k')\n",
    "ax.text(bounds[1], 55, ' two clusters', va='center', fontdict={'size': 15})\n",
    "ax.text(bounds[1], 25, ' three clusters', va='center', fontdict={'size': 15})\n",
    "\n",
    "plt.title('Complete')\n",
    "plt.xlabel(\"Sample index\")\n",
    "plt.ylabel(\"Cluster distance\")\n",
    "\n",
    "plt.show()"
   ]
  },
  {
   "cell_type": "markdown",
   "metadata": {},
   "source": [
    "--- "
   ]
  },
  {
   "cell_type": "markdown",
   "metadata": {},
   "source": [
    "## DBSCAN Clustering\n",
    "\n",
    "- Non-hierarchical clustering\n",
    "- Density-based spatial clustering of applications with **noise**\n",
    "- Not every data point will be included in clusters (remove outliers from clusters)\n",
    "- Groups together points that are close to each other based on a distance measurement (usually Euclidean distance) and a minimum number of points"
   ]
  },
  {
   "cell_type": "markdown",
   "metadata": {},
   "source": [
    "**DBSCAN Parameters:**\n",
    "\n",
    "- min samples: minimum number of data points in a neighborhood to define a cluster\n",
    "    - larger min_samples, less clusters, more noise\n",
    "- eps: maximum distance between two data points to be considered in the same neighborhood\n",
    "    - larger eps, more points will be included in a cluster, fewer clusters, more noise"
   ]
  },
  {
   "cell_type": "code",
   "execution_count": 165,
   "metadata": {},
   "outputs": [],
   "source": [
    "#DBSCAN Library\n",
    "from sklearn.cluster import DBSCAN"
   ]
  },
  {
   "cell_type": "code",
   "execution_count": 169,
   "metadata": {},
   "outputs": [
    {
     "data": {
      "text/plain": [
       "array([-1, -1, -1, -1, -1, -1, -1, -1, -1, -1, -1, -1,  0, -1, -1,  0, -1,\n",
       "       -1,  0, -1, -1, -1])"
      ]
     },
     "execution_count": 169,
     "metadata": {},
     "output_type": "execute_result"
    }
   ],
   "source": [
    "#Create DBSCAN Object\n",
    "\n",
    "dbscan = DBSCAN(eps=1.5, min_samples=3)\n",
    "\n",
    "\n",
    "#Fit DBSCAN\n",
    "dbscan.fit_predict(df)"
   ]
  },
  {
   "cell_type": "markdown",
   "metadata": {},
   "source": [
    "> The clustering are based on values of features, and may need to be scaled"
   ]
  },
  {
   "cell_type": "code",
   "execution_count": 170,
   "metadata": {},
   "outputs": [
    {
     "data": {
      "text/plain": [
       "array([0, 0, 1, 0, 0, 1, 1, 1, 1, 1, 1, 2, 2, 1, 1, 2, 2, 2, 2, 2, 2, 2])"
      ]
     },
     "execution_count": 170,
     "metadata": {},
     "output_type": "execute_result"
    }
   ],
   "source": [
    "#Preprocessing\n",
    "from sklearn.preprocessing import StandardScaler\n",
    "\n",
    "dfscaled = StandardScaler().fit_transform(df) #Standardize data\n",
    "\n",
    "dbscan.fit_predict(dfscaled)"
   ]
  },
  {
   "cell_type": "code",
   "execution_count": 177,
   "metadata": {},
   "outputs": [
    {
     "name": "stdout",
     "output_type": "stream",
     "text": [
      "Cluster member: [ 0  1  2  3  4  5  6  7  8  9 10 11 12 13 14 15 16 17 18 19]\n",
      "Cluster size : [0 1 1 1 1 1 1 1 1 1 1 1 1 3 1 1 1 1 1 1 1]\n",
      "Silhouette Score: 0.08798206553432567\n",
      "Cluster member: [-1  0]\n",
      "Cluster size : [19  3]\n",
      "Silhouette Score: -0.012983443439780267\n",
      "Cluster member: [-1  0]\n",
      "Cluster size : [19  3]\n",
      "Silhouette Score: -0.012983443439780267\n"
     ]
    },
    {
     "ename": "ValueError",
     "evalue": "Number of labels is 1. Valid values are 2 to n_samples - 1 (inclusive)",
     "output_type": "error",
     "traceback": [
      "\u001b[0;31m---------------------------------------------------------------------------\u001b[0m",
      "\u001b[0;31mValueError\u001b[0m                                Traceback (most recent call last)",
      "\u001b[1;32m/Users/Dwika/My Projects/Modul 3 Purwadhika/0-Class Notes/ClassNote-15-UnsupervisedLearning.ipynb Cell 75\u001b[0m line \u001b[0;36m1\n\u001b[1;32m     <a href='vscode-notebook-cell:/Users/Dwika/My%20Projects/Modul%203%20Purwadhika/0-Class%20Notes/ClassNote-15-UnsupervisedLearning.ipynb#Y166sZmlsZQ%3D%3D?line=11'>12</a>\u001b[0m dbscan \u001b[39m=\u001b[39m DBSCAN(eps\u001b[39m=\u001b[39mepsilon\u001b[39m/\u001b[39m\u001b[39m10\u001b[39m, min_samples\u001b[39m=\u001b[39mmin_samples)\n\u001b[1;32m     <a href='vscode-notebook-cell:/Users/Dwika/My%20Projects/Modul%203%20Purwadhika/0-Class%20Notes/ClassNote-15-UnsupervisedLearning.ipynb#Y166sZmlsZQ%3D%3D?line=12'>13</a>\u001b[0m labels \u001b[39m=\u001b[39m dbscan\u001b[39m.\u001b[39mfit_predict(dfscaled)\n\u001b[0;32m---> <a href='vscode-notebook-cell:/Users/Dwika/My%20Projects/Modul%203%20Purwadhika/0-Class%20Notes/ClassNote-15-UnsupervisedLearning.ipynb#Y166sZmlsZQ%3D%3D?line=13'>14</a>\u001b[0m ss \u001b[39m=\u001b[39m silhouette_score(dfscaled, labels)\n\u001b[1;32m     <a href='vscode-notebook-cell:/Users/Dwika/My%20Projects/Modul%203%20Purwadhika/0-Class%20Notes/ClassNote-15-UnsupervisedLearning.ipynb#Y166sZmlsZQ%3D%3D?line=15'>16</a>\u001b[0m \u001b[39mprint\u001b[39m(\u001b[39mf\u001b[39m\u001b[39m'\u001b[39m\u001b[39mCluster member: \u001b[39m\u001b[39m{\u001b[39;00mnp\u001b[39m.\u001b[39munique(labels)\u001b[39m}\u001b[39;00m\u001b[39m'\u001b[39m)\n\u001b[1;32m     <a href='vscode-notebook-cell:/Users/Dwika/My%20Projects/Modul%203%20Purwadhika/0-Class%20Notes/ClassNote-15-UnsupervisedLearning.ipynb#Y166sZmlsZQ%3D%3D?line=16'>17</a>\u001b[0m \u001b[39mprint\u001b[39m(\u001b[39mf\u001b[39m\u001b[39m'\u001b[39m\u001b[39mCluster size : \u001b[39m\u001b[39m{\u001b[39;00mnp\u001b[39m.\u001b[39mbincount(labels\u001b[39m \u001b[39m\u001b[39m+\u001b[39m\u001b[39m \u001b[39m\u001b[39m1\u001b[39m)\u001b[39m}\u001b[39;00m\u001b[39m'\u001b[39m)\n",
      "File \u001b[0;32m~/My Projects/.venv/lib/python3.11/site-packages/sklearn/metrics/cluster/_unsupervised.py:117\u001b[0m, in \u001b[0;36msilhouette_score\u001b[0;34m(X, labels, metric, sample_size, random_state, **kwds)\u001b[0m\n\u001b[1;32m    115\u001b[0m     \u001b[39melse\u001b[39;00m:\n\u001b[1;32m    116\u001b[0m         X, labels \u001b[39m=\u001b[39m X[indices], labels[indices]\n\u001b[0;32m--> 117\u001b[0m \u001b[39mreturn\u001b[39;00m np\u001b[39m.\u001b[39mmean(silhouette_samples(X, labels, metric\u001b[39m=\u001b[39;49mmetric, \u001b[39m*\u001b[39;49m\u001b[39m*\u001b[39;49mkwds))\n",
      "File \u001b[0;32m~/My Projects/.venv/lib/python3.11/site-packages/sklearn/metrics/cluster/_unsupervised.py:231\u001b[0m, in \u001b[0;36msilhouette_samples\u001b[0;34m(X, labels, metric, **kwds)\u001b[0m\n\u001b[1;32m    229\u001b[0m n_samples \u001b[39m=\u001b[39m \u001b[39mlen\u001b[39m(labels)\n\u001b[1;32m    230\u001b[0m label_freqs \u001b[39m=\u001b[39m np\u001b[39m.\u001b[39mbincount(labels)\n\u001b[0;32m--> 231\u001b[0m check_number_of_labels(\u001b[39mlen\u001b[39;49m(le\u001b[39m.\u001b[39;49mclasses_), n_samples)\n\u001b[1;32m    233\u001b[0m kwds[\u001b[39m\"\u001b[39m\u001b[39mmetric\u001b[39m\u001b[39m\"\u001b[39m] \u001b[39m=\u001b[39m metric\n\u001b[1;32m    234\u001b[0m reduce_func \u001b[39m=\u001b[39m functools\u001b[39m.\u001b[39mpartial(\n\u001b[1;32m    235\u001b[0m     _silhouette_reduce, labels\u001b[39m=\u001b[39mlabels, label_freqs\u001b[39m=\u001b[39mlabel_freqs\n\u001b[1;32m    236\u001b[0m )\n",
      "File \u001b[0;32m~/My Projects/.venv/lib/python3.11/site-packages/sklearn/metrics/cluster/_unsupervised.py:33\u001b[0m, in \u001b[0;36mcheck_number_of_labels\u001b[0;34m(n_labels, n_samples)\u001b[0m\n\u001b[1;32m     22\u001b[0m \u001b[39m\u001b[39m\u001b[39m\"\"\"Check that number of labels are valid.\u001b[39;00m\n\u001b[1;32m     23\u001b[0m \n\u001b[1;32m     24\u001b[0m \u001b[39mParameters\u001b[39;00m\n\u001b[0;32m   (...)\u001b[0m\n\u001b[1;32m     30\u001b[0m \u001b[39m    Number of samples.\u001b[39;00m\n\u001b[1;32m     31\u001b[0m \u001b[39m\"\"\"\u001b[39;00m\n\u001b[1;32m     32\u001b[0m \u001b[39mif\u001b[39;00m \u001b[39mnot\u001b[39;00m \u001b[39m1\u001b[39m \u001b[39m<\u001b[39m n_labels \u001b[39m<\u001b[39m n_samples:\n\u001b[0;32m---> 33\u001b[0m     \u001b[39mraise\u001b[39;00m \u001b[39mValueError\u001b[39;00m(\n\u001b[1;32m     34\u001b[0m         \u001b[39m\"\u001b[39m\u001b[39mNumber of labels is \u001b[39m\u001b[39m%d\u001b[39;00m\u001b[39m. Valid values are 2 to n_samples - 1 (inclusive)\u001b[39m\u001b[39m\"\u001b[39m\n\u001b[1;32m     35\u001b[0m         \u001b[39m%\u001b[39m n_labels\n\u001b[1;32m     36\u001b[0m     )\n",
      "\u001b[0;31mValueError\u001b[0m: Number of labels is 1. Valid values are 2 to n_samples - 1 (inclusive)"
     ]
    }
   ],
   "source": [
    "# Finding best eps and min_samples\n",
    "\n",
    "# eps_list = []\n",
    "# min_samples_list = []\n",
    "# dbscan_list = []\n",
    "\n",
    "# for epsilon in range(1,11):\n",
    "#     for min_samples in range(1,11):\n",
    "        \n",
    "#         # dbscan.fit_predict(dfscaled)\n",
    "        \n",
    "#         dbscan = DBSCAN(eps=epsilon/10, min_samples=min_samples)\n",
    "#         labels = dbscan.fit_predict(dfscaled)\n",
    "#         ss = silhouette_score(dfscaled, labels)\n",
    "        \n",
    "#         print(f'Cluster member: {np.unique(labels)}')\n",
    "#         print(f'Cluster size : {np.bincount(labels + 1)}')\n",
    "#         print(f'Silhouette Score: {ss}')\n",
    "        "
   ]
  },
  {
   "cell_type": "code",
   "execution_count": 174,
   "metadata": {},
   "outputs": [
    {
     "data": {
      "text/plain": [
       "array([-1, -1, -1, -1, -1, -1, -1, -1, -1, -1, -1, -1, -1, -1, -1, -1, -1,\n",
       "       -1, -1, -1, -1, -1])"
      ]
     },
     "execution_count": 174,
     "metadata": {},
     "output_type": "execute_result"
    }
   ],
   "source": [
    "labels"
   ]
  },
  {
   "cell_type": "markdown",
   "metadata": {},
   "source": []
  }
 ],
 "metadata": {
  "kernelspec": {
   "display_name": ".venv",
   "language": "python",
   "name": "python3"
  },
  "language_info": {
   "codemirror_mode": {
    "name": "ipython",
    "version": 3
   },
   "file_extension": ".py",
   "mimetype": "text/x-python",
   "name": "python",
   "nbconvert_exporter": "python",
   "pygments_lexer": "ipython3",
   "version": "3.11.4"
  }
 },
 "nbformat": 4,
 "nbformat_minor": 2
}
