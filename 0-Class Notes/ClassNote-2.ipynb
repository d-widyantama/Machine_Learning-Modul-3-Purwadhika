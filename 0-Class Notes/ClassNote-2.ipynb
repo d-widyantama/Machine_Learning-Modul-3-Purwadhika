{
 "cells": [
  {
   "cell_type": "markdown",
   "metadata": {},
   "source": [
    "*DAY 2*\n",
    "\n",
    "# **Machine Learning Framework**"
   ]
  },
  {
   "cell_type": "markdown",
   "metadata": {},
   "source": [
    "---"
   ]
  },
  {
   "cell_type": "markdown",
   "metadata": {},
   "source": [
    "![Alt text](image-1.png)"
   ]
  },
  {
   "cell_type": "markdown",
   "metadata": {},
   "source": [
    "**Machine Learning Development Lifecycle**\n",
    "\n",
    "1. Acquire Data\n",
    "2. Pick ML Models (Supervised/Unsupervised)\n",
    "3. EDA 1 -> Finding Anomalies\n",
    "4. Data Cleaning\n",
    "5. EDA 2 -> Find Insights\n",
    "6. Feature Engineering (Encoding (Cat>Num), Scaling)\n",
    "7. Train Test Split data, split data into \n",
    "    - Train Data (80/75/70%) -> Data for training the ML model\n",
    "    - Test Data    (20/25/30%) -> Data for evaluating the ML model\n",
    "8. Modelling (Train)\n",
    "9. Evaluation (Test)\n",
    "10. Deployment \n",
    "\n",
    "\n",
    "\n",
    "\n",
    "*Steps 2-7 are iterative process 1\n",
    "\n",
    "** Steps 8-9 are iterative porcess 2\n",
    "\n",
    "***Steps 8-9 Cross Validation, Hyper Parameter Tuning"
   ]
  },
  {
   "cell_type": "markdown",
   "metadata": {},
   "source": [
    "## One Hot Ecoding (OHE)"
   ]
  },
  {
   "cell_type": "markdown",
   "metadata": {},
   "source": [
    "Converting categorical data to numeric, in order to apply it to ML Modeling"
   ]
  },
  {
   "cell_type": "markdown",
   "metadata": {},
   "source": [
    "Contoh\n",
    "\n",
    "JK | JK_L | JK_P \n",
    "-- | --- | -- \n",
    "Laki | 1 | 0\n",
    "Perempuan | 0 | 1\n",
    "Perempuan | 0 | 1\n",
    "\n",
    "atau bisa disebut sebagai **Dummy Variable**"
   ]
  },
  {
   "cell_type": "code",
   "execution_count": null,
   "metadata": {},
   "outputs": [],
   "source": []
  },
  {
   "cell_type": "code",
   "execution_count": 1,
   "metadata": {},
   "outputs": [
    {
     "name": "stdout",
     "output_type": "stream",
     "text": [
      "Testing git\n"
     ]
    }
   ],
   "source": [
    "print(\"Testing git\")"
   ]
  }
 ],
 "metadata": {
  "kernelspec": {
   "display_name": ".venv",
   "language": "python",
   "name": "python3"
  },
  "language_info": {
   "codemirror_mode": {
    "name": "ipython",
    "version": 3
   },
   "file_extension": ".py",
   "mimetype": "text/x-python",
   "name": "python",
   "nbconvert_exporter": "python",
   "pygments_lexer": "ipython3",
   "version": "3.11.4"
  },
  "orig_nbformat": 4
 },
 "nbformat": 4,
 "nbformat_minor": 2
}
