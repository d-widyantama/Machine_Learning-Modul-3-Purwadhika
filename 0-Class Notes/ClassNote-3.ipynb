{
 "cells": [
  {
   "cell_type": "markdown",
   "metadata": {},
   "source": [
    "*Day 3*\n",
    "# K-Nearest Neighbour\n",
    "---"
   ]
  },
  {
   "cell_type": "markdown",
   "metadata": {},
   "source": [
    "**Point of Interest and Variable Labelling**"
   ]
  },
  {
   "cell_type": "markdown",
   "metadata": {},
   "source": [
    "Example:\n",
    "\n",
    "POI: We would like predict who's joining a program\n",
    "- Yes --> 1\n",
    "- No --> 0 \n",
    "\n",
    "POI: We would like to focus on who's leaving the subscription\n",
    "- Churn --> 1\n",
    "- Non Churn "
   ]
  },
  {
   "cell_type": "markdown",
   "metadata": {},
   "source": [
    "**Key Parameter: K / N-Neighbours** \n",
    "\n",
    "K are the number of neighbours that are determining the classification results, the range between target variable y and their neighbours, it's better to use odd number for K to avoid classification bias "
   ]
  },
  {
   "cell_type": "markdown",
   "metadata": {},
   "source": [
    "**Choosing factor K** \n",
    "\n",
    "looping to see which validation (test data) error rate are the smallest."
   ]
  },
  {
   "cell_type": "code",
   "execution_count": null,
   "metadata": {},
   "outputs": [],
   "source": []
  }
 ],
 "metadata": {
  "kernelspec": {
   "display_name": ".venv",
   "language": "python",
   "name": "python3"
  },
  "language_info": {
   "codemirror_mode": {
    "name": "ipython",
    "version": 3
   },
   "file_extension": ".py",
   "mimetype": "text/x-python",
   "name": "python",
   "nbconvert_exporter": "python",
   "pygments_lexer": "ipython3",
   "version": "3.11.4"
  },
  "orig_nbformat": 4
 },
 "nbformat": 4,
 "nbformat_minor": 2
}
