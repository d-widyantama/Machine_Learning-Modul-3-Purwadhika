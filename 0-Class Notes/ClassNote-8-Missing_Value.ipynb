{
 "cells": [
  {
   "cell_type": "markdown",
   "metadata": {},
   "source": [
    "# Missing Value Handling\n",
    "---"
   ]
  },
  {
   "cell_type": "markdown",
   "metadata": {},
   "source": [
    "## **Identify Missing Values**"
   ]
  },
  {
   "cell_type": "markdown",
   "metadata": {},
   "source": [
    "- Nan / None Values\n",
    "- ???, Unknown, Undefined, etc.\n",
    "- 0, 999, -1, etc. "
   ]
  },
  {
   "cell_type": "markdown",
   "metadata": {},
   "source": [
    "## **Technique for Handling**"
   ]
  },
  {
   "cell_type": "markdown",
   "metadata": {},
   "source": [
    "- Drop Column\n",
    "- Drop Row\n",
    "- Imputation, substitute with mean, median, mode, etc.\n",
    "- Prediction, use other columns to predict the missing value, based on context"
   ]
  },
  {
   "cell_type": "markdown",
   "metadata": {},
   "source": [
    "### Interative Imputer"
   ]
  },
  {
   "cell_type": "markdown",
   "metadata": {},
   "source": [
    "- Only applicable to **numerical data**\n",
    "- Predict missing values **using regression**\n",
    "- Iteratively imputes the missing values"
   ]
  },
  {
   "cell_type": "code",
   "execution_count": null,
   "metadata": {},
   "outputs": [],
   "source": [
    "from sklearn.impute import IterativeImputer\n",
    "\n",
    "# Create an imputer object with a IterativeImputer\n",
    "imputer = IterativeImputer()"
   ]
  },
  {
   "cell_type": "markdown",
   "metadata": {},
   "source": [
    "### KNN Imputer"
   ]
  },
  {
   "cell_type": "markdown",
   "metadata": {},
   "source": [
    "- Only applicable to **numerical data**\n",
    "- Predict missing values using **KNN** algorithm\n",
    "- Iteratively imputes the missing values"
   ]
  },
  {
   "cell_type": "code",
   "execution_count": null,
   "metadata": {},
   "outputs": [],
   "source": [
    "from sklearn.impute import KNNImputer\n",
    "\n",
    "# Create an imputer object with a KNNImputer\n",
    "imputer = KNNImputer()"
   ]
  },
  {
   "cell_type": "markdown",
   "metadata": {},
   "source": [
    "# Outliers Handling\n",
    "---"
   ]
  },
  {
   "cell_type": "markdown",
   "metadata": {},
   "source": [
    "## **Types of Outliers:**\n",
    "- Global Outliers\n",
    "\n",
    "    Outliers that are far away from the rest of the data points\n",
    "\n",
    "- Contextual Outliers\n",
    "   \n",
    "    Only applies to certain context, e.g. height of 175cm, weight of 100kg, age of 5 years old\n",
    "\n",
    "- Collective Outliers\n",
    "\n",
    "    A group of outliers that are close to each other, often happened in sequential data"
   ]
  },
  {
   "cell_type": "markdown",
   "metadata": {},
   "source": [
    "## **Handling Outliers**"
   ]
  },
  {
   "cell_type": "markdown",
   "metadata": {},
   "source": [
    "- Always refer to contextual knowledge\n",
    "- Remove outliers if they are data entry errors, or if they are not relevant to the context\n",
    "- Keep outliers if they are relevant to the context"
   ]
  },
  {
   "cell_type": "code",
   "execution_count": null,
   "metadata": {},
   "outputs": [],
   "source": []
  }
 ],
 "metadata": {
  "kernelspec": {
   "display_name": ".venv",
   "language": "python",
   "name": "python3"
  },
  "language_info": {
   "name": "python",
   "version": "3.11.4"
  },
  "orig_nbformat": 4
 },
 "nbformat": 4,
 "nbformat_minor": 2
}
