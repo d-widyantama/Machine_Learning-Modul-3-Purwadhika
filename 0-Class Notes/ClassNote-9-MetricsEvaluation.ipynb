{
 "cells": [
  {
   "cell_type": "markdown",
   "metadata": {},
   "source": [
    "# Classification Performance Metrics\n",
    "---"
   ]
  },
  {
   "cell_type": "markdown",
   "metadata": {},
   "source": [
    "How to optimize the performance of a classification model?"
   ]
  },
  {
   "cell_type": "markdown",
   "metadata": {},
   "source": [
    "## Accuracy"
   ]
  },
  {
   "cell_type": "markdown",
   "metadata": {},
   "source": [
    "Fit for balance class in Y"
   ]
  },
  {
   "cell_type": "markdown",
   "metadata": {},
   "source": [
    "## Precision"
   ]
  },
  {
   "cell_type": "markdown",
   "metadata": {},
   "source": [
    "Precision is the fraction of relevant instances among the retrieved instances. \n",
    "\n",
    "Precision is defined as the number of true positives (TP) over the number of true positives plus the number of false positives (FP).\n",
    "\n",
    "$$Precision = \\frac{TP}{TP + FP}$$"
   ]
  },
  {
   "cell_type": "markdown",
   "metadata": {},
   "source": [
    "## Recall (P) / Sensitivity \n",
    "\n",
    "\n",
    "TP -> True Positive (Predicted Positive and Actual Positive) \n",
    "\n",
    "\n",
    "$$Recall (P) = \\frac{TP}{TP + FN}$$\n",
    "\n",
    "\n",
    "If False Negative are more important than False Positive, then we should use Recall as a metric.\n",
    "\n",
    "Ex. we want to minimize number of loan given to defaulters"
   ]
  },
  {
   "cell_type": "markdown",
   "metadata": {},
   "source": [
    "## F1-Score"
   ]
  },
  {
   "cell_type": "markdown",
   "metadata": {},
   "source": [
    "Harmonic mean of Precision and Recall, **both** precision and recall is of the same importance\n",
    "\n",
    "F1-Score = 2 * (Precision * Recall) / (Precision + Recall)\n",
    "\n",
    "We are interested only in positive class"
   ]
  },
  {
   "cell_type": "markdown",
   "metadata": {},
   "source": [
    "## F2-Score"
   ]
  },
  {
   "cell_type": "markdown",
   "metadata": {},
   "source": [
    "mean of Precision and Recall, precision and giving **high importance to recall** \n",
    "\n",
    "F2-Score = 2 * (Precision * 2* Recall) / (Precision + 2*Recall)"
   ]
  },
  {
   "cell_type": "markdown",
   "metadata": {},
   "source": [
    "## F0.5-Score"
   ]
  },
  {
   "cell_type": "markdown",
   "metadata": {},
   "source": [
    "harmonic mean of Precision and Recall, not undermining Recall but giving **higher importance to Precision** \n",
    "\n",
    "\n",
    "F0.5-Score = 2 * (2Precision * Recall) / (2Precision + Recall)"
   ]
  },
  {
   "cell_type": "markdown",
   "metadata": {},
   "source": [
    "# Regression Performance Metrics\n",
    "---"
   ]
  },
  {
   "cell_type": "markdown",
   "metadata": {},
   "source": [
    "How to minimize the error of a regression model?"
   ]
  },
  {
   "cell_type": "markdown",
   "metadata": {},
   "source": [
    "## MSE, RMSE and R-Squared"
   ]
  },
  {
   "cell_type": "markdown",
   "metadata": {},
   "source": [
    "RMSE is very specific to outliers\n",
    "\n",
    "| Y | Y-Pred | Residual |\n",
    "|---|----|----------|\n",
    "| 12 | 11  | -1        |\n",
    "| 13 | 13  | 0        |\n",
    "\n",
    "$$ RMSE = \\sqrt{MSE} $$\n",
    "\n",
    "\n",
    "Residual = Actual - Predicted"
   ]
  },
  {
   "cell_type": "markdown",
   "metadata": {},
   "source": [
    "R-Squared: How significant X affects Y"
   ]
  },
  {
   "cell_type": "markdown",
   "metadata": {},
   "source": [
    "## Mean Absolute Error (MAE)"
   ]
  },
  {
   "cell_type": "markdown",
   "metadata": {},
   "source": [
    "When to use?\n",
    "- When you want to penalize large errors\n",
    "- When you want to use a metric that is not affected by outliers\n",
    "- Small variance in Y\n",
    "- Too many outliers"
   ]
  },
  {
   "cell_type": "markdown",
   "metadata": {},
   "source": [
    "## Root Mean Squared Percentage Error (RMSPE)"
   ]
  },
  {
   "cell_type": "markdown",
   "metadata": {},
   "source": [
    "Percentage of RMSE"
   ]
  },
  {
   "cell_type": "markdown",
   "metadata": {},
   "source": [
    "## Mean Absolute Percentage Error (MAPE)\n",
    "\n",
    "MAPE = (1/n) * sum(|Y - Y-Pred|/Y)"
   ]
  }
 ],
 "metadata": {
  "kernelspec": {
   "display_name": ".venv",
   "language": "python",
   "name": "python3"
  },
  "language_info": {
   "name": "python",
   "version": "3.11.4"
  },
  "orig_nbformat": 4
 },
 "nbformat": 4,
 "nbformat_minor": 2
}
