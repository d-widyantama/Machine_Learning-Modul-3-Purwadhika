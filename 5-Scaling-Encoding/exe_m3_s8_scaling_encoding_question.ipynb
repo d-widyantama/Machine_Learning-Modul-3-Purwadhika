{
 "cells": [
  {
   "cell_type": "code",
   "execution_count": 1,
   "metadata": {},
   "outputs": [],
   "source": [
    "import numpy as np \n",
    "import pandas as pd \n",
    "import seaborn as sns "
   ]
  },
  {
   "cell_type": "markdown",
   "metadata": {},
   "source": [
    "# **Exercise: Data Preparation**\n",
    "\n",
    "Pada latihan kali ini, kita akan menggunakan beberapa metode yang telah kita pelajari:\n",
    "\n",
    "- Encoding\n",
    "- Scaling\n",
    "<br><br>\n",
    "\n",
    "**Gunakan melb_data.csv (Melbourne House Data) dengan:**\n",
    "- Features: 'Suburb', 'Rooms', 'Type', 'Method', 'Distance', 'Bedroom2', 'Bathroom', 'Car', 'Landsize', 'BuildingArea', 'YearBuilt', 'CouncilArea', 'Regionname'\n",
    "- Target: 'Price'\n",
    "\n",
    "**Lakukan tahapan ini pada preprocessing dan modeling:**\n",
    "- Lakukan EDA secara sederhana untuk eksplorasi dataset.\n",
    "- Splitting dataset dengan proporsi 80:20 dan random_state = 2020\n",
    "- Gunakan ColumnTransformer untuk encoding.\n",
    "    - Ada 5 features categorical. Lakukan encoding pada features tersebut sesuai dengan karakter masing-masing feature.\n",
    "- Lakukan Scaling pada numerical features. Pilih scaler yang menurut kamu paling sesuai berdasarkan karakteristik datanya.\n",
    "- Lakukan fitting model dan evaluasi dengan metode Lasso pada data yang telah dilakukan preprocessing.\n",
    "\n",
    "Keterangan features:\n",
    "https://www.kaggle.com/datasets/dansbecker/melbourne-housing-snapshot"
   ]
  },
  {
   "cell_type": "code",
   "execution_count": null,
   "metadata": {},
   "outputs": [],
   "source": []
  }
 ],
 "metadata": {
  "kernelspec": {
   "display_name": "Python 3 (ipykernel)",
   "language": "python",
   "name": "python3"
  },
  "language_info": {
   "codemirror_mode": {
    "name": "ipython",
    "version": 3
   },
   "file_extension": ".py",
   "mimetype": "text/x-python",
   "name": "python",
   "nbconvert_exporter": "python",
   "pygments_lexer": "ipython3",
   "version": "3.9.13"
  }
 },
 "nbformat": 4,
 "nbformat_minor": 2
}
