{
 "cells": [
  {
   "cell_type": "code",
   "execution_count": 1,
   "metadata": {},
   "outputs": [],
   "source": [
    "## EDA Standard Libary\n",
    "\n",
    "import pandas as pd\n",
    "import numpy as np\n",
    "import matplotlib.pyplot as plt\n",
    "import seaborn as sns\n",
    "import statsmodels.stats as ss"
   ]
  },
  {
   "cell_type": "code",
   "execution_count": 2,
   "metadata": {},
   "outputs": [],
   "source": [
    "#ML Library\n",
    "\n",
    "#ML Models\n",
    "from sklearn.linear_model import LogisticRegression\n",
    "from sklearn.tree import DecisionTreeClassifier\n",
    "from sklearn.neighbors import KNeighborsClassifier\n",
    "from sklearn.svm import SVC\n",
    "#ML TrainTest Split\n",
    "from sklearn.model_selection import train_test_split\n",
    "#ML Report\n",
    "from sklearn.metrics import  accuracy_score"
   ]
  },
  {
   "cell_type": "code",
   "execution_count": 6,
   "metadata": {},
   "outputs": [],
   "source": [
    "wine = pd.read_csv('/Users/Dwika/My Projects/DATASETS/white_wine.csv')"
   ]
  },
  {
   "cell_type": "code",
   "execution_count": 8,
   "metadata": {},
   "outputs": [
    {
     "name": "stdout",
     "output_type": "stream",
     "text": [
      "<class 'pandas.core.frame.DataFrame'>\n",
      "RangeIndex: 520 entries, 0 to 519\n",
      "Data columns (total 12 columns):\n",
      " #   Column                Non-Null Count  Dtype  \n",
      "---  ------                --------------  -----  \n",
      " 0   fixed acidity         520 non-null    float64\n",
      " 1   volatile acidity      520 non-null    float64\n",
      " 2   citric acid           520 non-null    float64\n",
      " 3   residual sugar        520 non-null    float64\n",
      " 4   chlorides             520 non-null    float64\n",
      " 5   free sulfur dioxide   520 non-null    float64\n",
      " 6   total sulfur dioxide  520 non-null    float64\n",
      " 7   density               520 non-null    float64\n",
      " 8   pH                    519 non-null    float64\n",
      " 9   sulphates             519 non-null    float64\n",
      " 10  alcohol               519 non-null    float64\n",
      " 11  quality               519 non-null    float64\n",
      "dtypes: float64(12)\n",
      "memory usage: 48.9 KB\n"
     ]
    }
   ],
   "source": [
    "wine.info()"
   ]
  },
  {
   "cell_type": "code",
   "execution_count": 9,
   "metadata": {},
   "outputs": [],
   "source": [
    "wine = wine.dropna()"
   ]
  },
  {
   "cell_type": "code",
   "execution_count": 10,
   "metadata": {},
   "outputs": [
    {
     "name": "stdout",
     "output_type": "stream",
     "text": [
      "<class 'pandas.core.frame.DataFrame'>\n",
      "Index: 519 entries, 0 to 518\n",
      "Data columns (total 12 columns):\n",
      " #   Column                Non-Null Count  Dtype  \n",
      "---  ------                --------------  -----  \n",
      " 0   fixed acidity         519 non-null    float64\n",
      " 1   volatile acidity      519 non-null    float64\n",
      " 2   citric acid           519 non-null    float64\n",
      " 3   residual sugar        519 non-null    float64\n",
      " 4   chlorides             519 non-null    float64\n",
      " 5   free sulfur dioxide   519 non-null    float64\n",
      " 6   total sulfur dioxide  519 non-null    float64\n",
      " 7   density               519 non-null    float64\n",
      " 8   pH                    519 non-null    float64\n",
      " 9   sulphates             519 non-null    float64\n",
      " 10  alcohol               519 non-null    float64\n",
      " 11  quality               519 non-null    float64\n",
      "dtypes: float64(12)\n",
      "memory usage: 52.7 KB\n"
     ]
    }
   ],
   "source": [
    "wine.info()"
   ]
  },
  {
   "cell_type": "code",
   "execution_count": 15,
   "metadata": {},
   "outputs": [
    {
     "data": {
      "text/plain": [
       "quality_class\n",
       "0    421\n",
       "1     98\n",
       "Name: count, dtype: int64"
      ]
     },
     "execution_count": 15,
     "metadata": {},
     "output_type": "execute_result"
    }
   ],
   "source": [
    "wine['quality_class'] = wine['quality'].apply(lambda x: 1 if x >= 7 else 0)\n",
    "wine['quality_class'].value_counts()"
   ]
  },
  {
   "cell_type": "code",
   "execution_count": 17,
   "metadata": {},
   "outputs": [
    {
     "data": {
      "text/plain": [
       "quality_class\n",
       "0    81.117534\n",
       "1    18.882466\n",
       "Name: proportion, dtype: float64"
      ]
     },
     "execution_count": 17,
     "metadata": {},
     "output_type": "execute_result"
    }
   ],
   "source": [
    "#QUality Class Proportion\n",
    "wine['quality_class'].value_counts(normalize=True)*100"
   ]
  },
  {
   "cell_type": "markdown",
   "metadata": {},
   "source": [
    ">Imbalance proportion on quality class"
   ]
  },
  {
   "cell_type": "code",
   "execution_count": 18,
   "metadata": {},
   "outputs": [
    {
     "data": {
      "text/html": [
       "<div>\n",
       "<style scoped>\n",
       "    .dataframe tbody tr th:only-of-type {\n",
       "        vertical-align: middle;\n",
       "    }\n",
       "\n",
       "    .dataframe tbody tr th {\n",
       "        vertical-align: top;\n",
       "    }\n",
       "\n",
       "    .dataframe thead th {\n",
       "        text-align: right;\n",
       "    }\n",
       "</style>\n",
       "<table border=\"1\" class=\"dataframe\">\n",
       "  <thead>\n",
       "    <tr style=\"text-align: right;\">\n",
       "      <th></th>\n",
       "      <th>fixed acidity</th>\n",
       "      <th>volatile acidity</th>\n",
       "      <th>citric acid</th>\n",
       "      <th>residual sugar</th>\n",
       "      <th>chlorides</th>\n",
       "      <th>free sulfur dioxide</th>\n",
       "      <th>total sulfur dioxide</th>\n",
       "      <th>density</th>\n",
       "      <th>pH</th>\n",
       "      <th>sulphates</th>\n",
       "      <th>alcohol</th>\n",
       "      <th>quality</th>\n",
       "      <th>quality_class</th>\n",
       "    </tr>\n",
       "  </thead>\n",
       "  <tbody>\n",
       "    <tr>\n",
       "      <th>count</th>\n",
       "      <td>519.000000</td>\n",
       "      <td>519.000000</td>\n",
       "      <td>519.000000</td>\n",
       "      <td>519.000000</td>\n",
       "      <td>519.000000</td>\n",
       "      <td>519.000000</td>\n",
       "      <td>519.000000</td>\n",
       "      <td>519.000000</td>\n",
       "      <td>519.000000</td>\n",
       "      <td>519.000000</td>\n",
       "      <td>519.000000</td>\n",
       "      <td>519.000000</td>\n",
       "      <td>519.000000</td>\n",
       "    </tr>\n",
       "    <tr>\n",
       "      <th>mean</th>\n",
       "      <td>6.811368</td>\n",
       "      <td>0.289162</td>\n",
       "      <td>0.338324</td>\n",
       "      <td>6.613102</td>\n",
       "      <td>0.047780</td>\n",
       "      <td>37.204239</td>\n",
       "      <td>146.748555</td>\n",
       "      <td>0.995376</td>\n",
       "      <td>3.210289</td>\n",
       "      <td>0.486936</td>\n",
       "      <td>10.119461</td>\n",
       "      <td>5.805395</td>\n",
       "      <td>0.188825</td>\n",
       "    </tr>\n",
       "    <tr>\n",
       "      <th>std</th>\n",
       "      <td>0.730952</td>\n",
       "      <td>0.106464</td>\n",
       "      <td>0.120543</td>\n",
       "      <td>5.308326</td>\n",
       "      <td>0.023028</td>\n",
       "      <td>16.880048</td>\n",
       "      <td>44.402195</td>\n",
       "      <td>0.002615</td>\n",
       "      <td>0.148275</td>\n",
       "      <td>0.101472</td>\n",
       "      <td>1.087835</td>\n",
       "      <td>0.880226</td>\n",
       "      <td>0.391747</td>\n",
       "    </tr>\n",
       "    <tr>\n",
       "      <th>min</th>\n",
       "      <td>5.000000</td>\n",
       "      <td>0.100000</td>\n",
       "      <td>0.000000</td>\n",
       "      <td>0.800000</td>\n",
       "      <td>0.020000</td>\n",
       "      <td>3.000000</td>\n",
       "      <td>47.000000</td>\n",
       "      <td>0.989900</td>\n",
       "      <td>2.870000</td>\n",
       "      <td>0.270000</td>\n",
       "      <td>8.500000</td>\n",
       "      <td>3.000000</td>\n",
       "      <td>0.000000</td>\n",
       "    </tr>\n",
       "    <tr>\n",
       "      <th>25%</th>\n",
       "      <td>6.300000</td>\n",
       "      <td>0.225000</td>\n",
       "      <td>0.270000</td>\n",
       "      <td>1.600000</td>\n",
       "      <td>0.038000</td>\n",
       "      <td>25.500000</td>\n",
       "      <td>113.000000</td>\n",
       "      <td>0.993400</td>\n",
       "      <td>3.110000</td>\n",
       "      <td>0.410000</td>\n",
       "      <td>9.300000</td>\n",
       "      <td>5.000000</td>\n",
       "      <td>0.000000</td>\n",
       "    </tr>\n",
       "    <tr>\n",
       "      <th>50%</th>\n",
       "      <td>6.800000</td>\n",
       "      <td>0.270000</td>\n",
       "      <td>0.340000</td>\n",
       "      <td>5.200000</td>\n",
       "      <td>0.045000</td>\n",
       "      <td>36.000000</td>\n",
       "      <td>147.000000</td>\n",
       "      <td>0.995400</td>\n",
       "      <td>3.200000</td>\n",
       "      <td>0.480000</td>\n",
       "      <td>9.900000</td>\n",
       "      <td>6.000000</td>\n",
       "      <td>0.000000</td>\n",
       "    </tr>\n",
       "    <tr>\n",
       "      <th>75%</th>\n",
       "      <td>7.200000</td>\n",
       "      <td>0.330000</td>\n",
       "      <td>0.400000</td>\n",
       "      <td>10.450000</td>\n",
       "      <td>0.052000</td>\n",
       "      <td>48.000000</td>\n",
       "      <td>174.500000</td>\n",
       "      <td>0.997400</td>\n",
       "      <td>3.310000</td>\n",
       "      <td>0.540000</td>\n",
       "      <td>10.700000</td>\n",
       "      <td>6.000000</td>\n",
       "      <td>0.000000</td>\n",
       "    </tr>\n",
       "    <tr>\n",
       "      <th>max</th>\n",
       "      <td>10.200000</td>\n",
       "      <td>0.905000</td>\n",
       "      <td>0.880000</td>\n",
       "      <td>22.000000</td>\n",
       "      <td>0.346000</td>\n",
       "      <td>131.000000</td>\n",
       "      <td>313.000000</td>\n",
       "      <td>1.003300</td>\n",
       "      <td>3.720000</td>\n",
       "      <td>0.850000</td>\n",
       "      <td>12.900000</td>\n",
       "      <td>8.000000</td>\n",
       "      <td>1.000000</td>\n",
       "    </tr>\n",
       "  </tbody>\n",
       "</table>\n",
       "</div>"
      ],
      "text/plain": [
       "       fixed acidity  volatile acidity  citric acid  residual sugar  \\\n",
       "count     519.000000        519.000000   519.000000      519.000000   \n",
       "mean        6.811368          0.289162     0.338324        6.613102   \n",
       "std         0.730952          0.106464     0.120543        5.308326   \n",
       "min         5.000000          0.100000     0.000000        0.800000   \n",
       "25%         6.300000          0.225000     0.270000        1.600000   \n",
       "50%         6.800000          0.270000     0.340000        5.200000   \n",
       "75%         7.200000          0.330000     0.400000       10.450000   \n",
       "max        10.200000          0.905000     0.880000       22.000000   \n",
       "\n",
       "        chlorides  free sulfur dioxide  total sulfur dioxide     density  \\\n",
       "count  519.000000           519.000000            519.000000  519.000000   \n",
       "mean     0.047780            37.204239            146.748555    0.995376   \n",
       "std      0.023028            16.880048             44.402195    0.002615   \n",
       "min      0.020000             3.000000             47.000000    0.989900   \n",
       "25%      0.038000            25.500000            113.000000    0.993400   \n",
       "50%      0.045000            36.000000            147.000000    0.995400   \n",
       "75%      0.052000            48.000000            174.500000    0.997400   \n",
       "max      0.346000           131.000000            313.000000    1.003300   \n",
       "\n",
       "               pH   sulphates     alcohol     quality  quality_class  \n",
       "count  519.000000  519.000000  519.000000  519.000000     519.000000  \n",
       "mean     3.210289    0.486936   10.119461    5.805395       0.188825  \n",
       "std      0.148275    0.101472    1.087835    0.880226       0.391747  \n",
       "min      2.870000    0.270000    8.500000    3.000000       0.000000  \n",
       "25%      3.110000    0.410000    9.300000    5.000000       0.000000  \n",
       "50%      3.200000    0.480000    9.900000    6.000000       0.000000  \n",
       "75%      3.310000    0.540000   10.700000    6.000000       0.000000  \n",
       "max      3.720000    0.850000   12.900000    8.000000       1.000000  "
      ]
     },
     "execution_count": 18,
     "metadata": {},
     "output_type": "execute_result"
    }
   ],
   "source": [
    "wine.describe()"
   ]
  },
  {
   "cell_type": "markdown",
   "metadata": {},
   "source": [
    "## Create Schema"
   ]
  },
  {
   "cell_type": "code",
   "execution_count": 20,
   "metadata": {},
   "outputs": [],
   "source": [
    "#Create Prerpocessing Schema\n",
    "\n",
    "from sklearn.compose import ColumnTransformer\n",
    "from sklearn.preprocessing import RobustScaler\n",
    "from sklearn.pipeline import Pipeline\n",
    "\n",
    "\n",
    "from imblearn.over_sampling import SMOTE"
   ]
  },
  {
   "cell_type": "code",
   "execution_count": 23,
   "metadata": {},
   "outputs": [],
   "source": [
    "transform = ColumnTransformer([\n",
    "    ('Scaler', RobustScaler(), ['fixed acidity', 'volatile acidity', 'citric acid', 'residual sugar', 'chlorides', 'free sulfur dioxide', 'total sulfur dioxide', 'density','pH', 'sulphates', 'alcohol'])\n",
    "    \n",
    "], remainder='passthrough')"
   ]
  },
  {
   "cell_type": "code",
   "execution_count": 24,
   "metadata": {},
   "outputs": [
    {
     "data": {
      "text/html": [
       "<style>#sk-container-id-2 {color: black;}#sk-container-id-2 pre{padding: 0;}#sk-container-id-2 div.sk-toggleable {background-color: white;}#sk-container-id-2 label.sk-toggleable__label {cursor: pointer;display: block;width: 100%;margin-bottom: 0;padding: 0.3em;box-sizing: border-box;text-align: center;}#sk-container-id-2 label.sk-toggleable__label-arrow:before {content: \"▸\";float: left;margin-right: 0.25em;color: #696969;}#sk-container-id-2 label.sk-toggleable__label-arrow:hover:before {color: black;}#sk-container-id-2 div.sk-estimator:hover label.sk-toggleable__label-arrow:before {color: black;}#sk-container-id-2 div.sk-toggleable__content {max-height: 0;max-width: 0;overflow: hidden;text-align: left;background-color: #f0f8ff;}#sk-container-id-2 div.sk-toggleable__content pre {margin: 0.2em;color: black;border-radius: 0.25em;background-color: #f0f8ff;}#sk-container-id-2 input.sk-toggleable__control:checked~div.sk-toggleable__content {max-height: 200px;max-width: 100%;overflow: auto;}#sk-container-id-2 input.sk-toggleable__control:checked~label.sk-toggleable__label-arrow:before {content: \"▾\";}#sk-container-id-2 div.sk-estimator input.sk-toggleable__control:checked~label.sk-toggleable__label {background-color: #d4ebff;}#sk-container-id-2 div.sk-label input.sk-toggleable__control:checked~label.sk-toggleable__label {background-color: #d4ebff;}#sk-container-id-2 input.sk-hidden--visually {border: 0;clip: rect(1px 1px 1px 1px);clip: rect(1px, 1px, 1px, 1px);height: 1px;margin: -1px;overflow: hidden;padding: 0;position: absolute;width: 1px;}#sk-container-id-2 div.sk-estimator {font-family: monospace;background-color: #f0f8ff;border: 1px dotted black;border-radius: 0.25em;box-sizing: border-box;margin-bottom: 0.5em;}#sk-container-id-2 div.sk-estimator:hover {background-color: #d4ebff;}#sk-container-id-2 div.sk-parallel-item::after {content: \"\";width: 100%;border-bottom: 1px solid gray;flex-grow: 1;}#sk-container-id-2 div.sk-label:hover label.sk-toggleable__label {background-color: #d4ebff;}#sk-container-id-2 div.sk-serial::before {content: \"\";position: absolute;border-left: 1px solid gray;box-sizing: border-box;top: 0;bottom: 0;left: 50%;z-index: 0;}#sk-container-id-2 div.sk-serial {display: flex;flex-direction: column;align-items: center;background-color: white;padding-right: 0.2em;padding-left: 0.2em;position: relative;}#sk-container-id-2 div.sk-item {position: relative;z-index: 1;}#sk-container-id-2 div.sk-parallel {display: flex;align-items: stretch;justify-content: center;background-color: white;position: relative;}#sk-container-id-2 div.sk-item::before, #sk-container-id-2 div.sk-parallel-item::before {content: \"\";position: absolute;border-left: 1px solid gray;box-sizing: border-box;top: 0;bottom: 0;left: 50%;z-index: -1;}#sk-container-id-2 div.sk-parallel-item {display: flex;flex-direction: column;z-index: 1;position: relative;background-color: white;}#sk-container-id-2 div.sk-parallel-item:first-child::after {align-self: flex-end;width: 50%;}#sk-container-id-2 div.sk-parallel-item:last-child::after {align-self: flex-start;width: 50%;}#sk-container-id-2 div.sk-parallel-item:only-child::after {width: 0;}#sk-container-id-2 div.sk-dashed-wrapped {border: 1px dashed gray;margin: 0 0.4em 0.5em 0.4em;box-sizing: border-box;padding-bottom: 0.4em;background-color: white;}#sk-container-id-2 div.sk-label label {font-family: monospace;font-weight: bold;display: inline-block;line-height: 1.2em;}#sk-container-id-2 div.sk-label-container {text-align: center;}#sk-container-id-2 div.sk-container {/* jupyter's `normalize.less` sets `[hidden] { display: none; }` but bootstrap.min.css set `[hidden] { display: none !important; }` so we also need the `!important` here to be able to override the default hidden behavior on the sphinx rendered scikit-learn.org. See: https://github.com/scikit-learn/scikit-learn/issues/21755 */display: inline-block !important;position: relative;}#sk-container-id-2 div.sk-text-repr-fallback {display: none;}</style><div id=\"sk-container-id-2\" class=\"sk-top-container\"><div class=\"sk-text-repr-fallback\"><pre>ColumnTransformer(remainder=&#x27;passthrough&#x27;,\n",
       "                  transformers=[(&#x27;Scaler&#x27;, RobustScaler(),\n",
       "                                 [&#x27;fixed acidity&#x27;, &#x27;volatile acidity&#x27;,\n",
       "                                  &#x27;citric acid&#x27;, &#x27;residual sugar&#x27;, &#x27;chlorides&#x27;,\n",
       "                                  &#x27;free sulfur dioxide&#x27;, &#x27;total sulfur dioxide&#x27;,\n",
       "                                  &#x27;density&#x27;, &#x27;pH&#x27;, &#x27;sulphates&#x27;, &#x27;alcohol&#x27;])])</pre><b>In a Jupyter environment, please rerun this cell to show the HTML representation or trust the notebook. <br />On GitHub, the HTML representation is unable to render, please try loading this page with nbviewer.org.</b></div><div class=\"sk-container\" hidden><div class=\"sk-item sk-dashed-wrapped\"><div class=\"sk-label-container\"><div class=\"sk-label sk-toggleable\"><input class=\"sk-toggleable__control sk-hidden--visually\" id=\"sk-estimator-id-4\" type=\"checkbox\" ><label for=\"sk-estimator-id-4\" class=\"sk-toggleable__label sk-toggleable__label-arrow\">ColumnTransformer</label><div class=\"sk-toggleable__content\"><pre>ColumnTransformer(remainder=&#x27;passthrough&#x27;,\n",
       "                  transformers=[(&#x27;Scaler&#x27;, RobustScaler(),\n",
       "                                 [&#x27;fixed acidity&#x27;, &#x27;volatile acidity&#x27;,\n",
       "                                  &#x27;citric acid&#x27;, &#x27;residual sugar&#x27;, &#x27;chlorides&#x27;,\n",
       "                                  &#x27;free sulfur dioxide&#x27;, &#x27;total sulfur dioxide&#x27;,\n",
       "                                  &#x27;density&#x27;, &#x27;pH&#x27;, &#x27;sulphates&#x27;, &#x27;alcohol&#x27;])])</pre></div></div></div><div class=\"sk-parallel\"><div class=\"sk-parallel-item\"><div class=\"sk-item\"><div class=\"sk-label-container\"><div class=\"sk-label sk-toggleable\"><input class=\"sk-toggleable__control sk-hidden--visually\" id=\"sk-estimator-id-5\" type=\"checkbox\" ><label for=\"sk-estimator-id-5\" class=\"sk-toggleable__label sk-toggleable__label-arrow\">Scaler</label><div class=\"sk-toggleable__content\"><pre>[&#x27;fixed acidity&#x27;, &#x27;volatile acidity&#x27;, &#x27;citric acid&#x27;, &#x27;residual sugar&#x27;, &#x27;chlorides&#x27;, &#x27;free sulfur dioxide&#x27;, &#x27;total sulfur dioxide&#x27;, &#x27;density&#x27;, &#x27;pH&#x27;, &#x27;sulphates&#x27;, &#x27;alcohol&#x27;]</pre></div></div></div><div class=\"sk-serial\"><div class=\"sk-item\"><div class=\"sk-estimator sk-toggleable\"><input class=\"sk-toggleable__control sk-hidden--visually\" id=\"sk-estimator-id-6\" type=\"checkbox\" ><label for=\"sk-estimator-id-6\" class=\"sk-toggleable__label sk-toggleable__label-arrow\">RobustScaler</label><div class=\"sk-toggleable__content\"><pre>RobustScaler()</pre></div></div></div></div></div></div><div class=\"sk-parallel-item\"><div class=\"sk-item\"><div class=\"sk-label-container\"><div class=\"sk-label sk-toggleable\"><input class=\"sk-toggleable__control sk-hidden--visually\" id=\"sk-estimator-id-7\" type=\"checkbox\" ><label for=\"sk-estimator-id-7\" class=\"sk-toggleable__label sk-toggleable__label-arrow\">remainder</label><div class=\"sk-toggleable__content\"><pre></pre></div></div></div><div class=\"sk-serial\"><div class=\"sk-item\"><div class=\"sk-estimator sk-toggleable\"><input class=\"sk-toggleable__control sk-hidden--visually\" id=\"sk-estimator-id-8\" type=\"checkbox\" ><label for=\"sk-estimator-id-8\" class=\"sk-toggleable__label sk-toggleable__label-arrow\">passthrough</label><div class=\"sk-toggleable__content\"><pre>passthrough</pre></div></div></div></div></div></div></div></div></div></div>"
      ],
      "text/plain": [
       "ColumnTransformer(remainder='passthrough',\n",
       "                  transformers=[('Scaler', RobustScaler(),\n",
       "                                 ['fixed acidity', 'volatile acidity',\n",
       "                                  'citric acid', 'residual sugar', 'chlorides',\n",
       "                                  'free sulfur dioxide', 'total sulfur dioxide',\n",
       "                                  'density', 'pH', 'sulphates', 'alcohol'])])"
      ]
     },
     "execution_count": 24,
     "metadata": {},
     "output_type": "execute_result"
    }
   ],
   "source": [
    "transform"
   ]
  },
  {
   "cell_type": "markdown",
   "metadata": {},
   "source": [
    "## Train Test Split"
   ]
  },
  {
   "cell_type": "code",
   "execution_count": 25,
   "metadata": {},
   "outputs": [],
   "source": [
    "#Splitting Data\n",
    "x = wine.drop(['quality', 'quality_class'], axis=1)\n",
    "y = wine['quality_class']"
   ]
  },
  {
   "cell_type": "code",
   "execution_count": 32,
   "metadata": {},
   "outputs": [],
   "source": [
    "from sklearn.model_selection import train_test_split\n",
    "\n",
    "from sklearn.model_selection import cross_val_score, RandomizedSearchCV"
   ]
  },
  {
   "cell_type": "code",
   "execution_count": 33,
   "metadata": {},
   "outputs": [],
   "source": [
    "xtrain, xtest, ytrain, ytest = train_test_split(x,y, stratify=y, random_state=2023)"
   ]
  },
  {
   "cell_type": "code",
   "execution_count": 34,
   "metadata": {},
   "outputs": [
    {
     "data": {
      "text/plain": [
       "((389, 11), (130, 11), (389,), (130,))"
      ]
     },
     "execution_count": 34,
     "metadata": {},
     "output_type": "execute_result"
    }
   ],
   "source": [
    "xtrain.shape, xtest.shape, ytrain.shape, ytest.shape"
   ]
  },
  {
   "cell_type": "code",
   "execution_count": 36,
   "metadata": {},
   "outputs": [],
   "source": [
    "from sklearn.tree import DecisionTreeClassifier\n",
    "from sklearn.ensemble import VotingClassifier, StackingClassifier\n",
    "from sklearn.linear_model import LogisticRegression\n",
    "from sklearn.neighbors import KNeighborsClassifier\n",
    "from sklearn.svm import SVC\n",
    "from sklearn.metrics import accuracy_score, f1_score, classification_report\n",
    "\n"
   ]
  },
  {
   "cell_type": "code",
   "execution_count": 50,
   "metadata": {},
   "outputs": [],
   "source": []
  },
  {
   "cell_type": "markdown",
   "metadata": {},
   "source": [
    "## Loop through models with & without imbalance data handling"
   ]
  },
  {
   "cell_type": "code",
   "execution_count": 95,
   "metadata": {},
   "outputs": [
    {
     "data": {
      "text/html": [
       "<div>\n",
       "<style scoped>\n",
       "    .dataframe tbody tr th:only-of-type {\n",
       "        vertical-align: middle;\n",
       "    }\n",
       "\n",
       "    .dataframe tbody tr th {\n",
       "        vertical-align: top;\n",
       "    }\n",
       "\n",
       "    .dataframe thead th {\n",
       "        text-align: right;\n",
       "    }\n",
       "</style>\n",
       "<table border=\"1\" class=\"dataframe\">\n",
       "  <thead>\n",
       "    <tr style=\"text-align: right;\">\n",
       "      <th></th>\n",
       "      <th>Model</th>\n",
       "      <th>F1 Score</th>\n",
       "      <th>Std</th>\n",
       "    </tr>\n",
       "  </thead>\n",
       "  <tbody>\n",
       "    <tr>\n",
       "      <th>12</th>\n",
       "      <td>LR-SMOTE</td>\n",
       "      <td>1.000000</td>\n",
       "      <td>0.000000</td>\n",
       "    </tr>\n",
       "    <tr>\n",
       "      <th>13</th>\n",
       "      <td>LR-ROS</td>\n",
       "      <td>1.000000</td>\n",
       "      <td>0.000000</td>\n",
       "    </tr>\n",
       "    <tr>\n",
       "      <th>21</th>\n",
       "      <td>SC-ROS</td>\n",
       "      <td>1.000000</td>\n",
       "      <td>0.000000</td>\n",
       "    </tr>\n",
       "    <tr>\n",
       "      <th>20</th>\n",
       "      <td>SC-SMOTE</td>\n",
       "      <td>1.000000</td>\n",
       "      <td>0.000000</td>\n",
       "    </tr>\n",
       "    <tr>\n",
       "      <th>17</th>\n",
       "      <td>VC-ROS</td>\n",
       "      <td>1.000000</td>\n",
       "      <td>0.000000</td>\n",
       "    </tr>\n",
       "    <tr>\n",
       "      <th>9</th>\n",
       "      <td>SVC-ROS</td>\n",
       "      <td>1.000000</td>\n",
       "      <td>0.000000</td>\n",
       "    </tr>\n",
       "    <tr>\n",
       "      <th>15</th>\n",
       "      <td>LR-NM</td>\n",
       "      <td>1.000000</td>\n",
       "      <td>0.000000</td>\n",
       "    </tr>\n",
       "    <tr>\n",
       "      <th>14</th>\n",
       "      <td>LR-RUS</td>\n",
       "      <td>1.000000</td>\n",
       "      <td>0.000000</td>\n",
       "    </tr>\n",
       "    <tr>\n",
       "      <th>22</th>\n",
       "      <td>SC-RUS</td>\n",
       "      <td>0.993548</td>\n",
       "      <td>0.012903</td>\n",
       "    </tr>\n",
       "    <tr>\n",
       "      <th>18</th>\n",
       "      <td>VC-RUS</td>\n",
       "      <td>0.993548</td>\n",
       "      <td>0.012903</td>\n",
       "    </tr>\n",
       "    <tr>\n",
       "      <th>8</th>\n",
       "      <td>SVC-SMOTE</td>\n",
       "      <td>0.985714</td>\n",
       "      <td>0.028571</td>\n",
       "    </tr>\n",
       "    <tr>\n",
       "      <th>16</th>\n",
       "      <td>VC-SMOTE</td>\n",
       "      <td>0.978307</td>\n",
       "      <td>0.028708</td>\n",
       "    </tr>\n",
       "    <tr>\n",
       "      <th>19</th>\n",
       "      <td>VC-NM</td>\n",
       "      <td>0.965962</td>\n",
       "      <td>0.037784</td>\n",
       "    </tr>\n",
       "    <tr>\n",
       "      <th>23</th>\n",
       "      <td>SC-NM</td>\n",
       "      <td>0.961573</td>\n",
       "      <td>0.029326</td>\n",
       "    </tr>\n",
       "    <tr>\n",
       "      <th>10</th>\n",
       "      <td>SVC-RUS</td>\n",
       "      <td>0.961063</td>\n",
       "      <td>0.029275</td>\n",
       "    </tr>\n",
       "    <tr>\n",
       "      <th>0</th>\n",
       "      <td>DT-SMOTE</td>\n",
       "      <td>0.914973</td>\n",
       "      <td>0.053836</td>\n",
       "    </tr>\n",
       "    <tr>\n",
       "      <th>1</th>\n",
       "      <td>DT-ROS</td>\n",
       "      <td>0.910476</td>\n",
       "      <td>0.059430</td>\n",
       "    </tr>\n",
       "    <tr>\n",
       "      <th>3</th>\n",
       "      <td>DT-NM</td>\n",
       "      <td>0.838168</td>\n",
       "      <td>0.061400</td>\n",
       "    </tr>\n",
       "    <tr>\n",
       "      <th>2</th>\n",
       "      <td>DT-RUS</td>\n",
       "      <td>0.826840</td>\n",
       "      <td>0.064055</td>\n",
       "    </tr>\n",
       "    <tr>\n",
       "      <th>4</th>\n",
       "      <td>KNN-SMOTE</td>\n",
       "      <td>0.813817</td>\n",
       "      <td>0.040047</td>\n",
       "    </tr>\n",
       "    <tr>\n",
       "      <th>5</th>\n",
       "      <td>KNN-ROS</td>\n",
       "      <td>0.784416</td>\n",
       "      <td>0.053562</td>\n",
       "    </tr>\n",
       "    <tr>\n",
       "      <th>11</th>\n",
       "      <td>SVC-NM</td>\n",
       "      <td>0.742447</td>\n",
       "      <td>0.022257</td>\n",
       "    </tr>\n",
       "    <tr>\n",
       "      <th>7</th>\n",
       "      <td>KNN-NM</td>\n",
       "      <td>0.737591</td>\n",
       "      <td>0.034501</td>\n",
       "    </tr>\n",
       "    <tr>\n",
       "      <th>6</th>\n",
       "      <td>KNN-RUS</td>\n",
       "      <td>0.696301</td>\n",
       "      <td>0.064868</td>\n",
       "    </tr>\n",
       "  </tbody>\n",
       "</table>\n",
       "</div>"
      ],
      "text/plain": [
       "        Model  F1 Score       Std\n",
       "12   LR-SMOTE  1.000000  0.000000\n",
       "13     LR-ROS  1.000000  0.000000\n",
       "21     SC-ROS  1.000000  0.000000\n",
       "20   SC-SMOTE  1.000000  0.000000\n",
       "17     VC-ROS  1.000000  0.000000\n",
       "9     SVC-ROS  1.000000  0.000000\n",
       "15      LR-NM  1.000000  0.000000\n",
       "14     LR-RUS  1.000000  0.000000\n",
       "22     SC-RUS  0.993548  0.012903\n",
       "18     VC-RUS  0.993548  0.012903\n",
       "8   SVC-SMOTE  0.985714  0.028571\n",
       "16   VC-SMOTE  0.978307  0.028708\n",
       "19      VC-NM  0.965962  0.037784\n",
       "23      SC-NM  0.961573  0.029326\n",
       "10    SVC-RUS  0.961063  0.029275\n",
       "0    DT-SMOTE  0.914973  0.053836\n",
       "1      DT-ROS  0.910476  0.059430\n",
       "3       DT-NM  0.838168  0.061400\n",
       "2      DT-RUS  0.826840  0.064055\n",
       "4   KNN-SMOTE  0.813817  0.040047\n",
       "5     KNN-ROS  0.784416  0.053562\n",
       "11     SVC-NM  0.742447  0.022257\n",
       "7      KNN-NM  0.737591  0.034501\n",
       "6     KNN-RUS  0.696301  0.064868"
      ]
     },
     "execution_count": 95,
     "metadata": {},
     "output_type": "execute_result"
    }
   ],
   "source": [
    "#Create Pipeline\n",
    "\n",
    "from imblearn.pipeline import Pipeline\n",
    "from imblearn.over_sampling import SMOTE, RandomOverSampler\n",
    "from imblearn.under_sampling import RandomUnderSampler, NearMiss\n",
    "\n",
    "\n",
    "smote = SMOTE()\n",
    "ROS = RandomOverSampler()\n",
    "RUS = RandomUnderSampler()  \n",
    "NM = NearMiss()\n",
    "\n",
    "model_list = [dtc, knn, svc, lr, vc, sc]\n",
    "resample = [smote, ROS, RUS, NM]\n",
    "\n",
    "model_names = ['DT', 'KNN', 'SVC', 'LR', 'VC', 'SC']\n",
    "resample_names = ['SMOTE', 'ROS', 'RUS', 'NM']\n",
    "\n",
    "#Model selection score list\n",
    "model_score = []\n",
    "f1_score = []\n",
    "std = []\n",
    "\n",
    "#Loop through the model list\n",
    "for i in model_list:\n",
    "    for j in resample:  \n",
    "        model_pipe = Pipeline([\n",
    "            ('prep', transform),\n",
    "            ('imba', j),\n",
    "            ('algo', i)\n",
    "        ])\n",
    "        \n",
    "        pipecv = cross_val_score(model_pipe, xtrain, ytrain, cv=5, scoring='f1')\n",
    "        model_score.append(pipecv)\n",
    "        f1_score.append(pipecv.mean())\n",
    "        std.append(pipecv.std())\n",
    "\n",
    "# Create Dataframe\n",
    "scoresheet = pd.DataFrame({\n",
    "    'Model': [modelname+\"-\"+resamplename for modelname in model_names for resamplename in resample_names],\n",
    "    'F1 Score': f1_score,\n",
    "    'Std': std\n",
    "}).sort_values(by='F1 Score', ascending=False)\n",
    "\n",
    "scoresheet\n"
   ]
  },
  {
   "cell_type": "markdown",
   "metadata": {},
   "source": [
    "## Apply Best Model"
   ]
  },
  {
   "cell_type": "code",
   "execution_count": 96,
   "metadata": {},
   "outputs": [],
   "source": [
    "best_model = Pipeline([\n",
    "    ('prep', transform),\n",
    "    ('imba', SMOTE()),\n",
    "    ('algo', LogisticRegression())\n",
    "])"
   ]
  },
  {
   "cell_type": "code",
   "execution_count": 99,
   "metadata": {},
   "outputs": [
    {
     "name": "stdout",
     "output_type": "stream",
     "text": [
      "              precision    recall  f1-score   support\n",
      "\n",
      "           0       1.00      1.00      1.00       105\n",
      "           1       1.00      1.00      1.00        25\n",
      "\n",
      "    accuracy                           1.00       130\n",
      "   macro avg       1.00      1.00      1.00       130\n",
      "weighted avg       1.00      1.00      1.00       130\n",
      "\n"
     ]
    }
   ],
   "source": [
    "#Apply LogReg\n",
    "\n",
    "best_model.fit(xtrain, ytrain)\n",
    "pred = best_model.predict(xtest)\n",
    "print(classification_report(ytest, pred))"
   ]
  },
  {
   "cell_type": "code",
   "execution_count": 100,
   "metadata": {},
   "outputs": [
    {
     "data": {
      "text/plain": [
       "1.0"
      ]
     },
     "execution_count": 100,
     "metadata": {},
     "output_type": "execute_result"
    }
   ],
   "source": []
  }
 ],
 "metadata": {
  "kernelspec": {
   "display_name": ".venv",
   "language": "python",
   "name": "python3"
  },
  "language_info": {
   "codemirror_mode": {
    "name": "ipython",
    "version": 3
   },
   "file_extension": ".py",
   "mimetype": "text/x-python",
   "name": "python",
   "nbconvert_exporter": "python",
   "pygments_lexer": "ipython3",
   "version": "3.11.4"
  },
  "orig_nbformat": 4
 },
 "nbformat": 4,
 "nbformat_minor": 2
}
