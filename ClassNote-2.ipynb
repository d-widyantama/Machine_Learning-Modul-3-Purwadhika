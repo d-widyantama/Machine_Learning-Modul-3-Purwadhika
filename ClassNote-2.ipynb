{
 "cells": [
  {
   "cell_type": "markdown",
   "metadata": {},
   "source": [
    "*DAY 2*\n",
    "\n",
    "# **Machine Learning Framework**"
   ]
  },
  {
   "cell_type": "markdown",
   "metadata": {},
   "source": [
    "---"
   ]
  },
  {
   "cell_type": "markdown",
   "metadata": {},
   "source": [
    "![Alt text](image-1.png)"
   ]
  },
  {
   "cell_type": "markdown",
   "metadata": {},
   "source": [
    "**Machine Learning Development Lifecycle**\n",
    "\n",
    "1. Acquire Data\n",
    "2. Pick ML Models (Supervised/Unsupervised)\n",
    "3. EDA 1 -> Finding Anomalies\n",
    "4. Data Cleaning\n",
    "5. EDA 2 -> Find Insights\n",
    "6. Feature Engineering (Encoding (Cat>Num), Scaling)\n",
    "7. Train Test Split data, split data into \n",
    "    - Train Data (80/75/70%) -> Data for training the ML model\n",
    "    - Test Data    (20/25/30%) -> Data for evaluating the ML model\n",
    "8. Modelling (Train)\n",
    "9. Evaluation (Test)\n",
    "10. Deployment \n",
    "\n",
    "\n",
    "\n",
    "\n",
    "*Steps 2-7 are iterative process 1\n",
    "\n",
    "** Steps 8-9 are iterative porcess 2\n",
    "\n",
    "***Steps 8-9 Cross Validation, Hyper Parameter Tuning"
   ]
  },
  {
   "cell_type": "code",
   "execution_count": 1,
   "metadata": {},
   "outputs": [
    {
     "name": "stdout",
     "output_type": "stream",
     "text": [
      "Requirement already satisfied: sklearn in /Users/Dwika/My Projects/.venv/lib/python3.11/site-packages (0.0.post9)\n",
      "\n",
      "\u001b[1m[\u001b[0m\u001b[34;49mnotice\u001b[0m\u001b[1;39;49m]\u001b[0m\u001b[39;49m A new release of pip is available: \u001b[0m\u001b[31;49m23.2\u001b[0m\u001b[39;49m -> \u001b[0m\u001b[32;49m23.2.1\u001b[0m\n",
      "\u001b[1m[\u001b[0m\u001b[34;49mnotice\u001b[0m\u001b[1;39;49m]\u001b[0m\u001b[39;49m To update, run: \u001b[0m\u001b[32;49mpip install --upgrade pip\u001b[0m\n"
     ]
    }
   ],
   "source": [
    "! pip3 install sklearn"
   ]
  },
  {
   "cell_type": "code",
   "execution_count": 1,
   "metadata": {},
   "outputs": [],
   "source": [
    "from sklearn.linear_model import LogisticRegression"
   ]
  },
  {
   "cell_type": "code",
   "execution_count": null,
   "metadata": {},
   "outputs": [],
   "source": []
  }
 ],
 "metadata": {
  "kernelspec": {
   "display_name": ".venv",
   "language": "python",
   "name": "python3"
  },
  "language_info": {
   "codemirror_mode": {
    "name": "ipython",
    "version": 3
   },
   "file_extension": ".py",
   "mimetype": "text/x-python",
   "name": "python",
   "nbconvert_exporter": "python",
   "pygments_lexer": "ipython3",
   "version": "3.11.4"
  },
  "orig_nbformat": 4
 },
 "nbformat": 4,
 "nbformat_minor": 2
}
