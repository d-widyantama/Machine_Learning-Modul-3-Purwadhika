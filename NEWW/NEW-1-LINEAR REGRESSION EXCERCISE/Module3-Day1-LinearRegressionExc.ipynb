{
 "cells": [
  {
   "cell_type": "markdown",
   "metadata": {},
   "source": [
    "# Taxi Tips Amount Prediction from TLC Data with Simple Regression "
   ]
  },
  {
   "cell_type": "markdown",
   "metadata": {},
   "source": [
    "--- "
   ]
  },
  {
   "cell_type": "markdown",
   "metadata": {},
   "source": [
    "\n",
    "\n",
    "# **Overview**\n",
    "New York City Taxi and Limousine Commission (TLC) is the agency responsible\n",
    "for licensing and regulating New York City's medallion (yellow) taxis, street hail livery (green) taxis,\n",
    "for-hire vehicles (FHVs), commuter vans, and paratransit vehicles.\n",
    "\n",
    "The TLC collects trip record\n",
    "information for each taxi and for-hire vehicle trip completed by our licensed drivers and vehicles.\n",
    "We receive taxi trip data from the technology service providers (TSPs) that provide electronic\n",
    "metering in each cab, **this data will be the base of our dataset** in our analysis.\n",
    "\n",
    "\n",
    "# **Applying Linear Regression**\n",
    "In this notebook we will try to apply simple linear & multiple linear regression to try to predict tips amount based on other features\n",
    "\n",
    "The steps will be:\n",
    "1. Data Cleaning\n",
    "2. Applying Linear Regression\n"
   ]
  },
  {
   "cell_type": "code",
   "execution_count": 1,
   "metadata": {},
   "outputs": [],
   "source": [
    "\n",
    "# Importing library\n",
    "import statsmodels.api as sm\n",
    "import seaborn as sns\n",
    "import matplotlib.pyplot as plt\n",
    "import pandas as pd\n",
    "import numpy  as np"
   ]
  },
  {
   "cell_type": "code",
   "execution_count": 2,
   "metadata": {},
   "outputs": [
    {
     "name": "stderr",
     "output_type": "stream",
     "text": [
      "/var/folders/hp/56vw0j_10t7b71dy17hxntmh0000gp/T/ipykernel_26211/788363060.py:2: DtypeWarning: Columns (3) have mixed types. Specify dtype option on import or set low_memory=False.\n",
      "  tlc = pd.read_csv('/Users/Dwika/My Projects/Modul 2 Purwadhika/_CAPSTONE Project Modul 2/Raw Dataset/NYC TLC Trip Record.csv')\n"
     ]
    }
   ],
   "source": [
    "#Load dataset\n",
    "tlc = pd.read_csv('/Users/Dwika/My Projects/Modul 2 Purwadhika/_CAPSTONE Project Modul 2/Raw Dataset/NYC TLC Trip Record.csv')"
   ]
  },
  {
   "cell_type": "markdown",
   "metadata": {},
   "source": [
    "## Data Cleaning"
   ]
  },
  {
   "cell_type": "code",
   "execution_count": 3,
   "metadata": {},
   "outputs": [
    {
     "data": {
      "text/plain": [
       "VendorID                     0\n",
       "lpep_pickup_datetime         0\n",
       "lpep_dropoff_datetime        0\n",
       "store_and_fwd_flag        4324\n",
       "RatecodeID                4324\n",
       "PULocationID                 0\n",
       "DOLocationID                 0\n",
       "passenger_count           4324\n",
       "trip_distance                0\n",
       "fare_amount                  0\n",
       "extra                        0\n",
       "mta_tax                      0\n",
       "tip_amount                   0\n",
       "tolls_amount                 0\n",
       "ehail_fee                68211\n",
       "improvement_surcharge        0\n",
       "total_amount                 0\n",
       "payment_type              4324\n",
       "trip_type                 4334\n",
       "congestion_surcharge      4324\n",
       "dtype: int64"
      ]
     },
     "execution_count": 3,
     "metadata": {},
     "output_type": "execute_result"
    }
   ],
   "source": [
    "# Check null values\n",
    "tlc.isna().sum()"
   ]
  },
  {
   "cell_type": "code",
   "execution_count": 4,
   "metadata": {},
   "outputs": [],
   "source": [
    "#Dropping rows containing null values \n",
    "tlc.dropna(subset=['store_and_fwd_flag','RatecodeID', 'passenger_count' , 'payment_type', 'trip_type', 'congestion_surcharge'], inplace=True)"
   ]
  },
  {
   "cell_type": "code",
   "execution_count": 5,
   "metadata": {},
   "outputs": [],
   "source": [
    "#Index where Fare_amount < 0\n",
    "indexMinus = tlc[tlc['fare_amount'] <= 0].index"
   ]
  },
  {
   "cell_type": "code",
   "execution_count": 6,
   "metadata": {},
   "outputs": [],
   "source": [
    "#drop rows where having negative values\n",
    "tlc.drop(index=indexMinus, inplace=True)"
   ]
  },
  {
   "cell_type": "code",
   "execution_count": 7,
   "metadata": {},
   "outputs": [],
   "source": [
    "#Eliminate where tips = 0 \n",
    "\n",
    "#Index where tips are 0\n",
    "tipsZero = tlc[tlc['tip_amount'] <= 0].index\n",
    "\n",
    "#Drop\n",
    "tlc.drop(index=tipsZero, inplace=True)"
   ]
  },
  {
   "cell_type": "code",
   "execution_count": 8,
   "metadata": {},
   "outputs": [
    {
     "data": {
      "text/plain": [
       "<Axes: >"
      ]
     },
     "execution_count": 8,
     "metadata": {},
     "output_type": "execute_result"
    },
    {
     "data": {
      "image/png": "[encoded data removed]",
      "text/plain": [
       "<Figure size 640x480 with 1 Axes>"
      ]
     },
     "metadata": {},
     "output_type": "display_data"
    }
   ],
   "source": [
    "#tips Distribution\n",
    "\n",
    "sns.boxplot(tlc['tip_amount'])"
   ]
  },
  {
   "cell_type": "code",
   "execution_count": 9,
   "metadata": {},
   "outputs": [],
   "source": [
    "#Eliminate where tips > 50\n",
    "\n",
    "#Find index where tip > 50\n",
    "tipOutliers = tlc[tlc['tip_amount'] > 50].index\n",
    "\n",
    "#Drop tip > 50\n",
    "tlc.drop(index=tipOutliers, inplace=True)"
   ]
  },
  {
   "cell_type": "code",
   "execution_count": 10,
   "metadata": {},
   "outputs": [
    {
     "data": {
      "text/plain": [
       "<Axes: >"
      ]
     },
     "execution_count": 10,
     "metadata": {},
     "output_type": "execute_result"
    },
    {
     "data": {
      "image/png": "[encoded data removed]",
      "text/plain": [
       "<Figure size 640x480 with 1 Axes>"
      ]
     },
     "metadata": {},
     "output_type": "display_data"
    }
   ],
   "source": [
    "#tips Distribution after removing outlier\n",
    "\n",
    "sns.boxplot(tlc['tip_amount'])"
   ]
  },
  {
   "cell_type": "code",
   "execution_count": 11,
   "metadata": {},
   "outputs": [
    {
     "data": {
      "text/html": [
       "<div>\n",
       "<style scoped>\n",
       "    .dataframe tbody tr th:only-of-type {\n",
       "        vertical-align: middle;\n",
       "    }\n",
       "\n",
       "    .dataframe tbody tr th {\n",
       "        vertical-align: top;\n",
       "    }\n",
       "\n",
       "    .dataframe thead th {\n",
       "        text-align: right;\n",
       "    }\n",
       "</style>\n",
       "<table border=\"1\" class=\"dataframe\">\n",
       "  <thead>\n",
       "    <tr style=\"text-align: right;\">\n",
       "      <th></th>\n",
       "      <th>VendorID</th>\n",
       "      <th>lpep_pickup_datetime</th>\n",
       "      <th>lpep_dropoff_datetime</th>\n",
       "      <th>store_and_fwd_flag</th>\n",
       "      <th>RatecodeID</th>\n",
       "      <th>PULocationID</th>\n",
       "      <th>DOLocationID</th>\n",
       "      <th>passenger_count</th>\n",
       "      <th>trip_distance</th>\n",
       "      <th>fare_amount</th>\n",
       "      <th>extra</th>\n",
       "      <th>mta_tax</th>\n",
       "      <th>tip_amount</th>\n",
       "      <th>tolls_amount</th>\n",
       "      <th>ehail_fee</th>\n",
       "      <th>improvement_surcharge</th>\n",
       "      <th>total_amount</th>\n",
       "      <th>payment_type</th>\n",
       "      <th>trip_type</th>\n",
       "      <th>congestion_surcharge</th>\n",
       "    </tr>\n",
       "  </thead>\n",
       "  <tbody>\n",
       "    <tr>\n",
       "      <th>0</th>\n",
       "      <td>2</td>\n",
       "      <td>2023-01-01 00:26:10</td>\n",
       "      <td>2023-01-01 00:37:11</td>\n",
       "      <td>N</td>\n",
       "      <td>1.0</td>\n",
       "      <td>166</td>\n",
       "      <td>143</td>\n",
       "      <td>1.0</td>\n",
       "      <td>2.58</td>\n",
       "      <td>14.9</td>\n",
       "      <td>1.00</td>\n",
       "      <td>0.5</td>\n",
       "      <td>4.03</td>\n",
       "      <td>0.0</td>\n",
       "      <td>NaN</td>\n",
       "      <td>1.0</td>\n",
       "      <td>24.18</td>\n",
       "      <td>1.0</td>\n",
       "      <td>1.0</td>\n",
       "      <td>2.75</td>\n",
       "    </tr>\n",
       "    <tr>\n",
       "      <th>1</th>\n",
       "      <td>2</td>\n",
       "      <td>2023-01-01 00:51:03</td>\n",
       "      <td>2023-01-01 00:57:49</td>\n",
       "      <td>N</td>\n",
       "      <td>1.0</td>\n",
       "      <td>24</td>\n",
       "      <td>43</td>\n",
       "      <td>1.0</td>\n",
       "      <td>1.81</td>\n",
       "      <td>10.7</td>\n",
       "      <td>1.00</td>\n",
       "      <td>0.5</td>\n",
       "      <td>2.64</td>\n",
       "      <td>0.0</td>\n",
       "      <td>NaN</td>\n",
       "      <td>1.0</td>\n",
       "      <td>15.84</td>\n",
       "      <td>1.0</td>\n",
       "      <td>1.0</td>\n",
       "      <td>0.00</td>\n",
       "    </tr>\n",
       "    <tr>\n",
       "      <th>2</th>\n",
       "      <td>2</td>\n",
       "      <td>2023-01-01 00:35:12</td>\n",
       "      <td>2023-01-01 00:41:32</td>\n",
       "      <td>N</td>\n",
       "      <td>1.0</td>\n",
       "      <td>223</td>\n",
       "      <td>179</td>\n",
       "      <td>1.0</td>\n",
       "      <td>0.00</td>\n",
       "      <td>7.2</td>\n",
       "      <td>1.00</td>\n",
       "      <td>0.5</td>\n",
       "      <td>1.94</td>\n",
       "      <td>0.0</td>\n",
       "      <td>NaN</td>\n",
       "      <td>1.0</td>\n",
       "      <td>11.64</td>\n",
       "      <td>1.0</td>\n",
       "      <td>1.0</td>\n",
       "      <td>0.00</td>\n",
       "    </tr>\n",
       "    <tr>\n",
       "      <th>3</th>\n",
       "      <td>1</td>\n",
       "      <td>2023-01-01 00:13:14</td>\n",
       "      <td>2023-01-01 00:19:03</td>\n",
       "      <td>N</td>\n",
       "      <td>1.0</td>\n",
       "      <td>41</td>\n",
       "      <td>238</td>\n",
       "      <td>1.0</td>\n",
       "      <td>1.30</td>\n",
       "      <td>6.5</td>\n",
       "      <td>0.50</td>\n",
       "      <td>1.5</td>\n",
       "      <td>1.70</td>\n",
       "      <td>0.0</td>\n",
       "      <td>NaN</td>\n",
       "      <td>1.0</td>\n",
       "      <td>10.20</td>\n",
       "      <td>1.0</td>\n",
       "      <td>1.0</td>\n",
       "      <td>0.00</td>\n",
       "    </tr>\n",
       "    <tr>\n",
       "      <th>6</th>\n",
       "      <td>1</td>\n",
       "      <td>2023-01-01 00:09:14</td>\n",
       "      <td>2023-01-01 00:26:39</td>\n",
       "      <td>N</td>\n",
       "      <td>1.0</td>\n",
       "      <td>181</td>\n",
       "      <td>45</td>\n",
       "      <td>2.0</td>\n",
       "      <td>3.80</td>\n",
       "      <td>19.1</td>\n",
       "      <td>3.75</td>\n",
       "      <td>1.5</td>\n",
       "      <td>4.85</td>\n",
       "      <td>0.0</td>\n",
       "      <td>NaN</td>\n",
       "      <td>1.0</td>\n",
       "      <td>29.20</td>\n",
       "      <td>1.0</td>\n",
       "      <td>1.0</td>\n",
       "      <td>2.75</td>\n",
       "    </tr>\n",
       "    <tr>\n",
       "      <th>...</th>\n",
       "      <td>...</td>\n",
       "      <td>...</td>\n",
       "      <td>...</td>\n",
       "      <td>...</td>\n",
       "      <td>...</td>\n",
       "      <td>...</td>\n",
       "      <td>...</td>\n",
       "      <td>...</td>\n",
       "      <td>...</td>\n",
       "      <td>...</td>\n",
       "      <td>...</td>\n",
       "      <td>...</td>\n",
       "      <td>...</td>\n",
       "      <td>...</td>\n",
       "      <td>...</td>\n",
       "      <td>...</td>\n",
       "      <td>...</td>\n",
       "      <td>...</td>\n",
       "      <td>...</td>\n",
       "      <td>...</td>\n",
       "    </tr>\n",
       "    <tr>\n",
       "      <th>63882</th>\n",
       "      <td>2</td>\n",
       "      <td>2023-01-31 23:09:22</td>\n",
       "      <td>2023-01-31 23:17:21</td>\n",
       "      <td>N</td>\n",
       "      <td>5.0</td>\n",
       "      <td>130</td>\n",
       "      <td>205</td>\n",
       "      <td>1.0</td>\n",
       "      <td>2.75</td>\n",
       "      <td>15.0</td>\n",
       "      <td>0.00</td>\n",
       "      <td>0.0</td>\n",
       "      <td>2.00</td>\n",
       "      <td>0.0</td>\n",
       "      <td>NaN</td>\n",
       "      <td>0.3</td>\n",
       "      <td>17.30</td>\n",
       "      <td>1.0</td>\n",
       "      <td>2.0</td>\n",
       "      <td>0.00</td>\n",
       "    </tr>\n",
       "    <tr>\n",
       "      <th>63883</th>\n",
       "      <td>2</td>\n",
       "      <td>2023-01-31 23:06:18</td>\n",
       "      <td>2023-01-31 23:17:03</td>\n",
       "      <td>N</td>\n",
       "      <td>1.0</td>\n",
       "      <td>65</td>\n",
       "      <td>181</td>\n",
       "      <td>1.0</td>\n",
       "      <td>2.44</td>\n",
       "      <td>13.5</td>\n",
       "      <td>1.00</td>\n",
       "      <td>0.5</td>\n",
       "      <td>3.20</td>\n",
       "      <td>0.0</td>\n",
       "      <td>NaN</td>\n",
       "      <td>1.0</td>\n",
       "      <td>19.20</td>\n",
       "      <td>1.0</td>\n",
       "      <td>1.0</td>\n",
       "      <td>0.00</td>\n",
       "    </tr>\n",
       "    <tr>\n",
       "      <th>63884</th>\n",
       "      <td>2</td>\n",
       "      <td>2023-01-31 23:17:03</td>\n",
       "      <td>2023-01-31 23:23:04</td>\n",
       "      <td>N</td>\n",
       "      <td>1.0</td>\n",
       "      <td>244</td>\n",
       "      <td>116</td>\n",
       "      <td>1.0</td>\n",
       "      <td>1.40</td>\n",
       "      <td>9.3</td>\n",
       "      <td>1.00</td>\n",
       "      <td>0.5</td>\n",
       "      <td>2.36</td>\n",
       "      <td>0.0</td>\n",
       "      <td>NaN</td>\n",
       "      <td>1.0</td>\n",
       "      <td>14.16</td>\n",
       "      <td>1.0</td>\n",
       "      <td>1.0</td>\n",
       "      <td>0.00</td>\n",
       "    </tr>\n",
       "    <tr>\n",
       "      <th>63885</th>\n",
       "      <td>2</td>\n",
       "      <td>2023-01-31 23:29:18</td>\n",
       "      <td>2023-01-31 23:38:50</td>\n",
       "      <td>N</td>\n",
       "      <td>1.0</td>\n",
       "      <td>74</td>\n",
       "      <td>238</td>\n",
       "      <td>1.0</td>\n",
       "      <td>2.47</td>\n",
       "      <td>13.5</td>\n",
       "      <td>1.00</td>\n",
       "      <td>0.5</td>\n",
       "      <td>3.75</td>\n",
       "      <td>0.0</td>\n",
       "      <td>NaN</td>\n",
       "      <td>1.0</td>\n",
       "      <td>22.50</td>\n",
       "      <td>1.0</td>\n",
       "      <td>1.0</td>\n",
       "      <td>2.75</td>\n",
       "    </tr>\n",
       "    <tr>\n",
       "      <th>63886</th>\n",
       "      <td>2</td>\n",
       "      <td>2023-01-31 23:00:12</td>\n",
       "      <td>2023-01-31 23:10:08</td>\n",
       "      <td>N</td>\n",
       "      <td>1.0</td>\n",
       "      <td>95</td>\n",
       "      <td>95</td>\n",
       "      <td>1.0</td>\n",
       "      <td>1.39</td>\n",
       "      <td>11.4</td>\n",
       "      <td>1.00</td>\n",
       "      <td>0.5</td>\n",
       "      <td>4.17</td>\n",
       "      <td>0.0</td>\n",
       "      <td>NaN</td>\n",
       "      <td>1.0</td>\n",
       "      <td>18.07</td>\n",
       "      <td>1.0</td>\n",
       "      <td>1.0</td>\n",
       "      <td>0.00</td>\n",
       "    </tr>\n",
       "  </tbody>\n",
       "</table>\n",
       "<p>35529 rows × 20 columns</p>\n",
       "</div>"
      ],
      "text/plain": [
       "       VendorID lpep_pickup_datetime lpep_dropoff_datetime store_and_fwd_flag  \\\n",
       "0             2  2023-01-01 00:26:10   2023-01-01 00:37:11                  N   \n",
       "1             2  2023-01-01 00:51:03   2023-01-01 00:57:49                  N   \n",
       "2             2  2023-01-01 00:35:12   2023-01-01 00:41:32                  N   \n",
       "3             1  2023-01-01 00:13:14   2023-01-01 00:19:03                  N   \n",
       "6             1  2023-01-01 00:09:14   2023-01-01 00:26:39                  N   \n",
       "...         ...                  ...                   ...                ...   \n",
       "63882         2  2023-01-31 23:09:22   2023-01-31 23:17:21                  N   \n",
       "63883         2  2023-01-31 23:06:18   2023-01-31 23:17:03                  N   \n",
       "63884         2  2023-01-31 23:17:03   2023-01-31 23:23:04                  N   \n",
       "63885         2  2023-01-31 23:29:18   2023-01-31 23:38:50                  N   \n",
       "63886         2  2023-01-31 23:00:12   2023-01-31 23:10:08                  N   \n",
       "\n",
       "       RatecodeID  PULocationID  DOLocationID  passenger_count  trip_distance  \\\n",
       "0             1.0           166           143              1.0           2.58   \n",
       "1             1.0            24            43              1.0           1.81   \n",
       "2             1.0           223           179              1.0           0.00   \n",
       "3             1.0            41           238              1.0           1.30   \n",
       "6             1.0           181            45              2.0           3.80   \n",
       "...           ...           ...           ...              ...            ...   \n",
       "63882         5.0           130           205              1.0           2.75   \n",
       "63883         1.0            65           181              1.0           2.44   \n",
       "63884         1.0           244           116              1.0           1.40   \n",
       "63885         1.0            74           238              1.0           2.47   \n",
       "63886         1.0            95            95              1.0           1.39   \n",
       "\n",
       "       fare_amount  extra  mta_tax  tip_amount  tolls_amount  ehail_fee  \\\n",
       "0             14.9   1.00      0.5        4.03           0.0        NaN   \n",
       "1             10.7   1.00      0.5        2.64           0.0        NaN   \n",
       "2              7.2   1.00      0.5        1.94           0.0        NaN   \n",
       "3              6.5   0.50      1.5        1.70           0.0        NaN   \n",
       "6             19.1   3.75      1.5        4.85           0.0        NaN   \n",
       "...            ...    ...      ...         ...           ...        ...   \n",
       "63882         15.0   0.00      0.0        2.00           0.0        NaN   \n",
       "63883         13.5   1.00      0.5        3.20           0.0        NaN   \n",
       "63884          9.3   1.00      0.5        2.36           0.0        NaN   \n",
       "63885         13.5   1.00      0.5        3.75           0.0        NaN   \n",
       "63886         11.4   1.00      0.5        4.17           0.0        NaN   \n",
       "\n",
       "       improvement_surcharge  total_amount  payment_type  trip_type  \\\n",
       "0                        1.0         24.18           1.0        1.0   \n",
       "1                        1.0         15.84           1.0        1.0   \n",
       "2                        1.0         11.64           1.0        1.0   \n",
       "3                        1.0         10.20           1.0        1.0   \n",
       "6                        1.0         29.20           1.0        1.0   \n",
       "...                      ...           ...           ...        ...   \n",
       "63882                    0.3         17.30           1.0        2.0   \n",
       "63883                    1.0         19.20           1.0        1.0   \n",
       "63884                    1.0         14.16           1.0        1.0   \n",
       "63885                    1.0         22.50           1.0        1.0   \n",
       "63886                    1.0         18.07           1.0        1.0   \n",
       "\n",
       "       congestion_surcharge  \n",
       "0                      2.75  \n",
       "1                      0.00  \n",
       "2                      0.00  \n",
       "3                      0.00  \n",
       "6                      2.75  \n",
       "...                     ...  \n",
       "63882                  0.00  \n",
       "63883                  0.00  \n",
       "63884                  0.00  \n",
       "63885                  2.75  \n",
       "63886                  0.00  \n",
       "\n",
       "[35529 rows x 20 columns]"
      ]
     },
     "execution_count": 11,
     "metadata": {},
     "output_type": "execute_result"
    }
   ],
   "source": [
    "#Fare amount < 0\n",
    "\n",
    "tlc[tlc['fare_amount'] >0]"
   ]
  },
  {
   "cell_type": "markdown",
   "metadata": {},
   "source": [
    "## Construct DF used for Regression"
   ]
  },
  {
   "cell_type": "code",
   "execution_count": 12,
   "metadata": {},
   "outputs": [
    {
     "data": {
      "text/plain": [
       "Index(['VendorID', 'lpep_pickup_datetime', 'lpep_dropoff_datetime',\n",
       "       'store_and_fwd_flag', 'RatecodeID', 'PULocationID', 'DOLocationID',\n",
       "       'passenger_count', 'trip_distance', 'fare_amount', 'extra', 'mta_tax',\n",
       "       'tip_amount', 'tolls_amount', 'ehail_fee', 'improvement_surcharge',\n",
       "       'total_amount', 'payment_type', 'trip_type', 'congestion_surcharge'],\n",
       "      dtype='object')"
      ]
     },
     "execution_count": 12,
     "metadata": {},
     "output_type": "execute_result"
    }
   ],
   "source": [
    "#Check columns\n",
    "tlc.columns"
   ]
  },
  {
   "cell_type": "code",
   "execution_count": 13,
   "metadata": {},
   "outputs": [
    {
     "data": {
      "text/html": [
       "<div>\n",
       "<style scoped>\n",
       "    .dataframe tbody tr th:only-of-type {\n",
       "        vertical-align: middle;\n",
       "    }\n",
       "\n",
       "    .dataframe tbody tr th {\n",
       "        vertical-align: top;\n",
       "    }\n",
       "\n",
       "    .dataframe thead th {\n",
       "        text-align: right;\n",
       "    }\n",
       "</style>\n",
       "<table border=\"1\" class=\"dataframe\">\n",
       "  <thead>\n",
       "    <tr style=\"text-align: right;\">\n",
       "      <th></th>\n",
       "      <th>trip_distance</th>\n",
       "      <th>fare_amount</th>\n",
       "      <th>tip_amount</th>\n",
       "    </tr>\n",
       "  </thead>\n",
       "  <tbody>\n",
       "    <tr>\n",
       "      <th>0</th>\n",
       "      <td>2.58</td>\n",
       "      <td>14.9</td>\n",
       "      <td>4.03</td>\n",
       "    </tr>\n",
       "    <tr>\n",
       "      <th>1</th>\n",
       "      <td>1.81</td>\n",
       "      <td>10.7</td>\n",
       "      <td>2.64</td>\n",
       "    </tr>\n",
       "    <tr>\n",
       "      <th>2</th>\n",
       "      <td>0.00</td>\n",
       "      <td>7.2</td>\n",
       "      <td>1.94</td>\n",
       "    </tr>\n",
       "    <tr>\n",
       "      <th>3</th>\n",
       "      <td>1.30</td>\n",
       "      <td>6.5</td>\n",
       "      <td>1.70</td>\n",
       "    </tr>\n",
       "    <tr>\n",
       "      <th>6</th>\n",
       "      <td>3.80</td>\n",
       "      <td>19.1</td>\n",
       "      <td>4.85</td>\n",
       "    </tr>\n",
       "    <tr>\n",
       "      <th>...</th>\n",
       "      <td>...</td>\n",
       "      <td>...</td>\n",
       "      <td>...</td>\n",
       "    </tr>\n",
       "    <tr>\n",
       "      <th>63882</th>\n",
       "      <td>2.75</td>\n",
       "      <td>15.0</td>\n",
       "      <td>2.00</td>\n",
       "    </tr>\n",
       "    <tr>\n",
       "      <th>63883</th>\n",
       "      <td>2.44</td>\n",
       "      <td>13.5</td>\n",
       "      <td>3.20</td>\n",
       "    </tr>\n",
       "    <tr>\n",
       "      <th>63884</th>\n",
       "      <td>1.40</td>\n",
       "      <td>9.3</td>\n",
       "      <td>2.36</td>\n",
       "    </tr>\n",
       "    <tr>\n",
       "      <th>63885</th>\n",
       "      <td>2.47</td>\n",
       "      <td>13.5</td>\n",
       "      <td>3.75</td>\n",
       "    </tr>\n",
       "    <tr>\n",
       "      <th>63886</th>\n",
       "      <td>1.39</td>\n",
       "      <td>11.4</td>\n",
       "      <td>4.17</td>\n",
       "    </tr>\n",
       "  </tbody>\n",
       "</table>\n",
       "<p>35529 rows × 3 columns</p>\n",
       "</div>"
      ],
      "text/plain": [
       "       trip_distance  fare_amount  tip_amount\n",
       "0               2.58         14.9        4.03\n",
       "1               1.81         10.7        2.64\n",
       "2               0.00          7.2        1.94\n",
       "3               1.30          6.5        1.70\n",
       "6               3.80         19.1        4.85\n",
       "...              ...          ...         ...\n",
       "63882           2.75         15.0        2.00\n",
       "63883           2.44         13.5        3.20\n",
       "63884           1.40          9.3        2.36\n",
       "63885           2.47         13.5        3.75\n",
       "63886           1.39         11.4        4.17\n",
       "\n",
       "[35529 rows x 3 columns]"
      ]
     },
     "execution_count": 13,
     "metadata": {},
     "output_type": "execute_result"
    }
   ],
   "source": [
    "#DF for regression\n",
    "tlcReg = tlc[[ 'trip_distance', 'fare_amount', 'tip_amount']]\n",
    "tlcReg"
   ]
  },
  {
   "cell_type": "markdown",
   "metadata": {},
   "source": [
    "**Reset Index**"
   ]
  },
  {
   "cell_type": "code",
   "execution_count": 14,
   "metadata": {},
   "outputs": [],
   "source": [
    "#Reset index\n",
    "tlcReg.reset_index(inplace=True)"
   ]
  },
  {
   "cell_type": "code",
   "execution_count": 15,
   "metadata": {},
   "outputs": [
    {
     "name": "stderr",
     "output_type": "stream",
     "text": [
      "/var/folders/hp/56vw0j_10t7b71dy17hxntmh0000gp/T/ipykernel_26211/2803485310.py:2: SettingWithCopyWarning: \n",
      "A value is trying to be set on a copy of a slice from a DataFrame\n",
      "\n",
      "See the caveats in the documentation: https://pandas.pydata.org/pandas-docs/stable/user_guide/indexing.html#returning-a-view-versus-a-copy\n",
      "  tlcReg.drop(columns='index', inplace=True)\n"
     ]
    }
   ],
   "source": [
    "#Drop old index col\n",
    "tlcReg.drop(columns='index', inplace=True)"
   ]
  },
  {
   "cell_type": "code",
   "execution_count": 16,
   "metadata": {},
   "outputs": [
    {
     "data": {
      "text/html": [
       "<div>\n",
       "<style scoped>\n",
       "    .dataframe tbody tr th:only-of-type {\n",
       "        vertical-align: middle;\n",
       "    }\n",
       "\n",
       "    .dataframe tbody tr th {\n",
       "        vertical-align: top;\n",
       "    }\n",
       "\n",
       "    .dataframe thead th {\n",
       "        text-align: right;\n",
       "    }\n",
       "</style>\n",
       "<table border=\"1\" class=\"dataframe\">\n",
       "  <thead>\n",
       "    <tr style=\"text-align: right;\">\n",
       "      <th></th>\n",
       "      <th>trip_distance</th>\n",
       "      <th>fare_amount</th>\n",
       "      <th>tip_amount</th>\n",
       "    </tr>\n",
       "  </thead>\n",
       "  <tbody>\n",
       "    <tr>\n",
       "      <th>0</th>\n",
       "      <td>2.58</td>\n",
       "      <td>14.9</td>\n",
       "      <td>4.03</td>\n",
       "    </tr>\n",
       "    <tr>\n",
       "      <th>1</th>\n",
       "      <td>1.81</td>\n",
       "      <td>10.7</td>\n",
       "      <td>2.64</td>\n",
       "    </tr>\n",
       "    <tr>\n",
       "      <th>2</th>\n",
       "      <td>0.00</td>\n",
       "      <td>7.2</td>\n",
       "      <td>1.94</td>\n",
       "    </tr>\n",
       "    <tr>\n",
       "      <th>3</th>\n",
       "      <td>1.30</td>\n",
       "      <td>6.5</td>\n",
       "      <td>1.70</td>\n",
       "    </tr>\n",
       "    <tr>\n",
       "      <th>4</th>\n",
       "      <td>3.80</td>\n",
       "      <td>19.1</td>\n",
       "      <td>4.85</td>\n",
       "    </tr>\n",
       "    <tr>\n",
       "      <th>...</th>\n",
       "      <td>...</td>\n",
       "      <td>...</td>\n",
       "      <td>...</td>\n",
       "    </tr>\n",
       "    <tr>\n",
       "      <th>35524</th>\n",
       "      <td>2.75</td>\n",
       "      <td>15.0</td>\n",
       "      <td>2.00</td>\n",
       "    </tr>\n",
       "    <tr>\n",
       "      <th>35525</th>\n",
       "      <td>2.44</td>\n",
       "      <td>13.5</td>\n",
       "      <td>3.20</td>\n",
       "    </tr>\n",
       "    <tr>\n",
       "      <th>35526</th>\n",
       "      <td>1.40</td>\n",
       "      <td>9.3</td>\n",
       "      <td>2.36</td>\n",
       "    </tr>\n",
       "    <tr>\n",
       "      <th>35527</th>\n",
       "      <td>2.47</td>\n",
       "      <td>13.5</td>\n",
       "      <td>3.75</td>\n",
       "    </tr>\n",
       "    <tr>\n",
       "      <th>35528</th>\n",
       "      <td>1.39</td>\n",
       "      <td>11.4</td>\n",
       "      <td>4.17</td>\n",
       "    </tr>\n",
       "  </tbody>\n",
       "</table>\n",
       "<p>35529 rows × 3 columns</p>\n",
       "</div>"
      ],
      "text/plain": [
       "       trip_distance  fare_amount  tip_amount\n",
       "0               2.58         14.9        4.03\n",
       "1               1.81         10.7        2.64\n",
       "2               0.00          7.2        1.94\n",
       "3               1.30          6.5        1.70\n",
       "4               3.80         19.1        4.85\n",
       "...              ...          ...         ...\n",
       "35524           2.75         15.0        2.00\n",
       "35525           2.44         13.5        3.20\n",
       "35526           1.40          9.3        2.36\n",
       "35527           2.47         13.5        3.75\n",
       "35528           1.39         11.4        4.17\n",
       "\n",
       "[35529 rows x 3 columns]"
      ]
     },
     "execution_count": 16,
     "metadata": {},
     "output_type": "execute_result"
    }
   ],
   "source": [
    "tlcReg"
   ]
  },
  {
   "cell_type": "markdown",
   "metadata": {},
   "source": [
    "## Simple Regression"
   ]
  },
  {
   "cell_type": "code",
   "execution_count": 17,
   "metadata": {},
   "outputs": [
    {
     "name": "stdout",
     "output_type": "stream",
     "text": [
      "                            OLS Regression Results                            \n",
      "==============================================================================\n",
      "Dep. Variable:             tip_amount   R-squared:                       0.497\n",
      "Model:                            OLS   Adj. R-squared:                  0.497\n",
      "Method:                 Least Squares   F-statistic:                 3.516e+04\n",
      "Date:                Mon, 18 Sep 2023   Prob (F-statistic):               0.00\n",
      "Time:                        21:06:57   Log-Likelihood:                -72412.\n",
      "No. Observations:               35529   AIC:                         1.448e+05\n",
      "Df Residuals:                   35527   BIC:                         1.448e+05\n",
      "Df Model:                           1                                         \n",
      "Covariance Type:            nonrobust                                         \n",
      "===============================================================================\n",
      "                  coef    std err          t      P>|t|      [0.025      0.975]\n",
      "-------------------------------------------------------------------------------\n",
      "const           0.8681      0.018     48.960      0.000       0.833       0.903\n",
      "fare_amount     0.1731      0.001    187.504      0.000       0.171       0.175\n",
      "==============================================================================\n",
      "Omnibus:                    27235.968   Durbin-Watson:                   1.985\n",
      "Prob(Omnibus):                  0.000   Jarque-Bera (JB):          7969999.930\n",
      "Skew:                           2.674   Prob(JB):                         0.00\n",
      "Kurtosis:                      76.179   Cond. No.                         34.6\n",
      "==============================================================================\n",
      "\n",
      "Notes:\n",
      "[1] Standard Errors assume that the covariance matrix of the errors is correctly specified.\n"
     ]
    }
   ],
   "source": [
    "# Simple 1 feature Regression model\n",
    "# total_bill as X\n",
    "# tip as Y\n",
    "\n",
    "#Create regression model sm.OLS(Y, X) , Method: Ordinary Least Squared (Memprediksi error paling kecil dgn pendekatan linear) \n",
    "reg_model = sm.OLS(tlcReg['tip_amount'], sm.add_constant(tlcReg['fare_amount']))\n",
    "#\n",
    "hasil = reg_model.fit()\n",
    "\n",
    "print(hasil.summary())"
   ]
  },
  {
   "cell_type": "markdown",
   "metadata": {},
   "source": [
    "\n",
    "**Interpreting results from Key Parameters :**\n",
    "\n",
    "- R Squared: Berapa besar pengaruh X terhadap Y (X mempengaruhi tips sebesar 49.7%)\n",
    "- Prob (F Statistic): uji keseluruhan/overall apakah Beta memberikan pengaruh (p value = 0.00, < 0.05, maka tolak H0 )\n",
    "    - H0: Beta = 0, Beta tidak signifikan terhadap model \n",
    "    - H1: Beta != 0, Beta signifikan terhadap model\n",
    "- Uji parsial, Check P > |t| , jika < 0.05 bisa dipakai untuk persamaan prediksi, semua 0.00 < 0.05\n",
    "    - const coef = 0.8681\n",
    "    - toal_bill coef = 0.1731\n",
    "\n",
    "\n",
    "**Interpretasi:**\n",
    "\n",
    "Y = B0 + B1X1\n",
    "\n",
    "Y = 0.8681 + 0.1731\n"
   ]
  },
  {
   "cell_type": "code",
   "execution_count": 18,
   "metadata": {},
   "outputs": [],
   "source": [
    "#Prediction Model, tips(x) based on fare_amount\n",
    "\n",
    "def tips_pred(x):\n",
    "    Y = 0.8681 + (0.1731*x)\n",
    "    return Y"
   ]
  },
  {
   "cell_type": "code",
   "execution_count": 19,
   "metadata": {},
   "outputs": [
    {
     "data": {
      "text/plain": [
       "3.20495"
      ]
     },
     "execution_count": 19,
     "metadata": {},
     "output_type": "execute_result"
    }
   ],
   "source": [
    "#Coba prediksi jumlah tips jika fare amount 13.5\n",
    "\n",
    "tips_pred(13.5)"
   ]
  },
  {
   "cell_type": "markdown",
   "metadata": {},
   "source": [
    "## Multiple Regression"
   ]
  },
  {
   "cell_type": "code",
   "execution_count": 20,
   "metadata": {},
   "outputs": [
    {
     "name": "stdout",
     "output_type": "stream",
     "text": [
      "                            OLS Regression Results                            \n",
      "==============================================================================\n",
      "Dep. Variable:             tip_amount   R-squared:                       0.497\n",
      "Model:                            OLS   Adj. R-squared:                  0.497\n",
      "Method:                 Least Squares   F-statistic:                 1.758e+04\n",
      "Date:                Mon, 18 Sep 2023   Prob (F-statistic):               0.00\n",
      "Time:                        21:06:57   Log-Likelihood:                -72412.\n",
      "No. Observations:               35529   AIC:                         1.448e+05\n",
      "Df Residuals:                   35526   BIC:                         1.449e+05\n",
      "Df Model:                           2                                         \n",
      "Covariance Type:            nonrobust                                         \n",
      "=================================================================================\n",
      "                    coef    std err          t      P>|t|      [0.025      0.975]\n",
      "---------------------------------------------------------------------------------\n",
      "const             0.8678      0.018     48.876      0.000       0.833       0.903\n",
      "fare_amount       0.1731      0.001    180.546      0.000       0.171       0.175\n",
      "trip_distance    -0.0003      0.001     -0.247      0.805      -0.003       0.002\n",
      "==============================================================================\n",
      "Omnibus:                    27235.459   Durbin-Watson:                   1.985\n",
      "Prob(Omnibus):                  0.000   Jarque-Bera (JB):          7970277.340\n",
      "Skew:                           2.674   Prob(JB):                         0.00\n",
      "Kurtosis:                      76.180   Cond. No.                         35.4\n",
      "==============================================================================\n",
      "\n",
      "Notes:\n",
      "[1] Standard Errors assume that the covariance matrix of the errors is correctly specified.\n"
     ]
    }
   ],
   "source": [
    "# Simple 2 feature Regression model\n",
    "# total_bill as X\n",
    "# tip as Y\n",
    "\n",
    "#Create regression model sm.OLS(Y, X) , Method: Ordinary Least Squared (Memprediksi error paling kecil dgn pendekatan linear) \n",
    "reg_model = sm.OLS(tlcReg['tip_amount'], sm.add_constant(tlcReg[['fare_amount', 'trip_distance']]))\n",
    "#\n",
    "hasil = reg_model.fit()\n",
    "\n",
    "print(hasil.summary())"
   ]
  }
 ],
 "metadata": {
  "kernelspec": {
   "display_name": ".venv",
   "language": "python",
   "name": "python3"
  },
  "language_info": {
   "codemirror_mode": {
    "name": "ipython",
    "version": 3
   },
   "file_extension": ".py",
   "mimetype": "text/x-python",
   "name": "python",
   "nbconvert_exporter": "python",
   "pygments_lexer": "ipython3",
   "version": "3.11.4"
  },
  "orig_nbformat": 4
 },
 "nbformat": 4,
 "nbformat_minor": 2
}
